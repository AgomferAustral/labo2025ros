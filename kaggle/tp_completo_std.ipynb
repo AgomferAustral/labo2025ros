{
  "cells": [
    {
      "cell_type": "markdown",
      "id": "859d38e7-11c0-48bc-978a-d0e907f19ed1",
      "metadata": {
        "id": "859d38e7-11c0-48bc-978a-d0e907f19ed1"
      },
      "source": [
        "# 8 WorkFlow  Semillerio\n",
        "## Este es un archivo base que incluye ajuste por \"inflacion\" -> usando ranking con cero fijo\n",
        "El codigo esta copiado del repositorio _senior_ como mencionó Natalia en Zulip.\n",
        "** Está hecho de esta forma para usar en los tres experimentos a ensamblar. **\n",
        "Tomo como referencia el _semillerio_ al que le agrego el ajuste por inflación.\n"
      ]
    },
    {
      "cell_type": "markdown",
      "id": "29c586e3-ed7d-44b2-92a0-f19669f06940",
      "metadata": {
        "id": "29c586e3-ed7d-44b2-92a0-f19669f06940"
      },
      "source": [
        "### 8.1 Objetivo"
      ]
    },
    {
      "cell_type": "markdown",
      "id": "6fff8327-10ed-4b11-bbee-f1c3f357d123",
      "metadata": {
        "id": "6fff8327-10ed-4b11-bbee-f1c3f357d123"
      },
      "source": [
        "Presentar un workflow/pipeline completo al que los estudiantes deberán enriquecer"
      ]
    },
    {
      "cell_type": "markdown",
      "id": "PX0qg_c0yqob",
      "metadata": {
        "id": "PX0qg_c0yqob"
      },
      "source": [
        "#### 8.2  Seteo del ambiente en Google Colab"
      ]
    },
    {
      "cell_type": "markdown",
      "id": "NGY7H9xza7Zr",
      "metadata": {
        "id": "NGY7H9xza7Zr"
      },
      "source": [
        "Esta parte se debe correr con el runtime en Python3\n",
        "<br>Ir al menu, Runtime -> Change Runtime Type -> Runtime type ->  **Python 3**"
      ]
    },
    {
      "cell_type": "markdown",
      "id": "7PupIBNba7Zr",
      "metadata": {
        "id": "7PupIBNba7Zr"
      },
      "source": [
        "Conectar la virtual machine donde esta corriendo Google Colab con el  Google Drive, para poder tener persistencia de archivos"
      ]
    },
    {
      "cell_type": "code",
      "execution_count": null,
      "id": "9LpZCst5a7Zs",
      "metadata": {
        "colab": {
          "base_uri": "https://localhost:8080/"
        },
        "id": "9LpZCst5a7Zs",
        "outputId": "6232a0e4-4125-4ee4-8367-f5f75c625502"
      },
      "outputs": [
        {
          "output_type": "stream",
          "name": "stdout",
          "text": [
            "Mounted at /content/.drive\n"
          ]
        }
      ],
      "source": [
        "# primero establecer el Runtime de Python 3\n",
        "from google.colab import drive\n",
        "drive.mount('/content/.drive')"
      ]
    },
    {
      "cell_type": "markdown",
      "id": "JYC_F-wla7Zs",
      "metadata": {
        "id": "JYC_F-wla7Zs"
      },
      "source": [
        "Para correr la siguiente celda es fundamental en Arranque en Frio haber copiado el archivo kaggle.json al Google Drive, en la carpeta indicada en el instructivo\n",
        "\n",
        "<br>los siguientes comando estan en shell script de Linux\n",
        "*   Crear las carpetas en el Google Drive\n",
        "*   \"instalar\" el archivo kaggle.json desde el Google Drive a la virtual machine para que pueda ser utilizado por la libreria  kaggle de Python\n",
        "*   Bajar el  **dataset_pequeno**  al  Google Drive  y tambien al disco local de la virtual machine que esta corriendo Google Colab\n",
        "*   Bajar el **dataset_historico** al Google Drive y tambien al disco local de la virtual machine que esta corriendo Google Colab\n",
        "\n"
      ]
    },
    {
      "cell_type": "markdown",
      "id": "4fcqHsG9hdlx",
      "metadata": {
        "id": "4fcqHsG9hdlx"
      },
      "source": [
        "*  Si usted eligió modalidad *Gerencial* entonces NO debe modificar nada, su liderazgo logró que otras trabajaron por usted\n",
        "*  Si usted eligió modalidad de *Analista Junior*, entonces donde dice archivo=\"gerencial_competencia_2025.csv.gz\"  lo debe cambiar por  archivo=\"analistajr_competencia_2025.csv.gz\"\n",
        "*  Si usted eligió modalidad *Analista Senior*,  ya se las ingenierá SIN preguntar !"
      ]
    },
    {
      "cell_type": "code",
      "execution_count": null,
      "id": "XWLelftXa7Zt",
      "metadata": {
        "colab": {
          "base_uri": "https://localhost:8080/"
        },
        "id": "XWLelftXa7Zt",
        "outputId": "ae71c147-7bbd-40f9-8813-47a472043524"
      },
      "outputs": [
        {
          "output_type": "execute_result",
          "data": {
            "text/plain": []
          },
          "metadata": {},
          "execution_count": 2
        }
      ],
      "source": [
        "%%shell\n",
        "\n",
        "mkdir -p \"/content/.drive/My Drive/labo1\"\n",
        "mkdir -p \"/content/buckets\"\n",
        "ln -s \"/content/.drive/My Drive/labo1\" /content/buckets/b1\n",
        "\n",
        "mkdir -p ~/.kaggle\n",
        "cp /content/buckets/b1/kaggle/kaggle.json  ~/.kaggle\n",
        "chmod 600 ~/.kaggle/kaggle.json\n",
        "\n",
        "\n",
        "mkdir -p /content/buckets/b1/exp\n",
        "mkdir -p /content/buckets/b1/datasets\n",
        "mkdir -p /content/datasets\n",
        "\n",
        "\n",
        "webfiles=\"https://storage.googleapis.com/open-courses/austral2025-af91/labo1r\"\n",
        "destino_local=\"/content/datasets\"\n",
        "destino_bucket=\"/content/buckets/b1/datasets\"\n",
        "\n",
        "\n",
        "archivo=\"dataset_pequeno.csv\"\n",
        "\n",
        "if ! test -f $destino_bucket/$archivo; then\n",
        "  wget  $webfiles/$archivo  -O $destino_bucket/$archivo\n",
        "fi\n",
        "\n",
        "\n",
        "if ! test -f $destino_local/$pequeno; then\n",
        "  cp  $destino_bucket/$archivo  $destino_local/$archivo\n",
        "fi\n",
        "\n",
        "#-------\n",
        "\n",
        "archivo=\"gerencial_competencia_2025.csv.gz\"\n",
        "\n",
        "if ! test -f $destino_bucket/$archivo; then\n",
        "  wget  $webfiles/$archivo  -O $destino_bucket/$archivo\n",
        "fi\n",
        "\n",
        "\n",
        "if ! test -f $destino_local/$pequeno; then\n",
        "  cp  $destino_bucket/$archivo  $destino_local/$archivo\n",
        "fi\n"
      ]
    },
    {
      "cell_type": "markdown",
      "id": "oSKhZRToy2F7",
      "metadata": {
        "id": "oSKhZRToy2F7"
      },
      "source": [
        "## 8.3  Workflow Semillerio"
      ]
    },
    {
      "cell_type": "markdown",
      "id": "85171302-a2d6-48cb-b9b2-8d839a276859",
      "metadata": {
        "id": "85171302-a2d6-48cb-b9b2-8d839a276859"
      },
      "source": [
        "## Inicializacion"
      ]
    },
    {
      "cell_type": "markdown",
      "id": "eSU5vi00CPRS",
      "metadata": {
        "id": "eSU5vi00CPRS"
      },
      "source": [
        "Esta parte se debe correr con el runtime en lenguaje **R** Ir al menu, Runtime -> Change Runtime Type -> Runtime type -> R"
      ]
    },
    {
      "cell_type": "markdown",
      "id": "Zq8dySimCPRT",
      "metadata": {
        "id": "Zq8dySimCPRT"
      },
      "source": [
        "limpio el ambiente de R"
      ]
    },
    {
      "cell_type": "code",
      "execution_count": null,
      "id": "EL8wdHaUs59K",
      "metadata": {
        "colab": {
          "base_uri": "https://localhost:8080/",
          "height": 34
        },
        "id": "EL8wdHaUs59K",
        "outputId": "3ac98eeb-e8b9-44cd-a2f6-2351c8134bc8"
      },
      "outputs": [
        {
          "output_type": "display_data",
          "data": {
            "text/html": [
              "'Sun Jul 20 11:00:38 PM 2025'"
            ],
            "text/markdown": "'Sun Jul 20 11:00:38 PM 2025'",
            "text/latex": "'Sun Jul 20 11:00:38 PM 2025'",
            "text/plain": [
              "[1] \"Sun Jul 20 11:00:38 PM 2025\""
            ]
          },
          "metadata": {}
        }
      ],
      "source": [
        "format(Sys.time(), \"%a %b %d %X %Y\")"
      ]
    },
    {
      "cell_type": "code",
      "execution_count": null,
      "id": "1iE0U4_WCPRT",
      "metadata": {
        "colab": {
          "base_uri": "https://localhost:8080/",
          "height": 129
        },
        "id": "1iE0U4_WCPRT",
        "outputId": "6e5105af-fbed-4646-ead1-e388f09d3bb7"
      },
      "outputs": [
        {
          "output_type": "display_data",
          "data": {
            "text/html": [
              "<table class=\"dataframe\">\n",
              "<caption>A matrix: 2 × 6 of type dbl</caption>\n",
              "<thead>\n",
              "\t<tr><th></th><th scope=col>used</th><th scope=col>(Mb)</th><th scope=col>gc trigger</th><th scope=col>(Mb)</th><th scope=col>max used</th><th scope=col>(Mb)</th></tr>\n",
              "</thead>\n",
              "<tbody>\n",
              "\t<tr><th scope=row>Ncells</th><td>2465555</td><td>131.7</td><td> 5960914</td><td>318.4</td><td>  5960914</td><td>318.4</td></tr>\n",
              "\t<tr><th scope=row>Vcells</th><td>4968034</td><td> 38.0</td><td>93800653</td><td>715.7</td><td>117174014</td><td>894.0</td></tr>\n",
              "</tbody>\n",
              "</table>\n"
            ],
            "text/markdown": "\nA matrix: 2 × 6 of type dbl\n\n| <!--/--> | used | (Mb) | gc trigger | (Mb) | max used | (Mb) |\n|---|---|---|---|---|---|---|\n| Ncells | 2465555 | 131.7 |  5960914 | 318.4 |   5960914 | 318.4 |\n| Vcells | 4968034 |  38.0 | 93800653 | 715.7 | 117174014 | 894.0 |\n\n",
            "text/latex": "A matrix: 2 × 6 of type dbl\n\\begin{tabular}{r|llllll}\n  & used & (Mb) & gc trigger & (Mb) & max used & (Mb)\\\\\n\\hline\n\tNcells & 2465555 & 131.7 &  5960914 & 318.4 &   5960914 & 318.4\\\\\n\tVcells & 4968034 &  38.0 & 93800653 & 715.7 & 117174014 & 894.0\\\\\n\\end{tabular}\n",
            "text/plain": [
              "       used    (Mb)  gc trigger (Mb)  max used  (Mb) \n",
              "Ncells 2465555 131.7  5960914   318.4   5960914 318.4\n",
              "Vcells 4968034  38.0 93800653   715.7 117174014 894.0"
            ]
          },
          "metadata": {}
        }
      ],
      "source": [
        "# limpio la memoria\n",
        "rm(list=ls(all.names=TRUE)) # remove all objects\n",
        "gc(full=TRUE, verbose=FALSE) # garbage collection"
      ]
    },
    {
      "cell_type": "code",
      "execution_count": null,
      "id": "atmIUEUNUrK5",
      "metadata": {
        "id": "atmIUEUNUrK5"
      },
      "outputs": [],
      "source": [
        "require(\"data.table\")\n",
        "\n",
        "if( !require(\"R.utils\")) install.packages(\"R.utils\")\n",
        "require(\"R.utils\")"
      ]
    },
    {
      "cell_type": "markdown",
      "id": "BsxZ_ONyj9L_",
      "metadata": {
        "id": "BsxZ_ONyj9L_"
      },
      "source": [
        "#### Parametros\n",
        "Si es gerente, no cambie nada\n",
        "<br>Si es Analista, cambie el nombre del dataset"
      ]
    },
    {
      "cell_type": "markdown",
      "id": "Eqmof6d35Spn",
      "metadata": {
        "id": "Eqmof6d35Spn"
      },
      "source": [
        "### Usted DEBE ambiar \"PARAM experimento\" cada vez que desee correr un nuevo experimento"
      ]
    },
    {
      "cell_type": "code",
      "execution_count": null,
      "id": "peRH7ySLCPRV",
      "metadata": {
        "id": "peRH7ySLCPRV"
      },
      "outputs": [],
      "source": [
        "PARAM <- list()\n",
        "PARAM$semilla_primigenia <- 888877\n",
        "\n",
        "PARAM$experimento <- \"completo-std-77b\"\n",
        "PARAM$dataset <- \"gerencial_competencia_2025.csv.gz\""
      ]
    },
    {
      "cell_type": "markdown",
      "id": "NoJbKo_4NG8A",
      "metadata": {
        "id": "NoJbKo_4NG8A"
      },
      "source": [
        "#### Carpeta del Experimento"
      ]
    },
    {
      "cell_type": "code",
      "execution_count": null,
      "id": "1gZD6ZMvCPRV",
      "metadata": {
        "id": "1gZD6ZMvCPRV"
      },
      "outputs": [],
      "source": [
        "# carpeta de trabajo\n",
        "\n",
        "setwd(\"/content/buckets/b1/exp\")\n",
        "experimento_folder <- paste0(\"WF\", PARAM$experimento)\n",
        "dir.create(experimento_folder, showWarnings=FALSE)\n",
        "setwd( paste0(\"/content/buckets/b1/exp/\", experimento_folder ))"
      ]
    },
    {
      "cell_type": "markdown",
      "id": "YVKBfLtkR8SO",
      "metadata": {
        "id": "YVKBfLtkR8SO"
      },
      "source": [
        "### 8.3.1   Preprocesamiento del dataset"
      ]
    },
    {
      "cell_type": "markdown",
      "id": "cr3K0RPVRjq6",
      "metadata": {
        "id": "cr3K0RPVRjq6"
      },
      "source": [
        "#### 8.3.1.1  DT incorporar dataset"
      ]
    },
    {
      "cell_type": "code",
      "execution_count": null,
      "id": "Xi0emX2ECPRV",
      "metadata": {
        "id": "Xi0emX2ECPRV"
      },
      "outputs": [],
      "source": [
        "# lectura del dataset\n",
        "dataset <- fread(paste0(\"/content/datasets/\", PARAM$dataset))"
      ]
    },
    {
      "cell_type": "markdown",
      "id": "MWuPzK3nSLY3",
      "metadata": {
        "id": "MWuPzK3nSLY3"
      },
      "source": [
        "#### 8.3.1.2  CA  Catastrophe Analysis\n",
        "Se intentan reparar las variables que para un mes están con todos los valores en cero."
      ]
    },
    {
      "cell_type": "markdown",
      "id": "UAI16-yCVcBS",
      "metadata": {
        "id": "UAI16-yCVcBS"
      },
      "source": [
        "El método que se utiliza es **Machine Learning** se asigna NA a los valores, si ha leido bien, es la \"anti imputación de valores faltantes\"\n",
        "<br> Usted podrá aplicar aquí otros métodos. - Lo dejamos asi porque no se notó diferencia significativa en los experimentos colaborativos."
      ]
    },
    {
      "cell_type": "code",
      "execution_count": null,
      "id": "sTmliO_FXv9E",
      "metadata": {
        "id": "sTmliO_FXv9E"
      },
      "outputs": [],
      "source": [
        "dataset[ foto_mes==202006, internet:=NA]\n",
        "dataset[ foto_mes==202006, mrentabilidad:=NA]\n",
        "dataset[ foto_mes==202006, mrentabilidad_annual:=NA]\n",
        "dataset[ foto_mes==202006, mcomisiones:=NA]\n",
        "dataset[ foto_mes==202006, mactivos_margen:=NA]\n",
        "dataset[ foto_mes==202006, mpasivos_margen:=NA]\n",
        "dataset[ foto_mes==202006, mcuentas_saldo:=NA]\n",
        "dataset[ foto_mes==202006, ctarjeta_visa_transacciones:=NA]\n",
        "dataset[ foto_mes==202006, mtarjeta_visa_consumo:=NA]\n",
        "dataset[ foto_mes==202006, mtarjeta_master_consumo:=NA]\n",
        "dataset[ foto_mes==202006, ccallcenter_transacciones:=NA]\n",
        "dataset[ foto_mes==202006, chomebanking_transacciones:=NA]\n",
        "dataset[ foto_mes==202006, chomebanking_transacciones:=NA]"
      ]
    },
    {
      "cell_type": "markdown",
      "id": "-4NiANYFSYHG",
      "metadata": {
        "id": "-4NiANYFSYHG"
      },
      "source": [
        "#### 8.3.1.3  DR  Data Drifting\n",
        "Se intenta corregir el data drifting, quizas ajustando por IPC ...\n",
        "<br>Esta parte podrá ser abordada por todos los Analistas y también la Gerenciapero se decide pedagogicamente no incluirla en esta primer version para reducir la carga cognitiva"
      ]
    },
    {
      "cell_type": "code",
      "execution_count": null,
      "id": "L85A2lwKSe3k",
      "metadata": {
        "id": "L85A2lwKSe3k"
      },
      "outputs": [],
      "source": [
        "# El cero se transforma en cero\n",
        "# los positivos se rankean por su lado\n",
        "# los negativos se rankean por su lado\n",
        "\n",
        "drift_rank_cero_fijo <- function(campos_drift) {\n",
        "\n",
        "  cat( \"inicio drift_rank_cero_fijo()\\n\")\n",
        "  for (campo in campos_drift)\n",
        "  {\n",
        "    cat(campo, \" \")\n",
        "    dataset[get(campo) == 0, paste0(campo, \"_rank\") := 0]\n",
        "    dataset[get(campo) > 0, paste0(campo, \"_rank\") :=\n",
        "      frank(get(campo), ties.method = \"random\") / .N, by = list(foto_mes)]\n",
        "\n",
        "    dataset[get(campo) < 0, paste0(campo, \"_rank\") :=\n",
        "      -frank(-get(campo), ties.method = \"random\") / .N, by = list(foto_mes)]\n",
        "    dataset[, (campo) := NULL]\n",
        "  }\n",
        "  cat(\"\\n\")\n",
        "  cat( \"fin drift_rank_cero_fijo()\\n\")\n",
        "}"
      ]
    },
    {
      "cell_type": "code",
      "execution_count": null,
      "id": "a03e9453",
      "metadata": {
        "colab": {
          "base_uri": "https://localhost:8080/",
          "height": 52
        },
        "id": "a03e9453",
        "outputId": "aeb68b9f-167b-4c14-e687-0e0b27543c33"
      },
      "outputs": [
        {
          "output_type": "display_data",
          "data": {
            "text/html": [
              "<style>\n",
              ".list-inline {list-style: none; margin:0; padding: 0}\n",
              ".list-inline>li {display: inline-block}\n",
              ".list-inline>li:not(:last-child)::after {content: \"\\00b7\"; padding: 0 .5ex}\n",
              "</style>\n",
              "<ol class=list-inline><li>'mrentabilidad'</li><li>'mrentabilidad_annual'</li><li>'mcomisiones'</li><li>'mactivos_margen'</li><li>'mpasivos_margen'</li><li>'mcuenta_corriente'</li><li>'mcaja_ahorro'</li><li>'mcuentas_saldo'</li><li>'mtarjeta_visa_consumo'</li><li>'mtarjeta_master_consumo'</li><li>'mprestamos_personales'</li><li>'mpayroll'</li><li>'Master_mpagominimo'</li><li>'Visa_mpagominimo'</li></ol>\n"
            ],
            "text/markdown": "1. 'mrentabilidad'\n2. 'mrentabilidad_annual'\n3. 'mcomisiones'\n4. 'mactivos_margen'\n5. 'mpasivos_margen'\n6. 'mcuenta_corriente'\n7. 'mcaja_ahorro'\n8. 'mcuentas_saldo'\n9. 'mtarjeta_visa_consumo'\n10. 'mtarjeta_master_consumo'\n11. 'mprestamos_personales'\n12. 'mpayroll'\n13. 'Master_mpagominimo'\n14. 'Visa_mpagominimo'\n\n\n",
            "text/latex": "\\begin{enumerate*}\n\\item 'mrentabilidad'\n\\item 'mrentabilidad\\_annual'\n\\item 'mcomisiones'\n\\item 'mactivos\\_margen'\n\\item 'mpasivos\\_margen'\n\\item 'mcuenta\\_corriente'\n\\item 'mcaja\\_ahorro'\n\\item 'mcuentas\\_saldo'\n\\item 'mtarjeta\\_visa\\_consumo'\n\\item 'mtarjeta\\_master\\_consumo'\n\\item 'mprestamos\\_personales'\n\\item 'mpayroll'\n\\item 'Master\\_mpagominimo'\n\\item 'Visa\\_mpagominimo'\n\\end{enumerate*}\n",
            "text/plain": [
              " [1] \"mrentabilidad\"           \"mrentabilidad_annual\"   \n",
              " [3] \"mcomisiones\"             \"mactivos_margen\"        \n",
              " [5] \"mpasivos_margen\"         \"mcuenta_corriente\"      \n",
              " [7] \"mcaja_ahorro\"            \"mcuentas_saldo\"         \n",
              " [9] \"mtarjeta_visa_consumo\"   \"mtarjeta_master_consumo\"\n",
              "[11] \"mprestamos_personales\"   \"mpayroll\"               \n",
              "[13] \"Master_mpagominimo\"      \"Visa_mpagominimo\"       "
            ]
          },
          "metadata": {}
        }
      ],
      "source": [
        "# por como armé los nombres de campos,\n",
        "#  estos son los campos que expresan variables monetarias\n",
        "campos_monetarios <- colnames(dataset)\n",
        "campos_monetarios <- campos_monetarios[campos_monetarios %like%\n",
        "  \"^(m|Visa_m|Master_m|vm_m)\"]\n",
        "\n",
        "campos_monetarios"
      ]
    },
    {
      "cell_type": "code",
      "execution_count": null,
      "id": "c133b470",
      "metadata": {
        "colab": {
          "base_uri": "https://localhost:8080/"
        },
        "id": "c133b470",
        "outputId": "ca52ba25-1501-41e9-b032-1073006ecde9"
      },
      "outputs": [
        {
          "output_type": "stream",
          "name": "stdout",
          "text": [
            "inicio drift_rank_cero_fijo()\n",
            "mrentabilidad  mrentabilidad_annual  mcomisiones  mactivos_margen  mpasivos_margen  mcuenta_corriente  mcaja_ahorro  mcuentas_saldo  mtarjeta_visa_consumo  mtarjeta_master_consumo  mprestamos_personales  mpayroll  Master_mpagominimo  Visa_mpagominimo  \n",
            "fin drift_rank_cero_fijo()\n"
          ]
        }
      ],
      "source": [
        "# ejecuto el Data Drifting\n",
        "setorder( dataset, numero_de_cliente, foto_mes )\n",
        "\n",
        "\n",
        "PARAM$DR$metodo <- \"rank_cero_fijo\"\n",
        "\n",
        "switch(PARAM$DR$metodo,\n",
        "  \"ninguno\"        = cat(\"No hay correccion del data drifting\"),\n",
        "  \"rank_simple\"    = drift_rank_simple(campos_monetarios),\n",
        "  \"rank_cero_fijo\" = drift_rank_cero_fijo(campos_monetarios),\n",
        "  \"deflacion\"      = drift_deflacion(campos_monetarios),\n",
        "  \"dolar_blue\"     = drift_dolarblue(campos_monetarios),\n",
        "  \"dolar_oficial\"  = drift_dolaroficial(campos_monetarios),\n",
        "  \"UVA\"            = drift_UVA(campos_monetarios),\n",
        "  \"estandarizar\"   = drift_estandarizar(campos_monetarios)\n",
        ")\n"
      ]
    },
    {
      "cell_type": "code",
      "execution_count": null,
      "id": "06b7d5c9",
      "metadata": {
        "colab": {
          "base_uri": "https://localhost:8080/",
          "height": 69
        },
        "id": "06b7d5c9",
        "outputId": "4f89e4a0-8dcb-400b-bf73-3592b38d980c"
      },
      "outputs": [
        {
          "output_type": "display_data",
          "data": {
            "text/html": [
              "<style>\n",
              ".list-inline {list-style: none; margin:0; padding: 0}\n",
              ".list-inline>li {display: inline-block}\n",
              ".list-inline>li:not(:last-child)::after {content: \"\\00b7\"; padding: 0 .5ex}\n",
              "</style>\n",
              "<ol class=list-inline><li>'numero_de_cliente'</li><li>'foto_mes'</li><li>'internet'</li><li>'cliente_edad'</li><li>'cliente_antiguedad'</li><li>'cproductos'</li><li>'cdescubierto_preacordado'</li><li>'ctarjeta_visa_transacciones'</li><li>'cpayroll_trx'</li><li>'ccomisiones_mantenimiento'</li><li>'ccallcenter_transacciones'</li><li>'chomebanking_transacciones'</li><li>'ctrx_quarter'</li><li>'Master_status'</li><li>'Master_fechaalta'</li><li>'Visa_status'</li><li>'Visa_fechaalta'</li><li>'clase_ternaria'</li><li>'mrentabilidad_rank'</li><li>'mrentabilidad_annual_rank'</li><li>'mcomisiones_rank'</li><li>'mactivos_margen_rank'</li><li>'mpasivos_margen_rank'</li><li>'mcuenta_corriente_rank'</li><li>'mcaja_ahorro_rank'</li><li>'mcuentas_saldo_rank'</li><li>'mtarjeta_visa_consumo_rank'</li><li>'mtarjeta_master_consumo_rank'</li><li>'mprestamos_personales_rank'</li><li>'mpayroll_rank'</li><li>'Master_mpagominimo_rank'</li><li>'Visa_mpagominimo_rank'</li></ol>\n"
            ],
            "text/markdown": "1. 'numero_de_cliente'\n2. 'foto_mes'\n3. 'internet'\n4. 'cliente_edad'\n5. 'cliente_antiguedad'\n6. 'cproductos'\n7. 'cdescubierto_preacordado'\n8. 'ctarjeta_visa_transacciones'\n9. 'cpayroll_trx'\n10. 'ccomisiones_mantenimiento'\n11. 'ccallcenter_transacciones'\n12. 'chomebanking_transacciones'\n13. 'ctrx_quarter'\n14. 'Master_status'\n15. 'Master_fechaalta'\n16. 'Visa_status'\n17. 'Visa_fechaalta'\n18. 'clase_ternaria'\n19. 'mrentabilidad_rank'\n20. 'mrentabilidad_annual_rank'\n21. 'mcomisiones_rank'\n22. 'mactivos_margen_rank'\n23. 'mpasivos_margen_rank'\n24. 'mcuenta_corriente_rank'\n25. 'mcaja_ahorro_rank'\n26. 'mcuentas_saldo_rank'\n27. 'mtarjeta_visa_consumo_rank'\n28. 'mtarjeta_master_consumo_rank'\n29. 'mprestamos_personales_rank'\n30. 'mpayroll_rank'\n31. 'Master_mpagominimo_rank'\n32. 'Visa_mpagominimo_rank'\n\n\n",
            "text/latex": "\\begin{enumerate*}\n\\item 'numero\\_de\\_cliente'\n\\item 'foto\\_mes'\n\\item 'internet'\n\\item 'cliente\\_edad'\n\\item 'cliente\\_antiguedad'\n\\item 'cproductos'\n\\item 'cdescubierto\\_preacordado'\n\\item 'ctarjeta\\_visa\\_transacciones'\n\\item 'cpayroll\\_trx'\n\\item 'ccomisiones\\_mantenimiento'\n\\item 'ccallcenter\\_transacciones'\n\\item 'chomebanking\\_transacciones'\n\\item 'ctrx\\_quarter'\n\\item 'Master\\_status'\n\\item 'Master\\_fechaalta'\n\\item 'Visa\\_status'\n\\item 'Visa\\_fechaalta'\n\\item 'clase\\_ternaria'\n\\item 'mrentabilidad\\_rank'\n\\item 'mrentabilidad\\_annual\\_rank'\n\\item 'mcomisiones\\_rank'\n\\item 'mactivos\\_margen\\_rank'\n\\item 'mpasivos\\_margen\\_rank'\n\\item 'mcuenta\\_corriente\\_rank'\n\\item 'mcaja\\_ahorro\\_rank'\n\\item 'mcuentas\\_saldo\\_rank'\n\\item 'mtarjeta\\_visa\\_consumo\\_rank'\n\\item 'mtarjeta\\_master\\_consumo\\_rank'\n\\item 'mprestamos\\_personales\\_rank'\n\\item 'mpayroll\\_rank'\n\\item 'Master\\_mpagominimo\\_rank'\n\\item 'Visa\\_mpagominimo\\_rank'\n\\end{enumerate*}\n",
            "text/plain": [
              " [1] \"numero_de_cliente\"            \"foto_mes\"                    \n",
              " [3] \"internet\"                     \"cliente_edad\"                \n",
              " [5] \"cliente_antiguedad\"           \"cproductos\"                  \n",
              " [7] \"cdescubierto_preacordado\"     \"ctarjeta_visa_transacciones\" \n",
              " [9] \"cpayroll_trx\"                 \"ccomisiones_mantenimiento\"   \n",
              "[11] \"ccallcenter_transacciones\"    \"chomebanking_transacciones\"  \n",
              "[13] \"ctrx_quarter\"                 \"Master_status\"               \n",
              "[15] \"Master_fechaalta\"             \"Visa_status\"                 \n",
              "[17] \"Visa_fechaalta\"               \"clase_ternaria\"              \n",
              "[19] \"mrentabilidad_rank\"           \"mrentabilidad_annual_rank\"   \n",
              "[21] \"mcomisiones_rank\"             \"mactivos_margen_rank\"        \n",
              "[23] \"mpasivos_margen_rank\"         \"mcuenta_corriente_rank\"      \n",
              "[25] \"mcaja_ahorro_rank\"            \"mcuentas_saldo_rank\"         \n",
              "[27] \"mtarjeta_visa_consumo_rank\"   \"mtarjeta_master_consumo_rank\"\n",
              "[29] \"mprestamos_personales_rank\"   \"mpayroll_rank\"               \n",
              "[31] \"Master_mpagominimo_rank\"      \"Visa_mpagominimo_rank\"       "
            ]
          },
          "metadata": {}
        }
      ],
      "source": [
        "\n",
        "colnames(dataset)"
      ]
    },
    {
      "cell_type": "markdown",
      "id": "7sppIDYeSn5X",
      "metadata": {
        "id": "7sppIDYeSn5X"
      },
      "source": [
        "#### 8.3.1.3  FE_intra_manual Feature Engineering intra-mes\n",
        "\n",
        "Agrego campos nuevos dentro del mismo mes, SIN considerar la historia."
      ]
    },
    {
      "cell_type": "code",
      "execution_count": null,
      "id": "qrqf3j3_St3p",
      "metadata": {
        "id": "qrqf3j3_St3p"
      },
      "outputs": [],
      "source": [
        "# esta funcion atributos presentes existe debido a que las modalidades poseen datasets con distinta cantidad de campos\n",
        "atributos_presentes <- function( patributos )\n",
        "{\n",
        "  atributos <- unique( patributos )\n",
        "  comun <- intersect( atributos, colnames(dataset) )\n",
        "\n",
        "  return(  length( atributos ) == length( comun ) )\n",
        "}\n",
        "\n",
        "# el mes 1,2, ..12\n",
        "if( atributos_presentes( c(\"foto_mes\") ))\n",
        "  dataset[, kmes := foto_mes %% 100]\n",
        "\n",
        "# variable extraida de una tesis de maestria de Irlanda\n",
        "if( atributos_presentes( c(\"mpayroll\", \"cliente_edad\") ))\n",
        "  dataset[, mpayroll_sobre_edad := mpayroll / cliente_edad]\n",
        "\n",
        "\n",
        "# variable extraida de una tesis de maestria de Irlanda\n",
        "if( atributos_presentes( c(\"mpayroll\", \"cliente_edad\") ))\n",
        "  dataset[, mpayroll_por_edad := mpayroll * cliente_edad]\n"
      ]
    },
    {
      "cell_type": "code",
      "execution_count": null,
      "id": "iC4viwOdY5Kp",
      "metadata": {
        "colab": {
          "base_uri": "https://localhost:8080/",
          "height": 69
        },
        "id": "iC4viwOdY5Kp",
        "outputId": "2149678d-739d-421c-ae0f-4d28ee955d8d"
      },
      "outputs": [
        {
          "output_type": "display_data",
          "data": {
            "text/html": [
              "<style>\n",
              ".list-inline {list-style: none; margin:0; padding: 0}\n",
              ".list-inline>li {display: inline-block}\n",
              ".list-inline>li:not(:last-child)::after {content: \"\\00b7\"; padding: 0 .5ex}\n",
              "</style>\n",
              "<ol class=list-inline><li>'numero_de_cliente'</li><li>'foto_mes'</li><li>'internet'</li><li>'cliente_edad'</li><li>'cliente_antiguedad'</li><li>'cproductos'</li><li>'cdescubierto_preacordado'</li><li>'ctarjeta_visa_transacciones'</li><li>'cpayroll_trx'</li><li>'ccomisiones_mantenimiento'</li><li>'ccallcenter_transacciones'</li><li>'chomebanking_transacciones'</li><li>'ctrx_quarter'</li><li>'Master_status'</li><li>'Master_fechaalta'</li><li>'Visa_status'</li><li>'Visa_fechaalta'</li><li>'clase_ternaria'</li><li>'mrentabilidad_rank'</li><li>'mrentabilidad_annual_rank'</li><li>'mcomisiones_rank'</li><li>'mactivos_margen_rank'</li><li>'mpasivos_margen_rank'</li><li>'mcuenta_corriente_rank'</li><li>'mcaja_ahorro_rank'</li><li>'mcuentas_saldo_rank'</li><li>'mtarjeta_visa_consumo_rank'</li><li>'mtarjeta_master_consumo_rank'</li><li>'mprestamos_personales_rank'</li><li>'mpayroll_rank'</li><li>'Master_mpagominimo_rank'</li><li>'Visa_mpagominimo_rank'</li><li>'kmes'</li></ol>\n"
            ],
            "text/markdown": "1. 'numero_de_cliente'\n2. 'foto_mes'\n3. 'internet'\n4. 'cliente_edad'\n5. 'cliente_antiguedad'\n6. 'cproductos'\n7. 'cdescubierto_preacordado'\n8. 'ctarjeta_visa_transacciones'\n9. 'cpayroll_trx'\n10. 'ccomisiones_mantenimiento'\n11. 'ccallcenter_transacciones'\n12. 'chomebanking_transacciones'\n13. 'ctrx_quarter'\n14. 'Master_status'\n15. 'Master_fechaalta'\n16. 'Visa_status'\n17. 'Visa_fechaalta'\n18. 'clase_ternaria'\n19. 'mrentabilidad_rank'\n20. 'mrentabilidad_annual_rank'\n21. 'mcomisiones_rank'\n22. 'mactivos_margen_rank'\n23. 'mpasivos_margen_rank'\n24. 'mcuenta_corriente_rank'\n25. 'mcaja_ahorro_rank'\n26. 'mcuentas_saldo_rank'\n27. 'mtarjeta_visa_consumo_rank'\n28. 'mtarjeta_master_consumo_rank'\n29. 'mprestamos_personales_rank'\n30. 'mpayroll_rank'\n31. 'Master_mpagominimo_rank'\n32. 'Visa_mpagominimo_rank'\n33. 'kmes'\n\n\n",
            "text/latex": "\\begin{enumerate*}\n\\item 'numero\\_de\\_cliente'\n\\item 'foto\\_mes'\n\\item 'internet'\n\\item 'cliente\\_edad'\n\\item 'cliente\\_antiguedad'\n\\item 'cproductos'\n\\item 'cdescubierto\\_preacordado'\n\\item 'ctarjeta\\_visa\\_transacciones'\n\\item 'cpayroll\\_trx'\n\\item 'ccomisiones\\_mantenimiento'\n\\item 'ccallcenter\\_transacciones'\n\\item 'chomebanking\\_transacciones'\n\\item 'ctrx\\_quarter'\n\\item 'Master\\_status'\n\\item 'Master\\_fechaalta'\n\\item 'Visa\\_status'\n\\item 'Visa\\_fechaalta'\n\\item 'clase\\_ternaria'\n\\item 'mrentabilidad\\_rank'\n\\item 'mrentabilidad\\_annual\\_rank'\n\\item 'mcomisiones\\_rank'\n\\item 'mactivos\\_margen\\_rank'\n\\item 'mpasivos\\_margen\\_rank'\n\\item 'mcuenta\\_corriente\\_rank'\n\\item 'mcaja\\_ahorro\\_rank'\n\\item 'mcuentas\\_saldo\\_rank'\n\\item 'mtarjeta\\_visa\\_consumo\\_rank'\n\\item 'mtarjeta\\_master\\_consumo\\_rank'\n\\item 'mprestamos\\_personales\\_rank'\n\\item 'mpayroll\\_rank'\n\\item 'Master\\_mpagominimo\\_rank'\n\\item 'Visa\\_mpagominimo\\_rank'\n\\item 'kmes'\n\\end{enumerate*}\n",
            "text/plain": [
              " [1] \"numero_de_cliente\"            \"foto_mes\"                    \n",
              " [3] \"internet\"                     \"cliente_edad\"                \n",
              " [5] \"cliente_antiguedad\"           \"cproductos\"                  \n",
              " [7] \"cdescubierto_preacordado\"     \"ctarjeta_visa_transacciones\" \n",
              " [9] \"cpayroll_trx\"                 \"ccomisiones_mantenimiento\"   \n",
              "[11] \"ccallcenter_transacciones\"    \"chomebanking_transacciones\"  \n",
              "[13] \"ctrx_quarter\"                 \"Master_status\"               \n",
              "[15] \"Master_fechaalta\"             \"Visa_status\"                 \n",
              "[17] \"Visa_fechaalta\"               \"clase_ternaria\"              \n",
              "[19] \"mrentabilidad_rank\"           \"mrentabilidad_annual_rank\"   \n",
              "[21] \"mcomisiones_rank\"             \"mactivos_margen_rank\"        \n",
              "[23] \"mpasivos_margen_rank\"         \"mcuenta_corriente_rank\"      \n",
              "[25] \"mcaja_ahorro_rank\"            \"mcuentas_saldo_rank\"         \n",
              "[27] \"mtarjeta_visa_consumo_rank\"   \"mtarjeta_master_consumo_rank\"\n",
              "[29] \"mprestamos_personales_rank\"   \"mpayroll_rank\"               \n",
              "[31] \"Master_mpagominimo_rank\"      \"Visa_mpagominimo_rank\"       \n",
              "[33] \"kmes\"                        "
            ]
          },
          "metadata": {}
        }
      ],
      "source": [
        "# visualizo las columas del dataset a esta etapa\n",
        "colnames(dataset)"
      ]
    },
    {
      "cell_type": "markdown",
      "id": "9682b4ca-3ab3-4bbc-a36a-b185361e6b6b",
      "metadata": {
        "id": "9682b4ca-3ab3-4bbc-a36a-b185361e6b6b"
      },
      "source": [
        "#### 8.3.1.4  FE_rf Feature Engineering de nuevas variables a partir de hojas de Random Forest\n",
        "\n",
        "Esto se mostrará unicamente a la *modalidad Analista Sr*"
      ]
    },
    {
      "cell_type": "code",
      "execution_count": null,
      "id": "ljA3h0jOcciP",
      "metadata": {
        "id": "ljA3h0jOcciP"
      },
      "outputs": [],
      "source": [
        "# No se implementa Feature Engineering a partir de Random Forest"
      ]
    },
    {
      "cell_type": "markdown",
      "id": "XaRBjQj8ZRUZ",
      "metadata": {
        "id": "XaRBjQj8ZRUZ"
      },
      "source": [
        "#### 8.3.1.5  FEhist Feature Engineering historico\n",
        "\n",
        "El Fature Engineering Histórico es la etapa que más aporta a la ganancia final, ya que enriquece cada registro del dataset con su historia."
      ]
    },
    {
      "cell_type": "markdown",
      "id": "cfe3b8cf-0707-4512-92e7-c1407bb3f73b",
      "metadata": {
        "id": "cfe3b8cf-0707-4512-92e7-c1407bb3f73b"
      },
      "source": [
        "Para cada campo del dataset original (*)\n",
        "se crean lo siguientes campos de a partir de la historia\n",
        "* lag1  lags de orden 1\n",
        "* delta1  =  valor actual - lag1\n",
        "* lag2  lags de orden 2\n",
        "* delta2  = valor actual - lag2\n",
        "\n",
        "\n",
        "(*) Excepto para los campos  <numero_de_cliente,  foto_mes,  clase_ternaria>\n",
        "\n",
        "*** Dejamos estos que son los que mejor resultado nos dieron en los experimentos colaborativos ***"
      ]
    },
    {
      "cell_type": "code",
      "execution_count": null,
      "id": "7850b948-827d-4a2a-b4d3-a5e459b47c11",
      "metadata": {
        "id": "7850b948-827d-4a2a-b4d3-a5e459b47c11"
      },
      "outputs": [],
      "source": [
        "# Feature Engineering Historico\n",
        "# ordeno el dataset\n",
        "setorder(dataset, numero_de_cliente, foto_mes)\n",
        "\n",
        "# todo es lagueable, menos la primary key y la clase\n",
        "cols_lagueables <- copy( setdiff(\n",
        "    colnames(dataset),\n",
        "    c(\"numero_de_cliente\", \"foto_mes\", \"clase_ternaria\")\n",
        ") )\n",
        "\n",
        "# https://rdrr.io/cran/data.table/man/shift.html\n",
        "\n",
        "# lags de orden 1\n",
        "dataset[,\n",
        "    paste0(cols_lagueables, \"_lag1\") := shift(.SD, 1, NA, \"lag\"),\n",
        "    by = numero_de_cliente,\n",
        "    .SDcols = cols_lagueables\n",
        "]\n",
        "\n",
        "# lags de orden 2\n",
        "dataset[,\n",
        "    paste0(cols_lagueables, \"_lag2\") := shift(.SD, 2, NA, \"lag\"),\n",
        "    by = numero_de_cliente,\n",
        "    .SDcols = cols_lagueables\n",
        "]\n",
        "\n",
        "# agrego los delta lags\n",
        "for (vcol in cols_lagueables)\n",
        "{\n",
        "    dataset[, paste0(vcol, \"_delta1\") := get(vcol) - get(paste0(vcol, \"_lag1\"))]\n",
        "    dataset[, paste0(vcol, \"_delta2\") := get(vcol) - get(paste0(vcol, \"_lag2\"))]\n",
        "}\n"
      ]
    },
    {
      "cell_type": "markdown",
      "id": "cea690d9-ece9-4852-a5e2-f337c31b6721",
      "metadata": {
        "id": "cea690d9-ece9-4852-a5e2-f337c31b6721"
      },
      "source": [
        "Verificacion de los campos recien creados"
      ]
    },
    {
      "cell_type": "code",
      "execution_count": null,
      "id": "f772896b-595a-47d4-8905-c15304ac9452",
      "metadata": {
        "colab": {
          "base_uri": "https://localhost:8080/",
          "height": 312
        },
        "id": "f772896b-595a-47d4-8905-c15304ac9452",
        "outputId": "8d6e3812-8993-413e-e7e1-8daddf80ec6c"
      },
      "outputs": [
        {
          "output_type": "display_data",
          "data": {
            "text/html": [
              "153"
            ],
            "text/markdown": "153",
            "text/latex": "153",
            "text/plain": [
              "[1] 153"
            ]
          },
          "metadata": {}
        },
        {
          "output_type": "display_data",
          "data": {
            "text/html": [
              "<style>\n",
              ".list-inline {list-style: none; margin:0; padding: 0}\n",
              ".list-inline>li {display: inline-block}\n",
              ".list-inline>li:not(:last-child)::after {content: \"\\00b7\"; padding: 0 .5ex}\n",
              "</style>\n",
              "<ol class=list-inline><li>'numero_de_cliente'</li><li>'foto_mes'</li><li>'internet'</li><li>'cliente_edad'</li><li>'cliente_antiguedad'</li><li>'cproductos'</li><li>'cdescubierto_preacordado'</li><li>'ctarjeta_visa_transacciones'</li><li>'cpayroll_trx'</li><li>'ccomisiones_mantenimiento'</li><li>'ccallcenter_transacciones'</li><li>'chomebanking_transacciones'</li><li>'ctrx_quarter'</li><li>'Master_status'</li><li>'Master_fechaalta'</li><li>'Visa_status'</li><li>'Visa_fechaalta'</li><li>'clase_ternaria'</li><li>'mrentabilidad_rank'</li><li>'mrentabilidad_annual_rank'</li><li>'mcomisiones_rank'</li><li>'mactivos_margen_rank'</li><li>'mpasivos_margen_rank'</li><li>'mcuenta_corriente_rank'</li><li>'mcaja_ahorro_rank'</li><li>'mcuentas_saldo_rank'</li><li>'mtarjeta_visa_consumo_rank'</li><li>'mtarjeta_master_consumo_rank'</li><li>'mprestamos_personales_rank'</li><li>'mpayroll_rank'</li><li>'Master_mpagominimo_rank'</li><li>'Visa_mpagominimo_rank'</li><li>'kmes'</li><li>'internet_lag1'</li><li>'cliente_edad_lag1'</li><li>'cliente_antiguedad_lag1'</li><li>'cproductos_lag1'</li><li>'cdescubierto_preacordado_lag1'</li><li>'ctarjeta_visa_transacciones_lag1'</li><li>'cpayroll_trx_lag1'</li><li>'ccomisiones_mantenimiento_lag1'</li><li>'ccallcenter_transacciones_lag1'</li><li>'chomebanking_transacciones_lag1'</li><li>'ctrx_quarter_lag1'</li><li>'Master_status_lag1'</li><li>'Master_fechaalta_lag1'</li><li>'Visa_status_lag1'</li><li>'Visa_fechaalta_lag1'</li><li>'mrentabilidad_rank_lag1'</li><li>'mrentabilidad_annual_rank_lag1'</li><li>'mcomisiones_rank_lag1'</li><li>'mactivos_margen_rank_lag1'</li><li>'mpasivos_margen_rank_lag1'</li><li>'mcuenta_corriente_rank_lag1'</li><li>'mcaja_ahorro_rank_lag1'</li><li>'mcuentas_saldo_rank_lag1'</li><li>'mtarjeta_visa_consumo_rank_lag1'</li><li>'mtarjeta_master_consumo_rank_lag1'</li><li>'mprestamos_personales_rank_lag1'</li><li>'mpayroll_rank_lag1'</li><li>'Master_mpagominimo_rank_lag1'</li><li>'Visa_mpagominimo_rank_lag1'</li><li>'kmes_lag1'</li><li>'internet_lag2'</li><li>'cliente_edad_lag2'</li><li>'cliente_antiguedad_lag2'</li><li>'cproductos_lag2'</li><li>'cdescubierto_preacordado_lag2'</li><li>'ctarjeta_visa_transacciones_lag2'</li><li>'cpayroll_trx_lag2'</li><li>'ccomisiones_mantenimiento_lag2'</li><li>'ccallcenter_transacciones_lag2'</li><li>'chomebanking_transacciones_lag2'</li><li>'ctrx_quarter_lag2'</li><li>'Master_status_lag2'</li><li>'Master_fechaalta_lag2'</li><li>'Visa_status_lag2'</li><li>'Visa_fechaalta_lag2'</li><li>'mrentabilidad_rank_lag2'</li><li>'mrentabilidad_annual_rank_lag2'</li><li>'mcomisiones_rank_lag2'</li><li>'mactivos_margen_rank_lag2'</li><li>'mpasivos_margen_rank_lag2'</li><li>'mcuenta_corriente_rank_lag2'</li><li>'mcaja_ahorro_rank_lag2'</li><li>'mcuentas_saldo_rank_lag2'</li><li>'mtarjeta_visa_consumo_rank_lag2'</li><li>'mtarjeta_master_consumo_rank_lag2'</li><li>'mprestamos_personales_rank_lag2'</li><li>'mpayroll_rank_lag2'</li><li>'Master_mpagominimo_rank_lag2'</li><li>'Visa_mpagominimo_rank_lag2'</li><li>'kmes_lag2'</li><li>'internet_delta1'</li><li>'internet_delta2'</li><li>'cliente_edad_delta1'</li><li>'cliente_edad_delta2'</li><li>'cliente_antiguedad_delta1'</li><li>'cliente_antiguedad_delta2'</li><li>'cproductos_delta1'</li><li>'cproductos_delta2'</li><li>'cdescubierto_preacordado_delta1'</li><li>'cdescubierto_preacordado_delta2'</li><li>'ctarjeta_visa_transacciones_delta1'</li><li>'ctarjeta_visa_transacciones_delta2'</li><li>'cpayroll_trx_delta1'</li><li>'cpayroll_trx_delta2'</li><li>'ccomisiones_mantenimiento_delta1'</li><li>'ccomisiones_mantenimiento_delta2'</li><li>'ccallcenter_transacciones_delta1'</li><li>'ccallcenter_transacciones_delta2'</li><li>'chomebanking_transacciones_delta1'</li><li>'chomebanking_transacciones_delta2'</li><li>'ctrx_quarter_delta1'</li><li>'ctrx_quarter_delta2'</li><li>'Master_status_delta1'</li><li>'Master_status_delta2'</li><li>'Master_fechaalta_delta1'</li><li>'Master_fechaalta_delta2'</li><li>'Visa_status_delta1'</li><li>'Visa_status_delta2'</li><li>'Visa_fechaalta_delta1'</li><li>'Visa_fechaalta_delta2'</li><li>'mrentabilidad_rank_delta1'</li><li>'mrentabilidad_rank_delta2'</li><li>'mrentabilidad_annual_rank_delta1'</li><li>'mrentabilidad_annual_rank_delta2'</li><li>'mcomisiones_rank_delta1'</li><li>'mcomisiones_rank_delta2'</li><li>'mactivos_margen_rank_delta1'</li><li>'mactivos_margen_rank_delta2'</li><li>'mpasivos_margen_rank_delta1'</li><li>'mpasivos_margen_rank_delta2'</li><li>'mcuenta_corriente_rank_delta1'</li><li>'mcuenta_corriente_rank_delta2'</li><li>'mcaja_ahorro_rank_delta1'</li><li>'mcaja_ahorro_rank_delta2'</li><li>'mcuentas_saldo_rank_delta1'</li><li>'mcuentas_saldo_rank_delta2'</li><li>'mtarjeta_visa_consumo_rank_delta1'</li><li>'mtarjeta_visa_consumo_rank_delta2'</li><li>'mtarjeta_master_consumo_rank_delta1'</li><li>'mtarjeta_master_consumo_rank_delta2'</li><li>'mprestamos_personales_rank_delta1'</li><li>'mprestamos_personales_rank_delta2'</li><li>'mpayroll_rank_delta1'</li><li>'mpayroll_rank_delta2'</li><li>'Master_mpagominimo_rank_delta1'</li><li>'Master_mpagominimo_rank_delta2'</li><li>'Visa_mpagominimo_rank_delta1'</li><li>'Visa_mpagominimo_rank_delta2'</li><li>'kmes_delta1'</li><li>'kmes_delta2'</li></ol>\n"
            ],
            "text/markdown": "1. 'numero_de_cliente'\n2. 'foto_mes'\n3. 'internet'\n4. 'cliente_edad'\n5. 'cliente_antiguedad'\n6. 'cproductos'\n7. 'cdescubierto_preacordado'\n8. 'ctarjeta_visa_transacciones'\n9. 'cpayroll_trx'\n10. 'ccomisiones_mantenimiento'\n11. 'ccallcenter_transacciones'\n12. 'chomebanking_transacciones'\n13. 'ctrx_quarter'\n14. 'Master_status'\n15. 'Master_fechaalta'\n16. 'Visa_status'\n17. 'Visa_fechaalta'\n18. 'clase_ternaria'\n19. 'mrentabilidad_rank'\n20. 'mrentabilidad_annual_rank'\n21. 'mcomisiones_rank'\n22. 'mactivos_margen_rank'\n23. 'mpasivos_margen_rank'\n24. 'mcuenta_corriente_rank'\n25. 'mcaja_ahorro_rank'\n26. 'mcuentas_saldo_rank'\n27. 'mtarjeta_visa_consumo_rank'\n28. 'mtarjeta_master_consumo_rank'\n29. 'mprestamos_personales_rank'\n30. 'mpayroll_rank'\n31. 'Master_mpagominimo_rank'\n32. 'Visa_mpagominimo_rank'\n33. 'kmes'\n34. 'internet_lag1'\n35. 'cliente_edad_lag1'\n36. 'cliente_antiguedad_lag1'\n37. 'cproductos_lag1'\n38. 'cdescubierto_preacordado_lag1'\n39. 'ctarjeta_visa_transacciones_lag1'\n40. 'cpayroll_trx_lag1'\n41. 'ccomisiones_mantenimiento_lag1'\n42. 'ccallcenter_transacciones_lag1'\n43. 'chomebanking_transacciones_lag1'\n44. 'ctrx_quarter_lag1'\n45. 'Master_status_lag1'\n46. 'Master_fechaalta_lag1'\n47. 'Visa_status_lag1'\n48. 'Visa_fechaalta_lag1'\n49. 'mrentabilidad_rank_lag1'\n50. 'mrentabilidad_annual_rank_lag1'\n51. 'mcomisiones_rank_lag1'\n52. 'mactivos_margen_rank_lag1'\n53. 'mpasivos_margen_rank_lag1'\n54. 'mcuenta_corriente_rank_lag1'\n55. 'mcaja_ahorro_rank_lag1'\n56. 'mcuentas_saldo_rank_lag1'\n57. 'mtarjeta_visa_consumo_rank_lag1'\n58. 'mtarjeta_master_consumo_rank_lag1'\n59. 'mprestamos_personales_rank_lag1'\n60. 'mpayroll_rank_lag1'\n61. 'Master_mpagominimo_rank_lag1'\n62. 'Visa_mpagominimo_rank_lag1'\n63. 'kmes_lag1'\n64. 'internet_lag2'\n65. 'cliente_edad_lag2'\n66. 'cliente_antiguedad_lag2'\n67. 'cproductos_lag2'\n68. 'cdescubierto_preacordado_lag2'\n69. 'ctarjeta_visa_transacciones_lag2'\n70. 'cpayroll_trx_lag2'\n71. 'ccomisiones_mantenimiento_lag2'\n72. 'ccallcenter_transacciones_lag2'\n73. 'chomebanking_transacciones_lag2'\n74. 'ctrx_quarter_lag2'\n75. 'Master_status_lag2'\n76. 'Master_fechaalta_lag2'\n77. 'Visa_status_lag2'\n78. 'Visa_fechaalta_lag2'\n79. 'mrentabilidad_rank_lag2'\n80. 'mrentabilidad_annual_rank_lag2'\n81. 'mcomisiones_rank_lag2'\n82. 'mactivos_margen_rank_lag2'\n83. 'mpasivos_margen_rank_lag2'\n84. 'mcuenta_corriente_rank_lag2'\n85. 'mcaja_ahorro_rank_lag2'\n86. 'mcuentas_saldo_rank_lag2'\n87. 'mtarjeta_visa_consumo_rank_lag2'\n88. 'mtarjeta_master_consumo_rank_lag2'\n89. 'mprestamos_personales_rank_lag2'\n90. 'mpayroll_rank_lag2'\n91. 'Master_mpagominimo_rank_lag2'\n92. 'Visa_mpagominimo_rank_lag2'\n93. 'kmes_lag2'\n94. 'internet_delta1'\n95. 'internet_delta2'\n96. 'cliente_edad_delta1'\n97. 'cliente_edad_delta2'\n98. 'cliente_antiguedad_delta1'\n99. 'cliente_antiguedad_delta2'\n100. 'cproductos_delta1'\n101. 'cproductos_delta2'\n102. 'cdescubierto_preacordado_delta1'\n103. 'cdescubierto_preacordado_delta2'\n104. 'ctarjeta_visa_transacciones_delta1'\n105. 'ctarjeta_visa_transacciones_delta2'\n106. 'cpayroll_trx_delta1'\n107. 'cpayroll_trx_delta2'\n108. 'ccomisiones_mantenimiento_delta1'\n109. 'ccomisiones_mantenimiento_delta2'\n110. 'ccallcenter_transacciones_delta1'\n111. 'ccallcenter_transacciones_delta2'\n112. 'chomebanking_transacciones_delta1'\n113. 'chomebanking_transacciones_delta2'\n114. 'ctrx_quarter_delta1'\n115. 'ctrx_quarter_delta2'\n116. 'Master_status_delta1'\n117. 'Master_status_delta2'\n118. 'Master_fechaalta_delta1'\n119. 'Master_fechaalta_delta2'\n120. 'Visa_status_delta1'\n121. 'Visa_status_delta2'\n122. 'Visa_fechaalta_delta1'\n123. 'Visa_fechaalta_delta2'\n124. 'mrentabilidad_rank_delta1'\n125. 'mrentabilidad_rank_delta2'\n126. 'mrentabilidad_annual_rank_delta1'\n127. 'mrentabilidad_annual_rank_delta2'\n128. 'mcomisiones_rank_delta1'\n129. 'mcomisiones_rank_delta2'\n130. 'mactivos_margen_rank_delta1'\n131. 'mactivos_margen_rank_delta2'\n132. 'mpasivos_margen_rank_delta1'\n133. 'mpasivos_margen_rank_delta2'\n134. 'mcuenta_corriente_rank_delta1'\n135. 'mcuenta_corriente_rank_delta2'\n136. 'mcaja_ahorro_rank_delta1'\n137. 'mcaja_ahorro_rank_delta2'\n138. 'mcuentas_saldo_rank_delta1'\n139. 'mcuentas_saldo_rank_delta2'\n140. 'mtarjeta_visa_consumo_rank_delta1'\n141. 'mtarjeta_visa_consumo_rank_delta2'\n142. 'mtarjeta_master_consumo_rank_delta1'\n143. 'mtarjeta_master_consumo_rank_delta2'\n144. 'mprestamos_personales_rank_delta1'\n145. 'mprestamos_personales_rank_delta2'\n146. 'mpayroll_rank_delta1'\n147. 'mpayroll_rank_delta2'\n148. 'Master_mpagominimo_rank_delta1'\n149. 'Master_mpagominimo_rank_delta2'\n150. 'Visa_mpagominimo_rank_delta1'\n151. 'Visa_mpagominimo_rank_delta2'\n152. 'kmes_delta1'\n153. 'kmes_delta2'\n\n\n",
            "text/latex": "\\begin{enumerate*}\n\\item 'numero\\_de\\_cliente'\n\\item 'foto\\_mes'\n\\item 'internet'\n\\item 'cliente\\_edad'\n\\item 'cliente\\_antiguedad'\n\\item 'cproductos'\n\\item 'cdescubierto\\_preacordado'\n\\item 'ctarjeta\\_visa\\_transacciones'\n\\item 'cpayroll\\_trx'\n\\item 'ccomisiones\\_mantenimiento'\n\\item 'ccallcenter\\_transacciones'\n\\item 'chomebanking\\_transacciones'\n\\item 'ctrx\\_quarter'\n\\item 'Master\\_status'\n\\item 'Master\\_fechaalta'\n\\item 'Visa\\_status'\n\\item 'Visa\\_fechaalta'\n\\item 'clase\\_ternaria'\n\\item 'mrentabilidad\\_rank'\n\\item 'mrentabilidad\\_annual\\_rank'\n\\item 'mcomisiones\\_rank'\n\\item 'mactivos\\_margen\\_rank'\n\\item 'mpasivos\\_margen\\_rank'\n\\item 'mcuenta\\_corriente\\_rank'\n\\item 'mcaja\\_ahorro\\_rank'\n\\item 'mcuentas\\_saldo\\_rank'\n\\item 'mtarjeta\\_visa\\_consumo\\_rank'\n\\item 'mtarjeta\\_master\\_consumo\\_rank'\n\\item 'mprestamos\\_personales\\_rank'\n\\item 'mpayroll\\_rank'\n\\item 'Master\\_mpagominimo\\_rank'\n\\item 'Visa\\_mpagominimo\\_rank'\n\\item 'kmes'\n\\item 'internet\\_lag1'\n\\item 'cliente\\_edad\\_lag1'\n\\item 'cliente\\_antiguedad\\_lag1'\n\\item 'cproductos\\_lag1'\n\\item 'cdescubierto\\_preacordado\\_lag1'\n\\item 'ctarjeta\\_visa\\_transacciones\\_lag1'\n\\item 'cpayroll\\_trx\\_lag1'\n\\item 'ccomisiones\\_mantenimiento\\_lag1'\n\\item 'ccallcenter\\_transacciones\\_lag1'\n\\item 'chomebanking\\_transacciones\\_lag1'\n\\item 'ctrx\\_quarter\\_lag1'\n\\item 'Master\\_status\\_lag1'\n\\item 'Master\\_fechaalta\\_lag1'\n\\item 'Visa\\_status\\_lag1'\n\\item 'Visa\\_fechaalta\\_lag1'\n\\item 'mrentabilidad\\_rank\\_lag1'\n\\item 'mrentabilidad\\_annual\\_rank\\_lag1'\n\\item 'mcomisiones\\_rank\\_lag1'\n\\item 'mactivos\\_margen\\_rank\\_lag1'\n\\item 'mpasivos\\_margen\\_rank\\_lag1'\n\\item 'mcuenta\\_corriente\\_rank\\_lag1'\n\\item 'mcaja\\_ahorro\\_rank\\_lag1'\n\\item 'mcuentas\\_saldo\\_rank\\_lag1'\n\\item 'mtarjeta\\_visa\\_consumo\\_rank\\_lag1'\n\\item 'mtarjeta\\_master\\_consumo\\_rank\\_lag1'\n\\item 'mprestamos\\_personales\\_rank\\_lag1'\n\\item 'mpayroll\\_rank\\_lag1'\n\\item 'Master\\_mpagominimo\\_rank\\_lag1'\n\\item 'Visa\\_mpagominimo\\_rank\\_lag1'\n\\item 'kmes\\_lag1'\n\\item 'internet\\_lag2'\n\\item 'cliente\\_edad\\_lag2'\n\\item 'cliente\\_antiguedad\\_lag2'\n\\item 'cproductos\\_lag2'\n\\item 'cdescubierto\\_preacordado\\_lag2'\n\\item 'ctarjeta\\_visa\\_transacciones\\_lag2'\n\\item 'cpayroll\\_trx\\_lag2'\n\\item 'ccomisiones\\_mantenimiento\\_lag2'\n\\item 'ccallcenter\\_transacciones\\_lag2'\n\\item 'chomebanking\\_transacciones\\_lag2'\n\\item 'ctrx\\_quarter\\_lag2'\n\\item 'Master\\_status\\_lag2'\n\\item 'Master\\_fechaalta\\_lag2'\n\\item 'Visa\\_status\\_lag2'\n\\item 'Visa\\_fechaalta\\_lag2'\n\\item 'mrentabilidad\\_rank\\_lag2'\n\\item 'mrentabilidad\\_annual\\_rank\\_lag2'\n\\item 'mcomisiones\\_rank\\_lag2'\n\\item 'mactivos\\_margen\\_rank\\_lag2'\n\\item 'mpasivos\\_margen\\_rank\\_lag2'\n\\item 'mcuenta\\_corriente\\_rank\\_lag2'\n\\item 'mcaja\\_ahorro\\_rank\\_lag2'\n\\item 'mcuentas\\_saldo\\_rank\\_lag2'\n\\item 'mtarjeta\\_visa\\_consumo\\_rank\\_lag2'\n\\item 'mtarjeta\\_master\\_consumo\\_rank\\_lag2'\n\\item 'mprestamos\\_personales\\_rank\\_lag2'\n\\item 'mpayroll\\_rank\\_lag2'\n\\item 'Master\\_mpagominimo\\_rank\\_lag2'\n\\item 'Visa\\_mpagominimo\\_rank\\_lag2'\n\\item 'kmes\\_lag2'\n\\item 'internet\\_delta1'\n\\item 'internet\\_delta2'\n\\item 'cliente\\_edad\\_delta1'\n\\item 'cliente\\_edad\\_delta2'\n\\item 'cliente\\_antiguedad\\_delta1'\n\\item 'cliente\\_antiguedad\\_delta2'\n\\item 'cproductos\\_delta1'\n\\item 'cproductos\\_delta2'\n\\item 'cdescubierto\\_preacordado\\_delta1'\n\\item 'cdescubierto\\_preacordado\\_delta2'\n\\item 'ctarjeta\\_visa\\_transacciones\\_delta1'\n\\item 'ctarjeta\\_visa\\_transacciones\\_delta2'\n\\item 'cpayroll\\_trx\\_delta1'\n\\item 'cpayroll\\_trx\\_delta2'\n\\item 'ccomisiones\\_mantenimiento\\_delta1'\n\\item 'ccomisiones\\_mantenimiento\\_delta2'\n\\item 'ccallcenter\\_transacciones\\_delta1'\n\\item 'ccallcenter\\_transacciones\\_delta2'\n\\item 'chomebanking\\_transacciones\\_delta1'\n\\item 'chomebanking\\_transacciones\\_delta2'\n\\item 'ctrx\\_quarter\\_delta1'\n\\item 'ctrx\\_quarter\\_delta2'\n\\item 'Master\\_status\\_delta1'\n\\item 'Master\\_status\\_delta2'\n\\item 'Master\\_fechaalta\\_delta1'\n\\item 'Master\\_fechaalta\\_delta2'\n\\item 'Visa\\_status\\_delta1'\n\\item 'Visa\\_status\\_delta2'\n\\item 'Visa\\_fechaalta\\_delta1'\n\\item 'Visa\\_fechaalta\\_delta2'\n\\item 'mrentabilidad\\_rank\\_delta1'\n\\item 'mrentabilidad\\_rank\\_delta2'\n\\item 'mrentabilidad\\_annual\\_rank\\_delta1'\n\\item 'mrentabilidad\\_annual\\_rank\\_delta2'\n\\item 'mcomisiones\\_rank\\_delta1'\n\\item 'mcomisiones\\_rank\\_delta2'\n\\item 'mactivos\\_margen\\_rank\\_delta1'\n\\item 'mactivos\\_margen\\_rank\\_delta2'\n\\item 'mpasivos\\_margen\\_rank\\_delta1'\n\\item 'mpasivos\\_margen\\_rank\\_delta2'\n\\item 'mcuenta\\_corriente\\_rank\\_delta1'\n\\item 'mcuenta\\_corriente\\_rank\\_delta2'\n\\item 'mcaja\\_ahorro\\_rank\\_delta1'\n\\item 'mcaja\\_ahorro\\_rank\\_delta2'\n\\item 'mcuentas\\_saldo\\_rank\\_delta1'\n\\item 'mcuentas\\_saldo\\_rank\\_delta2'\n\\item 'mtarjeta\\_visa\\_consumo\\_rank\\_delta1'\n\\item 'mtarjeta\\_visa\\_consumo\\_rank\\_delta2'\n\\item 'mtarjeta\\_master\\_consumo\\_rank\\_delta1'\n\\item 'mtarjeta\\_master\\_consumo\\_rank\\_delta2'\n\\item 'mprestamos\\_personales\\_rank\\_delta1'\n\\item 'mprestamos\\_personales\\_rank\\_delta2'\n\\item 'mpayroll\\_rank\\_delta1'\n\\item 'mpayroll\\_rank\\_delta2'\n\\item 'Master\\_mpagominimo\\_rank\\_delta1'\n\\item 'Master\\_mpagominimo\\_rank\\_delta2'\n\\item 'Visa\\_mpagominimo\\_rank\\_delta1'\n\\item 'Visa\\_mpagominimo\\_rank\\_delta2'\n\\item 'kmes\\_delta1'\n\\item 'kmes\\_delta2'\n\\end{enumerate*}\n",
            "text/plain": [
              "  [1] \"numero_de_cliente\"                  \n",
              "  [2] \"foto_mes\"                           \n",
              "  [3] \"internet\"                           \n",
              "  [4] \"cliente_edad\"                       \n",
              "  [5] \"cliente_antiguedad\"                 \n",
              "  [6] \"cproductos\"                         \n",
              "  [7] \"cdescubierto_preacordado\"           \n",
              "  [8] \"ctarjeta_visa_transacciones\"        \n",
              "  [9] \"cpayroll_trx\"                       \n",
              " [10] \"ccomisiones_mantenimiento\"          \n",
              " [11] \"ccallcenter_transacciones\"          \n",
              " [12] \"chomebanking_transacciones\"         \n",
              " [13] \"ctrx_quarter\"                       \n",
              " [14] \"Master_status\"                      \n",
              " [15] \"Master_fechaalta\"                   \n",
              " [16] \"Visa_status\"                        \n",
              " [17] \"Visa_fechaalta\"                     \n",
              " [18] \"clase_ternaria\"                     \n",
              " [19] \"mrentabilidad_rank\"                 \n",
              " [20] \"mrentabilidad_annual_rank\"          \n",
              " [21] \"mcomisiones_rank\"                   \n",
              " [22] \"mactivos_margen_rank\"               \n",
              " [23] \"mpasivos_margen_rank\"               \n",
              " [24] \"mcuenta_corriente_rank\"             \n",
              " [25] \"mcaja_ahorro_rank\"                  \n",
              " [26] \"mcuentas_saldo_rank\"                \n",
              " [27] \"mtarjeta_visa_consumo_rank\"         \n",
              " [28] \"mtarjeta_master_consumo_rank\"       \n",
              " [29] \"mprestamos_personales_rank\"         \n",
              " [30] \"mpayroll_rank\"                      \n",
              " [31] \"Master_mpagominimo_rank\"            \n",
              " [32] \"Visa_mpagominimo_rank\"              \n",
              " [33] \"kmes\"                               \n",
              " [34] \"internet_lag1\"                      \n",
              " [35] \"cliente_edad_lag1\"                  \n",
              " [36] \"cliente_antiguedad_lag1\"            \n",
              " [37] \"cproductos_lag1\"                    \n",
              " [38] \"cdescubierto_preacordado_lag1\"      \n",
              " [39] \"ctarjeta_visa_transacciones_lag1\"   \n",
              " [40] \"cpayroll_trx_lag1\"                  \n",
              " [41] \"ccomisiones_mantenimiento_lag1\"     \n",
              " [42] \"ccallcenter_transacciones_lag1\"     \n",
              " [43] \"chomebanking_transacciones_lag1\"    \n",
              " [44] \"ctrx_quarter_lag1\"                  \n",
              " [45] \"Master_status_lag1\"                 \n",
              " [46] \"Master_fechaalta_lag1\"              \n",
              " [47] \"Visa_status_lag1\"                   \n",
              " [48] \"Visa_fechaalta_lag1\"                \n",
              " [49] \"mrentabilidad_rank_lag1\"            \n",
              " [50] \"mrentabilidad_annual_rank_lag1\"     \n",
              " [51] \"mcomisiones_rank_lag1\"              \n",
              " [52] \"mactivos_margen_rank_lag1\"          \n",
              " [53] \"mpasivos_margen_rank_lag1\"          \n",
              " [54] \"mcuenta_corriente_rank_lag1\"        \n",
              " [55] \"mcaja_ahorro_rank_lag1\"             \n",
              " [56] \"mcuentas_saldo_rank_lag1\"           \n",
              " [57] \"mtarjeta_visa_consumo_rank_lag1\"    \n",
              " [58] \"mtarjeta_master_consumo_rank_lag1\"  \n",
              " [59] \"mprestamos_personales_rank_lag1\"    \n",
              " [60] \"mpayroll_rank_lag1\"                 \n",
              " [61] \"Master_mpagominimo_rank_lag1\"       \n",
              " [62] \"Visa_mpagominimo_rank_lag1\"         \n",
              " [63] \"kmes_lag1\"                          \n",
              " [64] \"internet_lag2\"                      \n",
              " [65] \"cliente_edad_lag2\"                  \n",
              " [66] \"cliente_antiguedad_lag2\"            \n",
              " [67] \"cproductos_lag2\"                    \n",
              " [68] \"cdescubierto_preacordado_lag2\"      \n",
              " [69] \"ctarjeta_visa_transacciones_lag2\"   \n",
              " [70] \"cpayroll_trx_lag2\"                  \n",
              " [71] \"ccomisiones_mantenimiento_lag2\"     \n",
              " [72] \"ccallcenter_transacciones_lag2\"     \n",
              " [73] \"chomebanking_transacciones_lag2\"    \n",
              " [74] \"ctrx_quarter_lag2\"                  \n",
              " [75] \"Master_status_lag2\"                 \n",
              " [76] \"Master_fechaalta_lag2\"              \n",
              " [77] \"Visa_status_lag2\"                   \n",
              " [78] \"Visa_fechaalta_lag2\"                \n",
              " [79] \"mrentabilidad_rank_lag2\"            \n",
              " [80] \"mrentabilidad_annual_rank_lag2\"     \n",
              " [81] \"mcomisiones_rank_lag2\"              \n",
              " [82] \"mactivos_margen_rank_lag2\"          \n",
              " [83] \"mpasivos_margen_rank_lag2\"          \n",
              " [84] \"mcuenta_corriente_rank_lag2\"        \n",
              " [85] \"mcaja_ahorro_rank_lag2\"             \n",
              " [86] \"mcuentas_saldo_rank_lag2\"           \n",
              " [87] \"mtarjeta_visa_consumo_rank_lag2\"    \n",
              " [88] \"mtarjeta_master_consumo_rank_lag2\"  \n",
              " [89] \"mprestamos_personales_rank_lag2\"    \n",
              " [90] \"mpayroll_rank_lag2\"                 \n",
              " [91] \"Master_mpagominimo_rank_lag2\"       \n",
              " [92] \"Visa_mpagominimo_rank_lag2\"         \n",
              " [93] \"kmes_lag2\"                          \n",
              " [94] \"internet_delta1\"                    \n",
              " [95] \"internet_delta2\"                    \n",
              " [96] \"cliente_edad_delta1\"                \n",
              " [97] \"cliente_edad_delta2\"                \n",
              " [98] \"cliente_antiguedad_delta1\"          \n",
              " [99] \"cliente_antiguedad_delta2\"          \n",
              "[100] \"cproductos_delta1\"                  \n",
              "[101] \"cproductos_delta2\"                  \n",
              "[102] \"cdescubierto_preacordado_delta1\"    \n",
              "[103] \"cdescubierto_preacordado_delta2\"    \n",
              "[104] \"ctarjeta_visa_transacciones_delta1\" \n",
              "[105] \"ctarjeta_visa_transacciones_delta2\" \n",
              "[106] \"cpayroll_trx_delta1\"                \n",
              "[107] \"cpayroll_trx_delta2\"                \n",
              "[108] \"ccomisiones_mantenimiento_delta1\"   \n",
              "[109] \"ccomisiones_mantenimiento_delta2\"   \n",
              "[110] \"ccallcenter_transacciones_delta1\"   \n",
              "[111] \"ccallcenter_transacciones_delta2\"   \n",
              "[112] \"chomebanking_transacciones_delta1\"  \n",
              "[113] \"chomebanking_transacciones_delta2\"  \n",
              "[114] \"ctrx_quarter_delta1\"                \n",
              "[115] \"ctrx_quarter_delta2\"                \n",
              "[116] \"Master_status_delta1\"               \n",
              "[117] \"Master_status_delta2\"               \n",
              "[118] \"Master_fechaalta_delta1\"            \n",
              "[119] \"Master_fechaalta_delta2\"            \n",
              "[120] \"Visa_status_delta1\"                 \n",
              "[121] \"Visa_status_delta2\"                 \n",
              "[122] \"Visa_fechaalta_delta1\"              \n",
              "[123] \"Visa_fechaalta_delta2\"              \n",
              "[124] \"mrentabilidad_rank_delta1\"          \n",
              "[125] \"mrentabilidad_rank_delta2\"          \n",
              "[126] \"mrentabilidad_annual_rank_delta1\"   \n",
              "[127] \"mrentabilidad_annual_rank_delta2\"   \n",
              "[128] \"mcomisiones_rank_delta1\"            \n",
              "[129] \"mcomisiones_rank_delta2\"            \n",
              "[130] \"mactivos_margen_rank_delta1\"        \n",
              "[131] \"mactivos_margen_rank_delta2\"        \n",
              "[132] \"mpasivos_margen_rank_delta1\"        \n",
              "[133] \"mpasivos_margen_rank_delta2\"        \n",
              "[134] \"mcuenta_corriente_rank_delta1\"      \n",
              "[135] \"mcuenta_corriente_rank_delta2\"      \n",
              "[136] \"mcaja_ahorro_rank_delta1\"           \n",
              "[137] \"mcaja_ahorro_rank_delta2\"           \n",
              "[138] \"mcuentas_saldo_rank_delta1\"         \n",
              "[139] \"mcuentas_saldo_rank_delta2\"         \n",
              "[140] \"mtarjeta_visa_consumo_rank_delta1\"  \n",
              "[141] \"mtarjeta_visa_consumo_rank_delta2\"  \n",
              "[142] \"mtarjeta_master_consumo_rank_delta1\"\n",
              "[143] \"mtarjeta_master_consumo_rank_delta2\"\n",
              "[144] \"mprestamos_personales_rank_delta1\"  \n",
              "[145] \"mprestamos_personales_rank_delta2\"  \n",
              "[146] \"mpayroll_rank_delta1\"               \n",
              "[147] \"mpayroll_rank_delta2\"               \n",
              "[148] \"Master_mpagominimo_rank_delta1\"     \n",
              "[149] \"Master_mpagominimo_rank_delta2\"     \n",
              "[150] \"Visa_mpagominimo_rank_delta1\"       \n",
              "[151] \"Visa_mpagominimo_rank_delta2\"       \n",
              "[152] \"kmes_delta1\"                        \n",
              "[153] \"kmes_delta2\"                        "
            ]
          },
          "metadata": {}
        }
      ],
      "source": [
        "ncol(dataset)\n",
        "colnames(dataset)"
      ]
    },
    {
      "cell_type": "markdown",
      "id": "l8mKij0XaDY0",
      "metadata": {
        "id": "l8mKij0XaDY0"
      },
      "source": [
        "#### 8.3.1.6  FEhist Reduccion dimensionalidad con canaritos\n",
        "\n",
        "Esta etapa solo se mostrará a la *modalidad Anlista Sr* por algun canal secreto de forma de no confundir a los *Analista Jr*  nni distraer con detalles operativos a la estratégica *Modalidad Gerencial*\n",
        "\n",
        "*** No incluimos canaritos porque no aportaron significativamente en los experimentos colaborativos ***"
      ]
    },
    {
      "cell_type": "code",
      "execution_count": null,
      "id": "QrmnPtlBcEgx",
      "metadata": {
        "id": "QrmnPtlBcEgx"
      },
      "outputs": [],
      "source": [
        "# No se implementa la reduccion de la dimensionalidad con canaritos\n",
        "# No lo incluyo porque no mejora el rendimiento economico del modelo"
      ]
    },
    {
      "cell_type": "markdown",
      "id": "cf91ea5e-3341-4afb-8d05-cc4923d3d1e1",
      "metadata": {
        "id": "cf91ea5e-3341-4afb-8d05-cc4923d3d1e1"
      },
      "source": [
        "### 8.3.2 Modelado"
      ]
    },
    {
      "cell_type": "markdown",
      "id": "526048e4-8cf2-4023-bd2d-a70e4e9ff157",
      "metadata": {
        "id": "526048e4-8cf2-4023-bd2d-a70e4e9ff157"
      },
      "source": [
        "#### 8.3.2.1 Training Strategy\n",
        "\n",
        "Esta etapa de Workflow de  Training Strategy esta pensada para la *Modalidad Gerencial* que posee el dataset de [202005, 202109]\n",
        "<br> Si usted es un Analista, posee el periodo de [201901, 202109] y deberá experimentar en que meses le conviene experimentar\n",
        "\n",
        "<br> A la *Modalidad Gerencial* no se le complicada la vida con el undersampling de los continua, por eso PARAM$trainingstrategy$training_pct <- 1.0\n",
        "<br> Sin embargo, si usted es  *Analista SR* posee un dataset 50 veces ( filas x columnas) más grande que la *Modalidad Gerencial*  y por un tema de velocidad y experimentación más rápida puede llegar a necesitar activar el undersampling de la clase mayoritaria, a pesar de estar corriendo en Google Cloud."
      ]
    },
    {
      "cell_type": "markdown",
      "id": "f16bc1c1-b3ea-43ca-9d3c-53f8f9ab8ec1",
      "metadata": {
        "id": "f16bc1c1-b3ea-43ca-9d3c-53f8f9ab8ec1"
      },
      "source": [
        "Se hace una estrategia de entrenamiento muy sencilla, tomando todos los meses posibles, SIN eliminar nada x pandemia ni por ningun otro motivo\n",
        "\n",
        "* future = 202109  obviamente completo\n",
        "\n",
        "* final_train =  [ 202005, 202107 ]  con un undersampling de los CONTINUA del 2% por un tema de velocidad\n",
        "\n",
        "* training\n",
        "   * testing = NO HAY\n",
        "   * validation =  202107   completo, sin undersampling\n",
        "   * training = [ 202005, 202106 ]  donde se consideran el 100% de los CONTINUA"
      ]
    },
    {
      "cell_type": "code",
      "execution_count": null,
      "id": "2c9c0a42-ba58-4264-8566-091a6161716f",
      "metadata": {
        "id": "2c9c0a42-ba58-4264-8566-091a6161716f"
      },
      "outputs": [],
      "source": [
        "PARAM$trainingstrategy$validate <- c(202107)\n",
        "\n",
        "PARAM$trainingstrategy$training <- c(\n",
        "  202106, 202105, 202104, 202103, 202102, 202101,\n",
        "  202012, 202011, 202010, 202009, 202008, 202007,\n",
        "  202006, 202005\n",
        ")\n",
        "\n",
        "PARAM$trainingstrategy$training_pct <- 1.0\n",
        "\n",
        "\n",
        "PARAM$trainingstrategy$positivos <- c( \"BAJA+1\", \"BAJA+2\")"
      ]
    },
    {
      "cell_type": "code",
      "execution_count": null,
      "id": "tv_trHWAj4a8",
      "metadata": {
        "id": "tv_trHWAj4a8"
      },
      "outputs": [],
      "source": [
        "# seteo la clase01   1={BAJA+1, BAJA+2}   0={CONTINUA}\n",
        "dataset[, clase01 := ifelse( clase_ternaria %in% PARAM$trainingstrategy$positivos, 1, 0 )]"
      ]
    },
    {
      "cell_type": "code",
      "execution_count": null,
      "id": "Ud_XDKSIj8f_",
      "metadata": {
        "id": "Ud_XDKSIj8f_"
      },
      "outputs": [],
      "source": [
        "# los campos en los que se entrena\n",
        "campos_buenos <- copy( setdiff(\n",
        "    colnames(dataset), c(\"clase_ternaria\",\"clase01\",\"azar\"))\n",
        ")"
      ]
    },
    {
      "cell_type": "code",
      "execution_count": null,
      "id": "rFKgZZPSj_Pa",
      "metadata": {
        "id": "rFKgZZPSj_Pa"
      },
      "outputs": [],
      "source": [
        "# preparo para que se puede hacer undersampling de los CONTINUA\n",
        "#  solamente por un tema de VELOCIDAD\n",
        "set.seed(PARAM$semilla_primigenia, kind = \"L'Ecuyer-CMRG\")\n",
        "dataset[, azar:=runif(nrow(dataset))]\n",
        "\n",
        "# undersampling de los CONTINUA\n",
        "dataset[, fold_train :=  foto_mes %in%  PARAM$trainingstrategy$training &\n",
        "    (clase_ternaria %in% c(\"BAJA+1\", \"BAJA+2\") |\n",
        "     azar < PARAM$trainingstrategy$training_pct ) ]\n",
        "\n",
        "\n",
        "if( !require(\"lightgbm\")) install.packages(\"lightgbm\")\n",
        "require(\"lightgbm\")\n",
        "\n",
        "dtrain <- lgb.Dataset(\n",
        "  data= data.matrix(dataset[fold_train == TRUE, campos_buenos, with = FALSE]),\n",
        "  label= dataset[fold_train == TRUE, clase01],\n",
        "  free_raw_data= TRUE\n",
        ")"
      ]
    },
    {
      "cell_type": "code",
      "execution_count": null,
      "id": "B3yo98kQkHcP",
      "metadata": {
        "colab": {
          "base_uri": "https://localhost:8080/",
          "height": 34
        },
        "id": "B3yo98kQkHcP",
        "outputId": "2672296f-96da-48f8-8d97-ccda79f2d03f"
      },
      "outputs": [
        {
          "output_type": "display_data",
          "data": {
            "text/html": [
              "16551"
            ],
            "text/markdown": "16551",
            "text/latex": "16551",
            "text/plain": [
              "[1] 16551"
            ]
          },
          "metadata": {}
        }
      ],
      "source": [
        "# datos de validation\n",
        "dvalidate <- lgb.Dataset(\n",
        "  data= data.matrix(dataset[foto_mes %in% PARAM$trainingstrategy$validate, campos_buenos, with = FALSE]),\n",
        "  label= dataset[foto_mes %in% PARAM$trainingstrategy$validate, clase01],\n",
        "  free_raw_data= TRUE\n",
        ")\n",
        "\n",
        "nrow(dvalidate)"
      ]
    },
    {
      "cell_type": "markdown",
      "id": "28e8f788-551c-4e50-9029-302ac0834287",
      "metadata": {
        "id": "28e8f788-551c-4e50-9029-302ac0834287"
      },
      "source": [
        "####  8.3.2.2. Hyperparameter Tuning"
      ]
    },
    {
      "cell_type": "markdown",
      "id": "bf5fc836-e222-4aeb-a6a8-157346895ef7",
      "metadata": {
        "id": "bf5fc836-e222-4aeb-a6a8-157346895ef7"
      },
      "source": [
        "* Clase binaria que se optimiza :  positivos = [ BAJA+1, BAJA+2 ]"
      ]
    },
    {
      "cell_type": "markdown",
      "id": "885c03b5-77bc-4510-a930-0d1f14b52ffb",
      "metadata": {
        "id": "885c03b5-77bc-4510-a930-0d1f14b52ffb"
      },
      "source": [
        "* Metrica que se optimiza **AUC** Area Under Curve de la  ROC Curve\n",
        "\n",
        "es muy importante notar que intencionalmente  **NO** se está optimizando la funcion de ganancia del problema"
      ]
    },
    {
      "cell_type": "markdown",
      "id": "b7e6f95c-66ef-4ab9-9ba3-fcc099816704",
      "metadata": {
        "id": "b7e6f95c-66ef-4ab9-9ba3-fcc099816704"
      },
      "source": [
        "* Cantidad de iteraciones inteligentes de la Optimizacion Bayesiana = **10**"
      ]
    },
    {
      "cell_type": "markdown",
      "id": "fe047a87-e2d0-4418-97dd-0a881e66d73a",
      "metadata": {
        "id": "fe047a87-e2d0-4418-97dd-0a881e66d73a"
      },
      "source": [
        "* Parametros no default, fijos de LightGBM que no se optimizan\n",
        "  * max_bin = 31 , Alienigenas Ancestrales contruyeron las pirámides y dejaron a la humanidad en un jeroglifico  *max_bin=31*\n",
        "  * feature_fraction = 0.5  para poner algo que generalmente no falla\n",
        "  * learning_rate = 0.03  para que aprenda lento\n"
      ]
    },
    {
      "cell_type": "markdown",
      "id": "1e7da08e-fe57-4681-beff-11fe963116bd",
      "metadata": {
        "id": "1e7da08e-fe57-4681-beff-11fe963116bd"
      },
      "source": [
        "* Parametros que se optimizan en la Bayesian Optimization\n",
        "  * num_leaves  [8, 256]\n",
        "  * min_data_in_leaf  [8, 8192]"
      ]
    },
    {
      "cell_type": "code",
      "execution_count": null,
      "id": "34V6y4GetKq_",
      "metadata": {
        "id": "34V6y4GetKq_"
      },
      "outputs": [],
      "source": [
        "# paquetes necesarios para la Bayesian Optimization\n",
        "if(!require(\"DiceKriging\")) install.packages(\"DiceKriging\")\n",
        "require(\"DiceKriging\")\n",
        "\n",
        "if(!require(\"mlrMBO\")) install.packages(\"mlrMBO\")\n",
        "require(\"mlrMBO\")"
      ]
    },
    {
      "cell_type": "markdown",
      "id": "UFbDSYtH0TTT",
      "metadata": {
        "id": "UFbDSYtH0TTT"
      },
      "source": [
        "Definición de la Bayesian Optimization\n",
        "<br> Si se desea optimizar un hiperparámetro que esta como fijo, debe QUITARSE de param_fijos y agregarse a PARAM$hipeparametertuning$hs"
      ]
    },
    {
      "cell_type": "code",
      "execution_count": null,
      "id": "5Uag3XGHqrfZ",
      "metadata": {
        "id": "5Uag3XGHqrfZ"
      },
      "outputs": [],
      "source": [
        "# valor ridiculamente bajo para que corra rapido en el aula y no molestar a la *Modalidad Gerencial*\n",
        "PARAM$hipeparametertuning$num_interations <- 10\n",
        "\n",
        "# parametros fijos del LightGBM\n",
        "PARAM$lgbm$param_fijos <- list(\n",
        "  objective= \"binary\",\n",
        "  metric= \"auc\",\n",
        "  first_metric_only= TRUE,\n",
        "  boost_from_average= TRUE,\n",
        "  feature_pre_filter= FALSE,\n",
        "  verbosity= -100,\n",
        "  force_row_wise= TRUE, # para evitar warning\n",
        "  seed= PARAM$semilla_primigenia,\n",
        "  max_bin= 31,\n",
        "  learning_rate= 0.03,\n",
        "  feature_fraction= 0.5,\n",
        "  num_iterations= 2048,  # valor grande, lo limita early_stopping_rounds\n",
        "  early_stopping_rounds= 200\n",
        ")\n",
        "\n",
        "PARAM$hipeparametertuning$hs <- makeParamSet(\n",
        "  makeIntegerParam(\"num_leaves\", lower = 2L, upper = 256L),\n",
        "  makeIntegerParam(\"min_data_in_leaf\", lower = 2L, upper = 8192L),\n",
        "  makeNumericParam(\"coverage\", lower = 0.05, upper = 1.0), # nuevo\n",
        "  makeNumericParam(\"min_gain_to_split\", lower = 0.0, upper = 10.0),\n",
        "  makeNumericParam(\"bagging_fraction\", lower = 0.5, upper = 1.0)\n",
        ")"
      ]
    },
    {
      "cell_type": "markdown",
      "id": "FEa1UuuAz4yj",
      "metadata": {
        "id": "FEa1UuuAz4yj"
      },
      "source": [
        "Función \"señora caja negra\"  que es llamada para verificar la realidad por la Bayesian Optimization"
      ]
    },
    {
      "cell_type": "code",
      "execution_count": null,
      "id": "2c10f535-8d90-47d1-ac3d-9b4c24ec21d2",
      "metadata": {
        "id": "2c10f535-8d90-47d1-ac3d-9b4c24ec21d2"
      },
      "outputs": [],
      "source": [
        "\n",
        "# En  x llegan los parmaetros de la bayesiana\n",
        "#  devuelve la AUC en validate del modelo entrenado\n",
        "#  en el parametro x llegan los hiperparámetros que se estan optimizando\n",
        "\n",
        "EstimarGanancia_AUC_lightgbm <- function(x) {\n",
        "\n",
        "  message(format(Sys.time(), \"%a %b %d %X %Y\"))\n",
        "\n",
        "  # uno la lista de hiperparametros : fijos + variables\n",
        "  param_completo <- c(PARAM$lgbm$param_fijos, x)\n",
        "\n",
        "  # entreno LightGBM\n",
        "  modelo_train <- lgb.train(\n",
        "    data= dtrain,\n",
        "    valids= list(valid = dvalidate),\n",
        "    eval= \"auc\",\n",
        "    param= param_completo,\n",
        "    verbose= -100\n",
        "  )\n",
        "\n",
        "  # recupero la AUC en validation\n",
        "  AUC <- modelo_train$record_evals$valid$auc$eval[[modelo_train$best_iter]]\n",
        "\n",
        "  # esta es la forma de devolver un parametro extra\n",
        "  attr(AUC, \"extras\") <- list(\"num_iterations\"= modelo_train$best_iter)\n",
        "\n",
        "  # hago espacio en la memoria\n",
        "  rm(modelo_train)\n",
        "  gc(full= TRUE, verbose= FALSE)\n",
        "\n",
        "  return(AUC)\n",
        "}"
      ]
    },
    {
      "cell_type": "markdown",
      "id": "267a35d4-adaf-4271-a875-3864111333b7",
      "metadata": {
        "id": "267a35d4-adaf-4271-a875-3864111333b7"
      },
      "source": [
        "seteo de la Bayesian Optimization (complejo)\n",
        "<br> copiado y pegado de la documentación de la librería"
      ]
    },
    {
      "cell_type": "code",
      "execution_count": null,
      "id": "43c2a92d-1041-46b8-bff2-47297f209ed2",
      "metadata": {
        "id": "43c2a92d-1041-46b8-bff2-47297f209ed2"
      },
      "outputs": [],
      "source": [
        "configureMlr(show.learner.output = FALSE)\n",
        "\n",
        "# configuro la busqueda bayesiana,  los hiperparametros que se van a optimizar\n",
        "# por favor, no desesperarse por lo complejo\n",
        "obj.fun <- makeSingleObjectiveFunction(\n",
        "    fn= EstimarGanancia_AUC_lightgbm, # la funcion que voy a maximizar\n",
        "    minimize= FALSE, # estoy Maximizando AUC\n",
        "    noisy= FALSE,\n",
        "    par.set= PARAM$hipeparametertuning$hs,\n",
        "    has.simple.signature= FALSE # paso los parametros en una lista\n",
        ")\n",
        "\n",
        "# cada 600 segundos guardo el resultado intermedio\n",
        "ctrl <- makeMBOControl(\n",
        "    save.on.disk.at.time= 600,\n",
        "    save.file.path= \"HT.RDATA\"\n",
        ")\n",
        "\n",
        "# indico la cantidad de iteraciones que va a tener la Bayesian Optimization\n",
        "ctrl <- setMBOControlTermination(\n",
        "    ctrl,\n",
        "    iters= PARAM$hipeparametertuning$num_interations  # cantidad de iteraciones inteligentes\n",
        ")\n",
        "\n",
        "# defino el método estandar para la creacion de los puntos iniciales\n",
        "#   los \"No Inteligentes\"\n",
        "ctrl <- setMBOControlInfill(ctrl, crit = makeMBOInfillCritEI())\n",
        "\n",
        "# mas configuraciones\n",
        "surr.km <- makeLearner(\n",
        "    \"regr.km\",\n",
        "    predict.type= \"se\",\n",
        "    covtype= \"matern3_2\",\n",
        "    control= list(trace = TRUE)\n",
        ")"
      ]
    },
    {
      "cell_type": "markdown",
      "id": "6c1e5645-d26f-4923-a53f-f30471a4c4e8",
      "metadata": {
        "id": "6c1e5645-d26f-4923-a53f-f30471a4c4e8"
      },
      "source": [
        "Corrida de la Bayesian Optimization,  aqui se hace el trabajo pesado\n",
        "<br> por favor no se asuste con los warnings que pudieran aparecer\n",
        "\n",
        "Si corrío a medias y llegó a las iteraciones inteligentes, en el archivo binario HT.RDATA quedó lo ya procesado y es utilizado para retomar la corrida desde lo último que llegó a grabar."
      ]
    },
    {
      "cell_type": "code",
      "execution_count": null,
      "id": "1f8cab3f-c7e2-4802-bfd1-5ad509922a4e",
      "metadata": {
        "colab": {
          "base_uri": "https://localhost:8080/"
        },
        "id": "1f8cab3f-c7e2-4802-bfd1-5ad509922a4e",
        "outputId": "d83fb485-6950-40fb-c9b3-21852db2fb5a",
        "scrolled": true
      },
      "outputs": [
        {
          "output_type": "stream",
          "name": "stderr",
          "text": [
            "Computing y column(s) for design. Not provided.\n",
            "\n",
            "Sun Jul 20 11:00:48 PM 2025\n",
            "\n",
            "Sun Jul 20 11:02:02 PM 2025\n",
            "\n",
            "Sun Jul 20 11:03:46 PM 2025\n",
            "\n",
            "Sun Jul 20 11:05:08 PM 2025\n",
            "\n",
            "Sun Jul 20 11:06:32 PM 2025\n",
            "\n",
            "Sun Jul 20 11:07:35 PM 2025\n",
            "\n",
            "Sun Jul 20 11:08:44 PM 2025\n",
            "\n",
            "Sun Jul 20 11:09:49 PM 2025\n",
            "\n",
            "Sun Jul 20 11:10:50 PM 2025\n",
            "\n",
            "Sun Jul 20 11:11:48 PM 2025\n",
            "\n",
            "Sun Jul 20 11:12:53 PM 2025\n",
            "\n",
            "Sun Jul 20 11:14:04 PM 2025\n",
            "\n",
            "Sun Jul 20 11:15:12 PM 2025\n",
            "\n",
            "Sun Jul 20 11:16:04 PM 2025\n",
            "\n",
            "Sun Jul 20 11:17:10 PM 2025\n",
            "\n",
            "Sun Jul 20 11:18:17 PM 2025\n",
            "\n",
            "Sun Jul 20 11:19:14 PM 2025\n",
            "\n",
            "Sun Jul 20 11:20:29 PM 2025\n",
            "\n",
            "Sun Jul 20 11:21:35 PM 2025\n",
            "\n",
            "Sun Jul 20 11:22:30 PM 2025\n",
            "\n",
            "[mbo] 0: num_leaves=128; min_data_in_leaf=6575; coverage=0.918; min_gain_to_split=3.46; bagging_fraction=0.774 : y = 0.923 : 73.8 secs : initdesign\n",
            "\n",
            "[mbo] 0: num_leaves=81; min_data_in_leaf=5513; coverage=0.568; min_gain_to_split=0.67; bagging_fraction=0.745 : y = 0.927 : 104.7 secs : initdesign\n",
            "\n",
            "[mbo] 0: num_leaves=137; min_data_in_leaf=4598; coverage=0.673; min_gain_to_split=1.69; bagging_fraction=0.884 : y = 0.926 : 81.9 secs : initdesign\n",
            "\n",
            "[mbo] 0: num_leaves=218; min_data_in_leaf=4474; coverage=0.41; min_gain_to_split=2.41; bagging_fraction=0.854 : y = 0.927 : 83.9 secs : initdesign\n",
            "\n",
            "[mbo] 0: num_leaves=101; min_data_in_leaf=2934; coverage=0.219; min_gain_to_split=3.77; bagging_fraction=0.844 : y = 0.928 : 63.0 secs : initdesign\n",
            "\n",
            "[mbo] 0: num_leaves=35; min_data_in_leaf=3414; coverage=0.629; min_gain_to_split=5.11; bagging_fraction=0.789 : y = 0.927 : 69.2 secs : initdesign\n",
            "\n",
            "[mbo] 0: num_leaves=108; min_data_in_leaf=7829; coverage=0.318; min_gain_to_split=8.75; bagging_fraction=0.519 : y = 0.92 : 64.9 secs : initdesign\n",
            "\n",
            "[mbo] 0: num_leaves=158; min_data_in_leaf=3802; coverage=0.778; min_gain_to_split=4.12; bagging_fraction=0.597 : y = 0.927 : 61.1 secs : initdesign\n",
            "\n",
            "[mbo] 0: num_leaves=168; min_data_in_leaf=950; coverage=0.0763; min_gain_to_split=4.95; bagging_fraction=0.632 : y = 0.932 : 57.4 secs : initdesign\n",
            "\n",
            "[mbo] 0: num_leaves=183; min_data_in_leaf=5028; coverage=0.28; min_gain_to_split=6.33; bagging_fraction=0.675 : y = 0.925 : 65.6 secs : initdesign\n",
            "\n",
            "[mbo] 0: num_leaves=17; min_data_in_leaf=6530; coverage=0.871; min_gain_to_split=5.97; bagging_fraction=0.665 : y = 0.923 : 70.1 secs : initdesign\n",
            "\n",
            "[mbo] 0: num_leaves=76; min_data_in_leaf=2087; coverage=0.757; min_gain_to_split=2.69; bagging_fraction=0.988 : y = 0.932 : 68.2 secs : initdesign\n",
            "\n",
            "[mbo] 0: num_leaves=45; min_data_in_leaf=187; coverage=0.511; min_gain_to_split=9.84; bagging_fraction=0.91 : y = 0.932 : 52.5 secs : initdesign\n",
            "\n",
            "[mbo] 0: num_leaves=64; min_data_in_leaf=5933; coverage=0.338; min_gain_to_split=6.99; bagging_fraction=0.939 : y = 0.924 : 65.4 secs : initdesign\n",
            "\n",
            "[mbo] 0: num_leaves=241; min_data_in_leaf=7702; coverage=0.958; min_gain_to_split=8.1; bagging_fraction=0.527 : y = 0.921 : 67.4 secs : initdesign\n",
            "\n",
            "[mbo] 0: num_leaves=224; min_data_in_leaf=2530; coverage=0.813; min_gain_to_split=7.84; bagging_fraction=0.824 : y = 0.928 : 56.8 secs : initdesign\n",
            "\n",
            "[mbo] 0: num_leaves=199; min_data_in_leaf=1487; coverage=0.113; min_gain_to_split=1.31; bagging_fraction=0.951 : y = 0.934 : 75.4 secs : initdesign\n",
            "\n",
            "[mbo] 0: num_leaves=7; min_data_in_leaf=1965; coverage=0.448; min_gain_to_split=7.17; bagging_fraction=0.61 : y = 0.923 : 65.4 secs : initdesign\n",
            "\n",
            "[mbo] 0: num_leaves=256; min_data_in_leaf=675; coverage=0.162; min_gain_to_split=9.08; bagging_fraction=0.569 : y = 0.931 : 55.1 secs : initdesign\n",
            "\n",
            "[mbo] 0: num_leaves=147; min_data_in_leaf=6983; coverage=0.586; min_gain_to_split=0.214; bagging_fraction=0.718 : y = 0.927 : 111.3 secs : initdesign\n",
            "\n",
            "Saved the current state after iteration 1 in the file HT.RDATA.\n",
            "\n",
            "Sun Jul 20 11:24:22 PM 2025\n",
            "\n",
            "[mbo] 1: num_leaves=221; min_data_in_leaf=2; coverage=0.27; min_gain_to_split=2.78; bagging_fraction=0.985 : y = 0.93 : 62.9 secs : infill_ei\n",
            "\n",
            "Sun Jul 20 11:25:25 PM 2025\n",
            "\n",
            "[mbo] 2: num_leaves=255; min_data_in_leaf=1267; coverage=0.707; min_gain_to_split=2.19; bagging_fraction=0.958 : y = 0.933 : 62.8 secs : infill_ei\n",
            "\n",
            "Sun Jul 20 11:26:29 PM 2025\n",
            "\n",
            "[mbo] 3: num_leaves=147; min_data_in_leaf=1149; coverage=0.062; min_gain_to_split=3.19; bagging_fraction=0.998 : y = 0.934 : 63.0 secs : infill_ei\n",
            "\n",
            "Sun Jul 20 11:27:32 PM 2025\n",
            "\n",
            "[mbo] 4: num_leaves=133; min_data_in_leaf=1238; coverage=0.318; min_gain_to_split=0.0713; bagging_fraction=0.999 : y = 0.935 : 96.5 secs : infill_ei\n",
            "\n",
            "Sun Jul 20 11:29:09 PM 2025\n",
            "\n",
            "[mbo] 5: num_leaves=122; min_data_in_leaf=1029; coverage=0.0869; min_gain_to_split=0.000168; bagging_fraction=0.871 : y = 0.933 : 97.7 secs : infill_ei\n",
            "\n",
            "Sun Jul 20 11:30:47 PM 2025\n",
            "\n",
            "[mbo] 6: num_leaves=147; min_data_in_leaf=1446; coverage=0.67; min_gain_to_split=0.0057; bagging_fraction=1 : y = 0.932 : 88.7 secs : infill_ei\n",
            "\n",
            "Sun Jul 20 11:32:17 PM 2025\n",
            "\n",
            "[mbo] 7: num_leaves=185; min_data_in_leaf=1164; coverage=0.324; min_gain_to_split=1.63; bagging_fraction=1 : y = 0.932 : 67.7 secs : infill_ei\n",
            "\n",
            "Sun Jul 20 11:33:25 PM 2025\n",
            "\n",
            "[mbo] 8: num_leaves=256; min_data_in_leaf=4; coverage=0.779; min_gain_to_split=2.81; bagging_fraction=1 : y = 0.934 : 59.9 secs : infill_ei\n",
            "\n",
            "Saved the current state after iteration 9 in the file HT.RDATA.\n",
            "\n",
            "Sun Jul 20 11:34:26 PM 2025\n",
            "\n",
            "[mbo] 9: num_leaves=79; min_data_in_leaf=1569; coverage=0.222; min_gain_to_split=0.00095; bagging_fraction=0.985 : y = 0.933 : 83.2 secs : infill_ei\n",
            "\n",
            "Sun Jul 20 11:35:49 PM 2025\n",
            "\n",
            "[mbo] 10: num_leaves=160; min_data_in_leaf=17; coverage=0.469; min_gain_to_split=0.00238; bagging_fraction=0.993 : y = 0.936 : 90.8 secs : infill_ei\n",
            "\n",
            "Saved the final state in the file HT.RDATA\n",
            "\n"
          ]
        }
      ],
      "source": [
        "# inicio la optimizacion bayesiana\n",
        "\n",
        "if (!file.exists(\"HT.RDATA\")) {\n",
        "  bayesiana_salida <- mbo(obj.fun, learner= surr.km, control= ctrl)\n",
        "} else {\n",
        "  bayesiana_salida <- mboContinue(\"HT.RDATA\") # retomo en caso que ya exista\n",
        "}"
      ]
    },
    {
      "cell_type": "markdown",
      "id": "36307612-964f-4df3-907a-1bc3c095f178",
      "metadata": {
        "id": "36307612-964f-4df3-907a-1bc3c095f178"
      },
      "source": [
        "la bayesian optimization ha corrido, extraigo los mejores hiperparametros"
      ]
    },
    {
      "cell_type": "code",
      "execution_count": null,
      "id": "8c061a2a-3341-4006-a154-c95bb6cfd407",
      "metadata": {
        "colab": {
          "base_uri": "https://localhost:8080/"
        },
        "id": "8c061a2a-3341-4006-a154-c95bb6cfd407",
        "outputId": "041d3494-7c58-4340-e24a-7fd7b53569c9"
      },
      "outputs": [
        {
          "output_type": "stream",
          "name": "stdout",
          "text": [
            "   num_leaves min_data_in_leaf num_iterations\n",
            "        <int>            <int>          <int>\n",
            "1:        160               17            185\n"
          ]
        }
      ],
      "source": [
        "# almaceno los resultados de la Bayesian Optimization\n",
        "# y capturo los mejores hiperparametros encontrados\n",
        "\n",
        "tb_bayesiana <- as.data.table(bayesiana_salida$opt.path)\n",
        "\n",
        "# ordeno en forma descendente por AUC = y\n",
        "setorder(tb_bayesiana, -y, -num_iterations)\n",
        "\n",
        "# grabo para eventualmente poder utilizarlos en OTRA corrida\n",
        "fwrite( tb_bayesiana,\n",
        "  file=\"BO_log.txt\",\n",
        "  sep=\"\\t\"\n",
        ")\n",
        "\n",
        "# los mejores hiperparámetros son los que quedaron en el registro 1 de la tabla\n",
        "PARAM$out$lgbm$mejores_hiperparametros <- tb_bayesiana[\n",
        "  1, # el primero es el de mejor AUC\n",
        "  list(num_leaves, min_data_in_leaf, num_iterations)\n",
        "]\n",
        "\n",
        "print(PARAM$out$lgbm$mejores_hiperparametros)"
      ]
    },
    {
      "cell_type": "markdown",
      "id": "ddb554cb-1d96-4f6b-ae1c-c9a076f8dbdc",
      "metadata": {
        "id": "ddb554cb-1d96-4f6b-ae1c-c9a076f8dbdc"
      },
      "source": [
        "### 8.3.3 Produccion Semillerio"
      ]
    },
    {
      "cell_type": "markdown",
      "id": "c39492c3-756f-47a5-8747-93ade8275306",
      "metadata": {
        "id": "c39492c3-756f-47a5-8747-93ade8275306"
      },
      "source": [
        "### Final Training Semillerio\n",
        "Construyo el modelo final, que es uno solo, no hace ningun tipo de particion < training, validation, testing>]"
      ]
    },
    {
      "cell_type": "markdown",
      "id": "xhKi_G_sYQqq",
      "metadata": {
        "id": "xhKi_G_sYQqq"
      },
      "source": [
        "#### Final Training Dataset\n",
        "\n",
        "Aqui esta la gran decision de en qué meses hago el Final Training\n",
        "<br> debo utilizar los mejores hiperparámetros que encontré en la optimización bayesiana"
      ]
    },
    {
      "cell_type": "code",
      "execution_count": null,
      "id": "qyHfS_X0zd7o",
      "metadata": {
        "colab": {
          "base_uri": "https://localhost:8080/",
          "height": 34
        },
        "id": "qyHfS_X0zd7o",
        "outputId": "495196d7-2048-4375-d7a7-ebe44da576bf"
      },
      "outputs": [
        {
          "output_type": "display_data",
          "data": {
            "text/html": [
              "240562"
            ],
            "text/markdown": "240562",
            "text/latex": "240562",
            "text/plain": [
              "[1] 240562"
            ]
          },
          "metadata": {}
        }
      ],
      "source": [
        "PARAM$trainingstrategy$final_train <- c( 202107,\n",
        "  202106, 202105, 202104, 202103, 202102, 202101,\n",
        "  202012, 202011, 202010, 202009, 202008, 202007,\n",
        "  202006, 202005\n",
        ")\n",
        "\n",
        "dataset[, fold_final_train := foto_mes %in% PARAM$trainingstrategy$final_train ]\n",
        "\n",
        "# creo el dfinal_train en formato  LightGBM\n",
        "dfinal_train <- lgb.Dataset(\n",
        "  data= data.matrix(dataset[fold_final_train == TRUE, campos_buenos, with= FALSE]),\n",
        "  label= dataset[fold_final_train == TRUE, clase01],\n",
        "  free_raw_data= TRUE\n",
        ")\n",
        "\n",
        "nrow( dfinal_train) # verifico el tamaño"
      ]
    },
    {
      "cell_type": "markdown",
      "id": "HATRyklxYUpT",
      "metadata": {
        "id": "HATRyklxYUpT"
      },
      "source": [
        "#### Final Training Hyperparameters"
      ]
    },
    {
      "cell_type": "code",
      "execution_count": null,
      "id": "d6b9f33c-e0a0-4ea6-8169-4a6180cc5d01",
      "metadata": {
        "id": "d6b9f33c-e0a0-4ea6-8169-4a6180cc5d01"
      },
      "outputs": [],
      "source": [
        "# uno los parametros fijos y los mejores encontrados de los variables\n",
        "fijos <- copy(PARAM$lgbm$param_fijos)\n",
        "\n",
        "# quito lo que optimice en la Bayesian Optimization\n",
        "fijos$num_iterations <- NULL\n",
        "fijos$early_stopping_rounds <- NULL\n",
        "\n",
        "# agrego a los hiperparametros fijos los que encontre con la Bayesian Optimization\n",
        "param_final <- c(fijos, PARAM$out$lgbm$mejores_hiperparametros)"
      ]
    },
    {
      "cell_type": "markdown",
      "id": "05d3494f-0401-4f3e-9b69-f488a737879d",
      "metadata": {
        "id": "05d3494f-0401-4f3e-9b69-f488a737879d"
      },
      "source": [
        "#### Training  Semillerio\n",
        "Genero el modelo final, siempre sobre TODOS los datos de  final_train, sin hacer ningun tipo de undersampling de la clase mayoritaria"
      ]
    },
    {
      "cell_type": "markdown",
      "id": "-VumBQBPjML9",
      "metadata": {
        "id": "-VumBQBPjML9"
      },
      "source": [
        "### Aqui va cuantas semillas utilizo para el semillerio"
      ]
    },
    {
      "cell_type": "code",
      "execution_count": null,
      "id": "35zQuWnajHvn",
      "metadata": {
        "id": "35zQuWnajHvn"
      },
      "outputs": [],
      "source": [
        "# semillerio\n",
        "PARAM$FT$semillerio <- 50  # cantidad de semillas"
      ]
    },
    {
      "cell_type": "code",
      "execution_count": null,
      "id": "pDwpeph1jR04",
      "metadata": {
        "id": "pDwpeph1jR04"
      },
      "outputs": [],
      "source": [
        "# semillerio\n",
        "if(!require(\"primes\")) install.packages(\"primes\")\n",
        "require(\"primes\")"
      ]
    },
    {
      "cell_type": "code",
      "execution_count": null,
      "id": "sAiDAV1yjU3P",
      "metadata": {
        "colab": {
          "base_uri": "https://localhost:8080/"
        },
        "id": "sAiDAV1yjU3P",
        "outputId": "41e9b14e-91a7-49ea-a81f-13b785c7d157"
      },
      "outputs": [
        {
          "output_type": "stream",
          "name": "stdout",
          "text": [
            "586577 726809 298937 617467 268547 536891 344017 520631 377477 583139 750797 411589 612193 187633 849601 208591 622669 807299 325319 509741 696737 236869 766907 208889 312623 579539 233693 160687 630181 414283 927709 905143 395173 715439 245911 126341 540101 133811 385129 675151 951413 472063 374447 424121 469717 471407 216233 857321 128351 776879"
          ]
        }
      ],
      "source": [
        "# semillerio\n",
        "primos <- generate_primes(min = 100000, max = 1000000)\n",
        "set.seed(PARAM$semilla_primigenia, kind = \"L'Ecuyer-CMRG\")\n",
        "# me quedo con PARAM$semillerio  primos al azar\n",
        "PARAM$FT$semillas <- sample(primos)[seq(PARAM$FT$semillerio)]\n",
        "\n",
        "cat( PARAM$FT$semillas)"
      ]
    },
    {
      "cell_type": "code",
      "execution_count": null,
      "id": "jWqxJRETkGFm",
      "metadata": {
        "id": "jWqxJRETkGFm"
      },
      "outputs": [],
      "source": [
        "# semillerio\n",
        "dir.create(\"modelos\", showWarnings =FALSE)\n",
        "\n",
        "primero <- TRUE\n",
        "for( sem in PARAM$FT$semillas)\n",
        "{\n",
        "  nombre_arch <- paste0( \"./modelos/modelo_\", sem, \".txt\")\n",
        "  if( !file.exists(nombre_arch) )\n",
        "  {\n",
        "    param_final$seed <- sem\n",
        "\n",
        "    set.seed(sem, kind = \"L'Ecuyer-CMRG\")\n",
        "    final_model <- lgb.train(\n",
        "      data= dfinal_train,\n",
        "      param= param_final,\n",
        "      verbose= -100\n",
        "    )\n",
        "\n",
        "    lgb.save(final_model, nombre_arch) # grabo el modelo\"\n",
        "\n",
        "    # grabo la primer importancia de variables\n",
        "    #  Natalia : da lo mismo cual se guarda\n",
        "    if( primero)\n",
        "    {\n",
        "      primero <- FALSE\n",
        "      tb_importancia <- as.data.table(lgb.importance(final_model))\n",
        "      archivo_importancia <- \"impo.txt\"\n",
        "\n",
        "      fwrite( tb_importancia,\n",
        "        file= archivo_importancia,\n",
        "        sep= \"\\t\"\n",
        "      )\n",
        "    }\n",
        " }\n",
        "}"
      ]
    },
    {
      "cell_type": "markdown",
      "id": "7ea225b3-ce02-42e2-8330-b10ed250d172",
      "metadata": {
        "id": "7ea225b3-ce02-42e2-8330-b10ed250d172"
      },
      "source": [
        "### Scoring Semillerio"
      ]
    },
    {
      "cell_type": "markdown",
      "id": "164981bb-f4c1-4228-8bc9-32e58a383c05",
      "metadata": {
        "id": "164981bb-f4c1-4228-8bc9-32e58a383c05"
      },
      "source": [
        "Aplico el modelo final a los datos del futuro"
      ]
    },
    {
      "cell_type": "code",
      "execution_count": null,
      "id": "eJ7RbT271v-R",
      "metadata": {
        "id": "eJ7RbT271v-R"
      },
      "outputs": [],
      "source": [
        "PARAM$trainingstrategy$future <- c(202109)\n",
        "\n",
        "dfuture <- dataset[ foto_mes %in% PARAM$trainingstrategy$future ]"
      ]
    },
    {
      "cell_type": "code",
      "execution_count": null,
      "id": "NLo4HBepkPGv",
      "metadata": {
        "id": "NLo4HBepkPGv",
        "colab": {
          "base_uri": "https://localhost:8080/",
          "height": 129
        },
        "outputId": "f49ca7b9-92b5-472c-a160-affa3af88dc8"
      },
      "outputs": [
        {
          "output_type": "display_data",
          "data": {
            "text/html": [
              "<table class=\"dataframe\">\n",
              "<caption>A matrix: 2 × 6 of type dbl</caption>\n",
              "<thead>\n",
              "\t<tr><th></th><th scope=col>used</th><th scope=col>(Mb)</th><th scope=col>gc trigger</th><th scope=col>(Mb)</th><th scope=col>max used</th><th scope=col>(Mb)</th></tr>\n",
              "</thead>\n",
              "<tbody>\n",
              "\t<tr><th scope=row>Ncells</th><td> 2467374</td><td>131.8</td><td>  5960914</td><td>318.4</td><td>  5960914</td><td>318.4</td></tr>\n",
              "\t<tr><th scope=row>Vcells</th><td>41131611</td><td>313.9</td><td>118933912</td><td>907.4</td><td>118885888</td><td>907.1</td></tr>\n",
              "</tbody>\n",
              "</table>\n"
            ],
            "text/markdown": "\nA matrix: 2 × 6 of type dbl\n\n| <!--/--> | used | (Mb) | gc trigger | (Mb) | max used | (Mb) |\n|---|---|---|---|---|---|---|\n| Ncells |  2467374 | 131.8 |   5960914 | 318.4 |   5960914 | 318.4 |\n| Vcells | 41131611 | 313.9 | 118933912 | 907.4 | 118885888 | 907.1 |\n\n",
            "text/latex": "A matrix: 2 × 6 of type dbl\n\\begin{tabular}{r|llllll}\n  & used & (Mb) & gc trigger & (Mb) & max used & (Mb)\\\\\n\\hline\n\tNcells &  2467374 & 131.8 &   5960914 & 318.4 &   5960914 & 318.4\\\\\n\tVcells & 41131611 & 313.9 & 118933912 & 907.4 & 118885888 & 907.1\\\\\n\\end{tabular}\n",
            "text/plain": [
              "       used     (Mb)  gc trigger (Mb)  max used  (Mb) \n",
              "Ncells  2467374 131.8   5960914  318.4   5960914 318.4\n",
              "Vcells 41131611 313.9 118933912  907.4 118885888 907.1"
            ]
          },
          "metadata": {}
        }
      ],
      "source": [
        "# semillerio aplico final_model   a dfuture\n",
        "\n",
        "tb_prediccion <- dfuture[, list(numero_de_cliente)]\n",
        "tb_prediccion[, prob := 0]\n",
        "\n",
        "datos_matrix <- data.matrix(dfuture[, campos_buenos, with= FALSE])\n",
        "\n",
        "\n",
        "for( isem in seq(length(PARAM$FT$semillas)) )\n",
        "{\n",
        "   sem <- PARAM$FT$semillas[ isem ]\n",
        "   nombre_arch <- paste0( \"./modelos/modelo_\", sem, \".txt\")\n",
        "   final_model <- lgb.load(nombre_arch)\n",
        "\n",
        "   prediccion <- predict(\n",
        "     final_model,\n",
        "     datos_matrix\n",
        "  )\n",
        "\n",
        "  tb_prediccion[, paste0(\"prob_\", isem) := prediccion]\n",
        "  tb_prediccion[, prob := prob + prediccion]\n",
        "\n",
        "  rm(final_model)\n",
        "  rm(prediccion)\n",
        "  gc(full = TRUE, verbose=FALSE)\n",
        "}\n",
        "\n",
        "rm( datos_matrix)\n",
        "gc(full = TRUE, verbose=FALSE)\n",
        "\n",
        "tb_prediccion[, prob := prob /length(PARAM$FT$semillas) ]"
      ]
    },
    {
      "cell_type": "code",
      "execution_count": null,
      "id": "88ca61c8-fa24-4ce5-8be1-323aca018e8f",
      "metadata": {
        "id": "88ca61c8-fa24-4ce5-8be1-323aca018e8f",
        "colab": {
          "base_uri": "https://localhost:8080/",
          "height": 1000
        },
        "outputId": "6ea51440-261d-4180-d5f9-283e2cbbe64c"
      },
      "outputs": [
        {
          "output_type": "display_data",
          "data": {
            "text/html": [
              "<table class=\"dataframe\">\n",
              "<caption>A data.table: 16551 × 52</caption>\n",
              "<thead>\n",
              "\t<tr><th scope=col>numero_de_cliente</th><th scope=col>prob</th><th scope=col>prob_1</th><th scope=col>prob_2</th><th scope=col>prob_3</th><th scope=col>prob_4</th><th scope=col>prob_5</th><th scope=col>prob_6</th><th scope=col>prob_7</th><th scope=col>prob_8</th><th scope=col>⋯</th><th scope=col>prob_41</th><th scope=col>prob_42</th><th scope=col>prob_43</th><th scope=col>prob_44</th><th scope=col>prob_45</th><th scope=col>prob_46</th><th scope=col>prob_47</th><th scope=col>prob_48</th><th scope=col>prob_49</th><th scope=col>prob_50</th></tr>\n",
              "\t<tr><th scope=col>&lt;int&gt;</th><th scope=col>&lt;dbl&gt;</th><th scope=col>&lt;dbl&gt;</th><th scope=col>&lt;dbl&gt;</th><th scope=col>&lt;dbl&gt;</th><th scope=col>&lt;dbl&gt;</th><th scope=col>&lt;dbl&gt;</th><th scope=col>&lt;dbl&gt;</th><th scope=col>&lt;dbl&gt;</th><th scope=col>&lt;dbl&gt;</th><th scope=col>⋯</th><th scope=col>&lt;dbl&gt;</th><th scope=col>&lt;dbl&gt;</th><th scope=col>&lt;dbl&gt;</th><th scope=col>&lt;dbl&gt;</th><th scope=col>&lt;dbl&gt;</th><th scope=col>&lt;dbl&gt;</th><th scope=col>&lt;dbl&gt;</th><th scope=col>&lt;dbl&gt;</th><th scope=col>&lt;dbl&gt;</th><th scope=col>&lt;dbl&gt;</th></tr>\n",
              "</thead>\n",
              "<tbody>\n",
              "\t<tr><td>29186441</td><td>0.0005138773</td><td>0.0004319605</td><td>0.0005686816</td><td>0.0004517804</td><td>5.617916e-04</td><td>5.461566e-04</td><td>0.0005830474</td><td>4.231757e-04</td><td>0.0006717540</td><td>⋯</td><td>0.0008769628</td><td>0.0004974973</td><td>0.0007793240</td><td>0.0005206655</td><td>0.0005596259</td><td>3.721484e-04</td><td>0.0004360431</td><td>0.0003555122</td><td>0.0005033984</td><td>0.0004858121</td></tr>\n",
              "\t<tr><td>29187961</td><td>0.0007936838</td><td>0.0010266699</td><td>0.0007640490</td><td>0.0011441499</td><td>9.816924e-04</td><td>9.618457e-04</td><td>0.0003797630</td><td>1.341818e-03</td><td>0.0006467255</td><td>⋯</td><td>0.0011077601</td><td>0.0008876656</td><td>0.0006115217</td><td>0.0005443717</td><td>0.0005189626</td><td>8.436962e-04</td><td>0.0007779737</td><td>0.0011416763</td><td>0.0007879558</td><td>0.0010399132</td></tr>\n",
              "\t<tr><td>29193101</td><td>0.0004371930</td><td>0.0003796335</td><td>0.0004917827</td><td>0.0003876199</td><td>3.173636e-04</td><td>5.676184e-04</td><td>0.0003467465</td><td>5.861722e-04</td><td>0.0003542999</td><td>⋯</td><td>0.0003361426</td><td>0.0002849330</td><td>0.0003937918</td><td>0.0004119309</td><td>0.0003756132</td><td>3.488625e-04</td><td>0.0003789991</td><td>0.0004582496</td><td>0.0003766297</td><td>0.0005788563</td></tr>\n",
              "\t<tr><td>29193281</td><td>0.0003492178</td><td>0.0004353794</td><td>0.0003330004</td><td>0.0003457959</td><td>3.508315e-04</td><td>3.533858e-04</td><td>0.0003009704</td><td>3.007872e-04</td><td>0.0002887257</td><td>⋯</td><td>0.0003771999</td><td>0.0002989981</td><td>0.0004768291</td><td>0.0002603318</td><td>0.0002797371</td><td>3.175258e-04</td><td>0.0004397135</td><td>0.0002663566</td><td>0.0002520017</td><td>0.0003214293</td></tr>\n",
              "\t<tr><td>29198891</td><td>0.0004335470</td><td>0.0004155354</td><td>0.0004502287</td><td>0.0004326422</td><td>4.416154e-04</td><td>3.608536e-04</td><td>0.0003742916</td><td>4.441525e-04</td><td>0.0003477035</td><td>⋯</td><td>0.0005215381</td><td>0.0003595774</td><td>0.0004560716</td><td>0.0003930842</td><td>0.0003991746</td><td>4.209338e-04</td><td>0.0005373625</td><td>0.0003650355</td><td>0.0004299279</td><td>0.0004170045</td></tr>\n",
              "\t<tr><td>29200651</td><td>0.0017398559</td><td>0.0017044752</td><td>0.0022018716</td><td>0.0015281301</td><td>8.434641e-04</td><td>1.976325e-03</td><td>0.0010035484</td><td>2.226445e-03</td><td>0.0016741152</td><td>⋯</td><td>0.0010045562</td><td>0.0022315798</td><td>0.0016046256</td><td>0.0024424095</td><td>0.0015322283</td><td>1.417682e-03</td><td>0.0010870573</td><td>0.0029874345</td><td>0.0018672005</td><td>0.0023254570</td></tr>\n",
              "\t<tr><td>29201701</td><td>0.0002612258</td><td>0.0002147773</td><td>0.0002852023</td><td>0.0002201873</td><td>3.795719e-04</td><td>2.386459e-04</td><td>0.0002156018</td><td>2.561901e-04</td><td>0.0002399528</td><td>⋯</td><td>0.0002633000</td><td>0.0003843978</td><td>0.0002413238</td><td>0.0002796067</td><td>0.0003028835</td><td>2.617116e-04</td><td>0.0003034301</td><td>0.0002743067</td><td>0.0002980399</td><td>0.0001893705</td></tr>\n",
              "\t<tr><td>29205441</td><td>0.0905308479</td><td>0.3791595850</td><td>0.0420129915</td><td>0.0304755667</td><td>3.542014e-02</td><td>4.092389e-02</td><td>0.1179530638</td><td>9.077073e-02</td><td>0.0519920633</td><td>⋯</td><td>0.1159848376</td><td>0.1400154409</td><td>0.0190457177</td><td>0.0278043641</td><td>0.1018142835</td><td>1.044651e-01</td><td>0.1480655208</td><td>0.0499271181</td><td>0.1373855628</td><td>0.0474812894</td></tr>\n",
              "\t<tr><td>29207901</td><td>0.0029996031</td><td>0.0033491622</td><td>0.0024042618</td><td>0.0021478514</td><td>4.112310e-03</td><td>3.850658e-03</td><td>0.0027563199</td><td>3.370457e-03</td><td>0.0023853488</td><td>⋯</td><td>0.0025578771</td><td>0.0028053792</td><td>0.0029219273</td><td>0.0022763776</td><td>0.0023114892</td><td>2.595299e-03</td><td>0.0023557894</td><td>0.0026194867</td><td>0.0029792125</td><td>0.0025311639</td></tr>\n",
              "\t<tr><td>29243631</td><td>0.0001350237</td><td>0.0001468150</td><td>0.0001171929</td><td>0.0001356903</td><td>1.489114e-04</td><td>1.625184e-04</td><td>0.0001316524</td><td>1.164078e-04</td><td>0.0001278945</td><td>⋯</td><td>0.0001354175</td><td>0.0001496198</td><td>0.0001251099</td><td>0.0001498947</td><td>0.0001295157</td><td>1.297083e-04</td><td>0.0001331576</td><td>0.0001534656</td><td>0.0001265449</td><td>0.0001170028</td></tr>\n",
              "\t<tr><td>29251231</td><td>0.0016765058</td><td>0.0016300124</td><td>0.0011707329</td><td>0.0020432889</td><td>1.388481e-03</td><td>1.464095e-03</td><td>0.0010954128</td><td>1.100189e-03</td><td>0.0090453296</td><td>⋯</td><td>0.0021063750</td><td>0.0033601550</td><td>0.0009327994</td><td>0.0012352890</td><td>0.0011797683</td><td>1.309709e-03</td><td>0.0015247710</td><td>0.0027230211</td><td>0.0019633299</td><td>0.0019901378</td></tr>\n",
              "\t<tr><td>29257551</td><td>0.0002215788</td><td>0.0002413648</td><td>0.0002003226</td><td>0.0002056242</td><td>2.518374e-04</td><td>1.984803e-04</td><td>0.0002390944</td><td>2.041280e-04</td><td>0.0002272532</td><td>⋯</td><td>0.0001969046</td><td>0.0002354007</td><td>0.0001694777</td><td>0.0002153797</td><td>0.0002230887</td><td>2.141147e-04</td><td>0.0002500192</td><td>0.0002070465</td><td>0.0002094836</td><td>0.0001988201</td></tr>\n",
              "\t<tr><td>29267141</td><td>0.0005100385</td><td>0.0006528700</td><td>0.0004111497</td><td>0.0005824142</td><td>4.836249e-04</td><td>7.496543e-04</td><td>0.0005304217</td><td>5.181572e-04</td><td>0.0006681761</td><td>⋯</td><td>0.0004240370</td><td>0.0003768601</td><td>0.0006175346</td><td>0.0005717759</td><td>0.0004514062</td><td>6.755409e-04</td><td>0.0005513161</td><td>0.0004452842</td><td>0.0004802580</td><td>0.0004625457</td></tr>\n",
              "\t<tr><td>29277081</td><td>0.0014698165</td><td>0.0011524639</td><td>0.0014777373</td><td>0.0009778808</td><td>1.153495e-03</td><td>1.230763e-03</td><td>0.0009788923</td><td>1.164720e-03</td><td>0.0024683617</td><td>⋯</td><td>0.0013800769</td><td>0.0014376697</td><td>0.0015317277</td><td>0.0012500976</td><td>0.0014106257</td><td>1.228011e-03</td><td>0.0011430441</td><td>0.0016698023</td><td>0.0016248158</td><td>0.0015062062</td></tr>\n",
              "\t<tr><td>29284331</td><td>0.0014764680</td><td>0.0011836557</td><td>0.0018567302</td><td>0.0011002565</td><td>1.173883e-03</td><td>1.366302e-03</td><td>0.0015687520</td><td>2.267810e-03</td><td>0.0014134648</td><td>⋯</td><td>0.0008859125</td><td>0.0016016039</td><td>0.0015950268</td><td>0.0011762669</td><td>0.0014666005</td><td>1.192434e-03</td><td>0.0008303726</td><td>0.0016948765</td><td>0.0024395256</td><td>0.0038132720</td></tr>\n",
              "\t<tr><td>29286091</td><td>0.0006329217</td><td>0.0006484593</td><td>0.0006244570</td><td>0.0006456969</td><td>4.175579e-04</td><td>4.896981e-04</td><td>0.0004034744</td><td>7.756901e-04</td><td>0.0005474750</td><td>⋯</td><td>0.0006270510</td><td>0.0009835343</td><td>0.0005537966</td><td>0.0005832751</td><td>0.0005844167</td><td>8.389394e-04</td><td>0.0007735213</td><td>0.0004725173</td><td>0.0006878229</td><td>0.0008575830</td></tr>\n",
              "\t<tr><td>29288251</td><td>0.0048005622</td><td>0.0057005176</td><td>0.0044268554</td><td>0.0043466012</td><td>5.469578e-03</td><td>5.203750e-03</td><td>0.0035029707</td><td>6.202346e-03</td><td>0.0063725888</td><td>⋯</td><td>0.0040638311</td><td>0.0061456072</td><td>0.0089839448</td><td>0.0062760005</td><td>0.0037390903</td><td>3.107466e-03</td><td>0.0033070979</td><td>0.0037708855</td><td>0.0030865739</td><td>0.0034835947</td></tr>\n",
              "\t<tr><td>29289361</td><td>0.0006345395</td><td>0.0006840981</td><td>0.0005733967</td><td>0.0006593711</td><td>5.583721e-04</td><td>6.706018e-04</td><td>0.0007011140</td><td>6.640206e-04</td><td>0.0005141984</td><td>⋯</td><td>0.0004928029</td><td>0.0009499552</td><td>0.0006177732</td><td>0.0007239425</td><td>0.0004169464</td><td>5.074095e-04</td><td>0.0006588405</td><td>0.0008610108</td><td>0.0009471752</td><td>0.0007175445</td></tr>\n",
              "\t<tr><td>29292171</td><td>0.0008649728</td><td>0.0005901086</td><td>0.0006948243</td><td>0.0012168084</td><td>9.539775e-04</td><td>7.251255e-04</td><td>0.0011487471</td><td>1.427818e-03</td><td>0.0013693023</td><td>⋯</td><td>0.0007936845</td><td>0.0008464335</td><td>0.0007639707</td><td>0.0006529678</td><td>0.0007473065</td><td>7.435747e-04</td><td>0.0004877814</td><td>0.0011175653</td><td>0.0008542362</td><td>0.0005943898</td></tr>\n",
              "\t<tr><td>29297201</td><td>0.0011489822</td><td>0.0006777052</td><td>0.0009184261</td><td>0.0010737740</td><td>1.415017e-03</td><td>1.053139e-03</td><td>0.0015161444</td><td>1.140265e-03</td><td>0.0010990777</td><td>⋯</td><td>0.0010974632</td><td>0.0010523048</td><td>0.0007541723</td><td>0.0007465019</td><td>0.0006781242</td><td>9.619311e-04</td><td>0.0007353014</td><td>0.0009511823</td><td>0.0006319628</td><td>0.0009506370</td></tr>\n",
              "\t<tr><td>29298431</td><td>0.0012194042</td><td>0.0010850168</td><td>0.0012350950</td><td>0.0011032306</td><td>1.100467e-03</td><td>9.984263e-04</td><td>0.0012761523</td><td>1.068014e-03</td><td>0.0011550493</td><td>⋯</td><td>0.0007580585</td><td>0.0009866277</td><td>0.0009350548</td><td>0.0014960496</td><td>0.0009355122</td><td>1.334372e-03</td><td>0.0012153713</td><td>0.0014810652</td><td>0.0010110240</td><td>0.0013024375</td></tr>\n",
              "\t<tr><td>29300881</td><td>0.0001671996</td><td>0.0001638271</td><td>0.0001448594</td><td>0.0001956986</td><td>1.931171e-04</td><td>1.484763e-04</td><td>0.0001868398</td><td>1.674288e-04</td><td>0.0001623510</td><td>⋯</td><td>0.0002044083</td><td>0.0001553741</td><td>0.0001436947</td><td>0.0001760451</td><td>0.0001773570</td><td>1.345351e-04</td><td>0.0001825879</td><td>0.0001384439</td><td>0.0001977617</td><td>0.0001609961</td></tr>\n",
              "\t<tr><td>29300941</td><td>0.0001133273</td><td>0.0001159895</td><td>0.0001234097</td><td>0.0001277338</td><td>1.038617e-04</td><td>9.181859e-05</td><td>0.0001113114</td><td>9.600064e-05</td><td>0.0001214465</td><td>⋯</td><td>0.0001323165</td><td>0.0001339217</td><td>0.0001123840</td><td>0.0001045057</td><td>0.0001327804</td><td>1.047833e-04</td><td>0.0001285613</td><td>0.0001012600</td><td>0.0001269475</td><td>0.0001082817</td></tr>\n",
              "\t<tr><td>29304511</td><td>0.0007898271</td><td>0.0005070307</td><td>0.0006835502</td><td>0.0003987398</td><td>7.493025e-04</td><td>1.314014e-03</td><td>0.0007020936</td><td>1.749529e-03</td><td>0.0006913523</td><td>⋯</td><td>0.0004242227</td><td>0.0005728196</td><td>0.0010508661</td><td>0.0006360741</td><td>0.0006934342</td><td>1.317664e-03</td><td>0.0004653093</td><td>0.0013932307</td><td>0.0009404034</td><td>0.0006651207</td></tr>\n",
              "\t<tr><td>29325391</td><td>0.0012611759</td><td>0.0009196955</td><td>0.0011598708</td><td>0.0016553313</td><td>1.024474e-03</td><td>1.515030e-03</td><td>0.0016650451</td><td>1.076459e-03</td><td>0.0007931677</td><td>⋯</td><td>0.0010873461</td><td>0.0013640284</td><td>0.0016452444</td><td>0.0010735934</td><td>0.0010006973</td><td>1.505810e-03</td><td>0.0011362286</td><td>0.0011130756</td><td>0.0011009091</td><td>0.0008205444</td></tr>\n",
              "\t<tr><td>29344801</td><td>0.0002505809</td><td>0.0002201935</td><td>0.0003111450</td><td>0.0002217110</td><td>1.976471e-04</td><td>2.232004e-04</td><td>0.0002693657</td><td>2.424701e-04</td><td>0.0002319028</td><td>⋯</td><td>0.0002305781</td><td>0.0002310146</td><td>0.0003035390</td><td>0.0002248588</td><td>0.0001980483</td><td>2.351945e-04</td><td>0.0002660927</td><td>0.0002718871</td><td>0.0002391621</td><td>0.0002222880</td></tr>\n",
              "\t<tr><td>29344861</td><td>0.0007147738</td><td>0.0006802485</td><td>0.0008892225</td><td>0.0008705873</td><td>8.382339e-04</td><td>8.480238e-04</td><td>0.0008085398</td><td>6.743166e-04</td><td>0.0007140091</td><td>⋯</td><td>0.0007090140</td><td>0.0005515560</td><td>0.0007106592</td><td>0.0004815663</td><td>0.0006565492</td><td>8.222226e-04</td><td>0.0007990983</td><td>0.0006871057</td><td>0.0007767886</td><td>0.0008752225</td></tr>\n",
              "\t<tr><td>29346321</td><td>0.0001112780</td><td>0.0001299146</td><td>0.0001056812</td><td>0.0001110900</td><td>9.610431e-05</td><td>1.206017e-04</td><td>0.0001176016</td><td>1.199753e-04</td><td>0.0001021463</td><td>⋯</td><td>0.0001433819</td><td>0.0001069071</td><td>0.0001070476</td><td>0.0001135589</td><td>0.0001111397</td><td>9.821508e-05</td><td>0.0001191430</td><td>0.0001045357</td><td>0.0001266153</td><td>0.0001036556</td></tr>\n",
              "\t<tr><td>29347841</td><td>0.0002068272</td><td>0.0002077871</td><td>0.0001406511</td><td>0.0002107054</td><td>1.966892e-04</td><td>1.762751e-04</td><td>0.0001784802</td><td>2.042350e-04</td><td>0.0001933720</td><td>⋯</td><td>0.0002050524</td><td>0.0001639009</td><td>0.0001493505</td><td>0.0004695327</td><td>0.0002354386</td><td>2.083368e-04</td><td>0.0001759550</td><td>0.0001637916</td><td>0.0001710436</td><td>0.0002106012</td></tr>\n",
              "\t<tr><td>29347901</td><td>0.0002123533</td><td>0.0001837594</td><td>0.0002114657</td><td>0.0001844754</td><td>1.756873e-04</td><td>2.080378e-04</td><td>0.0002618688</td><td>2.441907e-04</td><td>0.0002510660</td><td>⋯</td><td>0.0002973503</td><td>0.0002474107</td><td>0.0003862151</td><td>0.0002128164</td><td>0.0001689874</td><td>2.320895e-04</td><td>0.0002368773</td><td>0.0001910220</td><td>0.0002050832</td><td>0.0002339584</td></tr>\n",
              "\t<tr><td>⋮</td><td>⋮</td><td>⋮</td><td>⋮</td><td>⋮</td><td>⋮</td><td>⋮</td><td>⋮</td><td>⋮</td><td>⋮</td><td>⋱</td><td>⋮</td><td>⋮</td><td>⋮</td><td>⋮</td><td>⋮</td><td>⋮</td><td>⋮</td><td>⋮</td><td>⋮</td><td>⋮</td></tr>\n",
              "\t<tr><td>186827251</td><td>0.0038461234</td><td>0.0028105220</td><td>0.0030122478</td><td>0.0042246871</td><td>0.0028531538</td><td>0.0021198632</td><td>0.0041981284</td><td>0.0020691411</td><td>0.0025803414</td><td>⋯</td><td>0.0025508700</td><td>0.0039194390</td><td>0.0041167306</td><td>0.0034719296</td><td>0.0032789018</td><td>0.0034346413</td><td>0.0024221243</td><td>0.0049193926</td><td>0.0027366260</td><td>0.0035523091</td></tr>\n",
              "\t<tr><td>186829241</td><td>0.0008574881</td><td>0.0007116853</td><td>0.0006457517</td><td>0.0012870399</td><td>0.0008777099</td><td>0.0009131755</td><td>0.0005166438</td><td>0.0005434754</td><td>0.0012908175</td><td>⋯</td><td>0.0009273012</td><td>0.0010955457</td><td>0.0008368382</td><td>0.0009093232</td><td>0.0007959269</td><td>0.0006597822</td><td>0.0009999646</td><td>0.0006414021</td><td>0.0006962356</td><td>0.0011182995</td></tr>\n",
              "\t<tr><td>186866381</td><td>0.0002507865</td><td>0.0002263028</td><td>0.0002942502</td><td>0.0002342809</td><td>0.0002457840</td><td>0.0002942890</td><td>0.0002427061</td><td>0.0002597819</td><td>0.0002327472</td><td>⋯</td><td>0.0002886922</td><td>0.0002046250</td><td>0.0002909414</td><td>0.0003100474</td><td>0.0002236087</td><td>0.0002538432</td><td>0.0002108844</td><td>0.0002855585</td><td>0.0002375118</td><td>0.0003012418</td></tr>\n",
              "\t<tr><td>186874801</td><td>0.0270498500</td><td>0.0355919050</td><td>0.0351639450</td><td>0.0463001459</td><td>0.0360137253</td><td>0.0318548368</td><td>0.0159128851</td><td>0.0190535256</td><td>0.0235192445</td><td>⋯</td><td>0.0392992936</td><td>0.0198892820</td><td>0.0114119900</td><td>0.0222970571</td><td>0.0300709927</td><td>0.0124752099</td><td>0.0144858058</td><td>0.0234857091</td><td>0.0137093036</td><td>0.0205528051</td></tr>\n",
              "\t<tr><td>186899651</td><td>0.0009924362</td><td>0.0009897250</td><td>0.0008427512</td><td>0.0020464041</td><td>0.0008556373</td><td>0.0009857225</td><td>0.0008177812</td><td>0.0014792576</td><td>0.0007038947</td><td>⋯</td><td>0.0009756917</td><td>0.0010818785</td><td>0.0006897730</td><td>0.0011539289</td><td>0.0008548610</td><td>0.0007781267</td><td>0.0006897970</td><td>0.0009479628</td><td>0.0011806494</td><td>0.0007907212</td></tr>\n",
              "\t<tr><td>187021641</td><td>0.0006467805</td><td>0.0006346978</td><td>0.0006353299</td><td>0.0006928283</td><td>0.0005070651</td><td>0.0006180181</td><td>0.0007642558</td><td>0.0007343887</td><td>0.0005547734</td><td>⋯</td><td>0.0008114097</td><td>0.0004087446</td><td>0.0005448853</td><td>0.0007420816</td><td>0.0008145168</td><td>0.0005271112</td><td>0.0006137219</td><td>0.0006798183</td><td>0.0004070412</td><td>0.0004846439</td></tr>\n",
              "\t<tr><td>187060301</td><td>0.0004774319</td><td>0.0004101301</td><td>0.0006175785</td><td>0.0004605842</td><td>0.0003811808</td><td>0.0005095504</td><td>0.0005120417</td><td>0.0004163930</td><td>0.0004040324</td><td>⋯</td><td>0.0007099084</td><td>0.0005129157</td><td>0.0005340187</td><td>0.0004746243</td><td>0.0003736103</td><td>0.0004997409</td><td>0.0003794243</td><td>0.0004899943</td><td>0.0003572899</td><td>0.0004327615</td></tr>\n",
              "\t<tr><td>187066091</td><td>0.0020084745</td><td>0.0008830060</td><td>0.0024313873</td><td>0.0023332671</td><td>0.0015389817</td><td>0.0035257940</td><td>0.0013007960</td><td>0.0011379686</td><td>0.0012605893</td><td>⋯</td><td>0.0019187132</td><td>0.0017174389</td><td>0.0016544729</td><td>0.0015501246</td><td>0.0016900927</td><td>0.0019437865</td><td>0.0008925399</td><td>0.0025920854</td><td>0.0010318501</td><td>0.0015479809</td></tr>\n",
              "\t<tr><td>187170651</td><td>0.0007140738</td><td>0.0004540009</td><td>0.0008596038</td><td>0.0003755086</td><td>0.0012748297</td><td>0.0005916978</td><td>0.0003823504</td><td>0.0003931707</td><td>0.0006800708</td><td>⋯</td><td>0.0003808738</td><td>0.0004218309</td><td>0.0004632100</td><td>0.0008983795</td><td>0.0006978658</td><td>0.0005043154</td><td>0.0009045388</td><td>0.0005090942</td><td>0.0004584102</td><td>0.0005228627</td></tr>\n",
              "\t<tr><td>187203931</td><td>0.0015682738</td><td>0.0013048488</td><td>0.0018453829</td><td>0.0012863034</td><td>0.0013191178</td><td>0.0011616459</td><td>0.0008661982</td><td>0.0015667506</td><td>0.0013204794</td><td>⋯</td><td>0.0016316653</td><td>0.0020296156</td><td>0.0015599939</td><td>0.0011034797</td><td>0.0020983790</td><td>0.0012670903</td><td>0.0011821412</td><td>0.0012088042</td><td>0.0010940133</td><td>0.0010494494</td></tr>\n",
              "\t<tr><td>187233931</td><td>0.0001731955</td><td>0.0001462487</td><td>0.0001839386</td><td>0.0001330617</td><td>0.0001514433</td><td>0.0001802153</td><td>0.0001482280</td><td>0.0002073355</td><td>0.0001363025</td><td>⋯</td><td>0.0001647454</td><td>0.0001616527</td><td>0.0001783341</td><td>0.0002850476</td><td>0.0001481134</td><td>0.0001651635</td><td>0.0001776325</td><td>0.0001487855</td><td>0.0001283398</td><td>0.0002090278</td></tr>\n",
              "\t<tr><td>187269951</td><td>0.0004697381</td><td>0.0004876151</td><td>0.0006215020</td><td>0.0005026520</td><td>0.0003912901</td><td>0.0004113743</td><td>0.0003565950</td><td>0.0004812980</td><td>0.0003481721</td><td>⋯</td><td>0.0005091429</td><td>0.0003792333</td><td>0.0004195434</td><td>0.0006010084</td><td>0.0004941912</td><td>0.0003896447</td><td>0.0003752588</td><td>0.0007306300</td><td>0.0004569484</td><td>0.0004410125</td></tr>\n",
              "\t<tr><td>187272641</td><td>0.0182671389</td><td>0.0225907143</td><td>0.0291915588</td><td>0.0179225021</td><td>0.0141596807</td><td>0.0115949963</td><td>0.0195667731</td><td>0.0125128854</td><td>0.0137549946</td><td>⋯</td><td>0.0200512883</td><td>0.0202173700</td><td>0.0128011375</td><td>0.0175040402</td><td>0.0170435217</td><td>0.0188539063</td><td>0.0147184727</td><td>0.0154677592</td><td>0.0218584698</td><td>0.0164931438</td></tr>\n",
              "\t<tr><td>187314281</td><td>0.0010618735</td><td>0.0009054850</td><td>0.0009677873</td><td>0.0007658428</td><td>0.0009210719</td><td>0.0011213901</td><td>0.0006386875</td><td>0.0012596696</td><td>0.0010361906</td><td>⋯</td><td>0.0008622549</td><td>0.0010707734</td><td>0.0009062815</td><td>0.0016204772</td><td>0.0022142102</td><td>0.0009660552</td><td>0.0008494473</td><td>0.0014911601</td><td>0.0009672004</td><td>0.0010754366</td></tr>\n",
              "\t<tr><td>187332121</td><td>0.0004525660</td><td>0.0004430496</td><td>0.0004564329</td><td>0.0004423237</td><td>0.0003703242</td><td>0.0004214340</td><td>0.0004261001</td><td>0.0004268958</td><td>0.0005119215</td><td>⋯</td><td>0.0004290279</td><td>0.0003993490</td><td>0.0004981800</td><td>0.0004126234</td><td>0.0005779486</td><td>0.0003894508</td><td>0.0004053767</td><td>0.0004517185</td><td>0.0004365848</td><td>0.0004171422</td></tr>\n",
              "\t<tr><td>187346211</td><td>0.0072542650</td><td>0.0093880280</td><td>0.0068642850</td><td>0.0049703170</td><td>0.0139026771</td><td>0.0040025146</td><td>0.0050542700</td><td>0.0100514651</td><td>0.0041873935</td><td>⋯</td><td>0.0288818115</td><td>0.0037466164</td><td>0.0071558560</td><td>0.0060601987</td><td>0.0041126094</td><td>0.0050506929</td><td>0.0042553329</td><td>0.0044230274</td><td>0.0074655961</td><td>0.0048409822</td></tr>\n",
              "\t<tr><td>187350011</td><td>0.0008369746</td><td>0.0009981035</td><td>0.0011572562</td><td>0.0004276480</td><td>0.0009527333</td><td>0.0008062921</td><td>0.0013538054</td><td>0.0012581702</td><td>0.0007990717</td><td>⋯</td><td>0.0005915320</td><td>0.0006622534</td><td>0.0005090241</td><td>0.0007248921</td><td>0.0005863010</td><td>0.0007869281</td><td>0.0007880221</td><td>0.0014058506</td><td>0.0006403191</td><td>0.0009079449</td></tr>\n",
              "\t<tr><td>187400951</td><td>0.0076370106</td><td>0.0062406915</td><td>0.0052567562</td><td>0.0065935514</td><td>0.0083265100</td><td>0.0094226414</td><td>0.0055245294</td><td>0.0125878031</td><td>0.0073487006</td><td>⋯</td><td>0.0056290780</td><td>0.0046323598</td><td>0.0071486262</td><td>0.0050486950</td><td>0.0066748860</td><td>0.0035169935</td><td>0.0047424665</td><td>0.0060446079</td><td>0.0063484803</td><td>0.0094275745</td></tr>\n",
              "\t<tr><td>187429081</td><td>0.0012783701</td><td>0.0010787276</td><td>0.0016120560</td><td>0.0008762436</td><td>0.0014634926</td><td>0.0016860267</td><td>0.0014159619</td><td>0.0008551013</td><td>0.0010690532</td><td>⋯</td><td>0.0012958942</td><td>0.0007767742</td><td>0.0017943868</td><td>0.0011436225</td><td>0.0015868348</td><td>0.0007645764</td><td>0.0014973380</td><td>0.0013990997</td><td>0.0011759258</td><td>0.0009876092</td></tr>\n",
              "\t<tr><td>187434871</td><td>0.0214283316</td><td>0.0403590937</td><td>0.0263825957</td><td>0.0381612396</td><td>0.0129169055</td><td>0.0309939598</td><td>0.0644041997</td><td>0.0200059146</td><td>0.0472872925</td><td>⋯</td><td>0.0083993256</td><td>0.0242287856</td><td>0.0255627085</td><td>0.0203412493</td><td>0.0149979446</td><td>0.0186463427</td><td>0.0143230746</td><td>0.0125197546</td><td>0.0179448398</td><td>0.0126683013</td></tr>\n",
              "\t<tr><td>187594641</td><td>0.0016567266</td><td>0.0020059597</td><td>0.0014020510</td><td>0.0009995436</td><td>0.0011933555</td><td>0.0011808061</td><td>0.0012253933</td><td>0.0014309211</td><td>0.0022011743</td><td>⋯</td><td>0.0013332943</td><td>0.0020906962</td><td>0.0012839759</td><td>0.0015206545</td><td>0.0015457149</td><td>0.0020162940</td><td>0.0012900517</td><td>0.0016157312</td><td>0.0008961052</td><td>0.0012090477</td></tr>\n",
              "\t<tr><td>187604521</td><td>0.0055225498</td><td>0.0055864613</td><td>0.0054744331</td><td>0.0039880788</td><td>0.0041533971</td><td>0.0048689403</td><td>0.0039675258</td><td>0.0043367005</td><td>0.0031764426</td><td>⋯</td><td>0.0136039386</td><td>0.0036561699</td><td>0.0047569711</td><td>0.0073847139</td><td>0.0029890867</td><td>0.0048020203</td><td>0.0061004365</td><td>0.0054000318</td><td>0.0030966457</td><td>0.0049684240</td></tr>\n",
              "\t<tr><td>187626041</td><td>0.0081418301</td><td>0.0094339761</td><td>0.0087793024</td><td>0.0101948267</td><td>0.0116963552</td><td>0.0076265927</td><td>0.0047372040</td><td>0.0107813821</td><td>0.0078339896</td><td>⋯</td><td>0.0057217691</td><td>0.0109673659</td><td>0.0087030977</td><td>0.0081266601</td><td>0.0066272803</td><td>0.0055613689</td><td>0.0046145988</td><td>0.0099703152</td><td>0.0073867143</td><td>0.0109524286</td></tr>\n",
              "\t<tr><td>187636041</td><td>0.0006530872</td><td>0.0010234642</td><td>0.0008124167</td><td>0.0005035250</td><td>0.0008853511</td><td>0.0004579040</td><td>0.0010744696</td><td>0.0006811924</td><td>0.0003341440</td><td>⋯</td><td>0.0005909512</td><td>0.0004759509</td><td>0.0005427220</td><td>0.0006053513</td><td>0.0003959552</td><td>0.0006864187</td><td>0.0014287991</td><td>0.0008073399</td><td>0.0005767460</td><td>0.0005038732</td></tr>\n",
              "\t<tr><td>187827511</td><td>0.0051496440</td><td>0.0036917874</td><td>0.0059060672</td><td>0.0054557615</td><td>0.0056332477</td><td>0.0069448680</td><td>0.0055853049</td><td>0.0036656041</td><td>0.0054400833</td><td>⋯</td><td>0.0048754918</td><td>0.0064652528</td><td>0.0056718332</td><td>0.0045625136</td><td>0.0069729635</td><td>0.0044681342</td><td>0.0032773668</td><td>0.0057729859</td><td>0.0045506310</td><td>0.0037694006</td></tr>\n",
              "\t<tr><td>187838971</td><td>0.0297314801</td><td>0.0338908637</td><td>0.0377990737</td><td>0.0242590062</td><td>0.0334380524</td><td>0.0218719047</td><td>0.0175507118</td><td>0.0230201310</td><td>0.0386061535</td><td>⋯</td><td>0.0199313884</td><td>0.0451756382</td><td>0.0273831326</td><td>0.0370719094</td><td>0.0350569866</td><td>0.0276222721</td><td>0.0254382560</td><td>0.0252057117</td><td>0.0434776854</td><td>0.0218320159</td></tr>\n",
              "\t<tr><td>187902361</td><td>0.0309502627</td><td>0.0325953254</td><td>0.0244490541</td><td>0.0273661023</td><td>0.0243689764</td><td>0.0289397723</td><td>0.0206408176</td><td>0.0212343459</td><td>0.0314131216</td><td>⋯</td><td>0.0229332327</td><td>0.0444204356</td><td>0.0310008244</td><td>0.0803581994</td><td>0.0300498209</td><td>0.0242940270</td><td>0.0409961234</td><td>0.0239340376</td><td>0.0378035066</td><td>0.0605037265</td></tr>\n",
              "\t<tr><td>187956461</td><td>0.0559128357</td><td>0.0392819415</td><td>0.0645696190</td><td>0.0784391219</td><td>0.0457510203</td><td>0.0342417685</td><td>0.0750812860</td><td>0.0431662786</td><td>0.0428208857</td><td>⋯</td><td>0.0398410535</td><td>0.0797399933</td><td>0.0863914503</td><td>0.0819814614</td><td>0.0443117294</td><td>0.0727223662</td><td>0.0404459094</td><td>0.0631158169</td><td>0.0511290928</td><td>0.0488277447</td></tr>\n",
              "\t<tr><td>187964701</td><td>0.0292902222</td><td>0.0432750790</td><td>0.0243615941</td><td>0.0289564781</td><td>0.0335268542</td><td>0.0283731595</td><td>0.0213175749</td><td>0.0243408573</td><td>0.0454522626</td><td>⋯</td><td>0.0206321799</td><td>0.0378103898</td><td>0.0303760383</td><td>0.0364485404</td><td>0.0517192897</td><td>0.0294548924</td><td>0.0264973097</td><td>0.0246471021</td><td>0.0247015250</td><td>0.0236658880</td></tr>\n",
              "\t<tr><td>188116871</td><td>0.0014117952</td><td>0.0013348400</td><td>0.0009109901</td><td>0.0018967213</td><td>0.0015033949</td><td>0.0017851003</td><td>0.0014949522</td><td>0.0009790528</td><td>0.0008489187</td><td>⋯</td><td>0.0007987803</td><td>0.0010377618</td><td>0.0018901904</td><td>0.0013979126</td><td>0.0015432270</td><td>0.0015446368</td><td>0.0012996728</td><td>0.0015060386</td><td>0.0023941686</td><td>0.0008105255</td></tr>\n",
              "</tbody>\n",
              "</table>\n"
            ],
            "text/markdown": "\nA data.table: 16551 × 52\n\n| numero_de_cliente &lt;int&gt; | prob &lt;dbl&gt; | prob_1 &lt;dbl&gt; | prob_2 &lt;dbl&gt; | prob_3 &lt;dbl&gt; | prob_4 &lt;dbl&gt; | prob_5 &lt;dbl&gt; | prob_6 &lt;dbl&gt; | prob_7 &lt;dbl&gt; | prob_8 &lt;dbl&gt; | ⋯ ⋯ | prob_41 &lt;dbl&gt; | prob_42 &lt;dbl&gt; | prob_43 &lt;dbl&gt; | prob_44 &lt;dbl&gt; | prob_45 &lt;dbl&gt; | prob_46 &lt;dbl&gt; | prob_47 &lt;dbl&gt; | prob_48 &lt;dbl&gt; | prob_49 &lt;dbl&gt; | prob_50 &lt;dbl&gt; |\n|---|---|---|---|---|---|---|---|---|---|---|---|---|---|---|---|---|---|---|---|---|\n| 29186441 | 0.0005138773 | 0.0004319605 | 0.0005686816 | 0.0004517804 | 5.617916e-04 | 5.461566e-04 | 0.0005830474 | 4.231757e-04 | 0.0006717540 | ⋯ | 0.0008769628 | 0.0004974973 | 0.0007793240 | 0.0005206655 | 0.0005596259 | 3.721484e-04 | 0.0004360431 | 0.0003555122 | 0.0005033984 | 0.0004858121 |\n| 29187961 | 0.0007936838 | 0.0010266699 | 0.0007640490 | 0.0011441499 | 9.816924e-04 | 9.618457e-04 | 0.0003797630 | 1.341818e-03 | 0.0006467255 | ⋯ | 0.0011077601 | 0.0008876656 | 0.0006115217 | 0.0005443717 | 0.0005189626 | 8.436962e-04 | 0.0007779737 | 0.0011416763 | 0.0007879558 | 0.0010399132 |\n| 29193101 | 0.0004371930 | 0.0003796335 | 0.0004917827 | 0.0003876199 | 3.173636e-04 | 5.676184e-04 | 0.0003467465 | 5.861722e-04 | 0.0003542999 | ⋯ | 0.0003361426 | 0.0002849330 | 0.0003937918 | 0.0004119309 | 0.0003756132 | 3.488625e-04 | 0.0003789991 | 0.0004582496 | 0.0003766297 | 0.0005788563 |\n| 29193281 | 0.0003492178 | 0.0004353794 | 0.0003330004 | 0.0003457959 | 3.508315e-04 | 3.533858e-04 | 0.0003009704 | 3.007872e-04 | 0.0002887257 | ⋯ | 0.0003771999 | 0.0002989981 | 0.0004768291 | 0.0002603318 | 0.0002797371 | 3.175258e-04 | 0.0004397135 | 0.0002663566 | 0.0002520017 | 0.0003214293 |\n| 29198891 | 0.0004335470 | 0.0004155354 | 0.0004502287 | 0.0004326422 | 4.416154e-04 | 3.608536e-04 | 0.0003742916 | 4.441525e-04 | 0.0003477035 | ⋯ | 0.0005215381 | 0.0003595774 | 0.0004560716 | 0.0003930842 | 0.0003991746 | 4.209338e-04 | 0.0005373625 | 0.0003650355 | 0.0004299279 | 0.0004170045 |\n| 29200651 | 0.0017398559 | 0.0017044752 | 0.0022018716 | 0.0015281301 | 8.434641e-04 | 1.976325e-03 | 0.0010035484 | 2.226445e-03 | 0.0016741152 | ⋯ | 0.0010045562 | 0.0022315798 | 0.0016046256 | 0.0024424095 | 0.0015322283 | 1.417682e-03 | 0.0010870573 | 0.0029874345 | 0.0018672005 | 0.0023254570 |\n| 29201701 | 0.0002612258 | 0.0002147773 | 0.0002852023 | 0.0002201873 | 3.795719e-04 | 2.386459e-04 | 0.0002156018 | 2.561901e-04 | 0.0002399528 | ⋯ | 0.0002633000 | 0.0003843978 | 0.0002413238 | 0.0002796067 | 0.0003028835 | 2.617116e-04 | 0.0003034301 | 0.0002743067 | 0.0002980399 | 0.0001893705 |\n| 29205441 | 0.0905308479 | 0.3791595850 | 0.0420129915 | 0.0304755667 | 3.542014e-02 | 4.092389e-02 | 0.1179530638 | 9.077073e-02 | 0.0519920633 | ⋯ | 0.1159848376 | 0.1400154409 | 0.0190457177 | 0.0278043641 | 0.1018142835 | 1.044651e-01 | 0.1480655208 | 0.0499271181 | 0.1373855628 | 0.0474812894 |\n| 29207901 | 0.0029996031 | 0.0033491622 | 0.0024042618 | 0.0021478514 | 4.112310e-03 | 3.850658e-03 | 0.0027563199 | 3.370457e-03 | 0.0023853488 | ⋯ | 0.0025578771 | 0.0028053792 | 0.0029219273 | 0.0022763776 | 0.0023114892 | 2.595299e-03 | 0.0023557894 | 0.0026194867 | 0.0029792125 | 0.0025311639 |\n| 29243631 | 0.0001350237 | 0.0001468150 | 0.0001171929 | 0.0001356903 | 1.489114e-04 | 1.625184e-04 | 0.0001316524 | 1.164078e-04 | 0.0001278945 | ⋯ | 0.0001354175 | 0.0001496198 | 0.0001251099 | 0.0001498947 | 0.0001295157 | 1.297083e-04 | 0.0001331576 | 0.0001534656 | 0.0001265449 | 0.0001170028 |\n| 29251231 | 0.0016765058 | 0.0016300124 | 0.0011707329 | 0.0020432889 | 1.388481e-03 | 1.464095e-03 | 0.0010954128 | 1.100189e-03 | 0.0090453296 | ⋯ | 0.0021063750 | 0.0033601550 | 0.0009327994 | 0.0012352890 | 0.0011797683 | 1.309709e-03 | 0.0015247710 | 0.0027230211 | 0.0019633299 | 0.0019901378 |\n| 29257551 | 0.0002215788 | 0.0002413648 | 0.0002003226 | 0.0002056242 | 2.518374e-04 | 1.984803e-04 | 0.0002390944 | 2.041280e-04 | 0.0002272532 | ⋯ | 0.0001969046 | 0.0002354007 | 0.0001694777 | 0.0002153797 | 0.0002230887 | 2.141147e-04 | 0.0002500192 | 0.0002070465 | 0.0002094836 | 0.0001988201 |\n| 29267141 | 0.0005100385 | 0.0006528700 | 0.0004111497 | 0.0005824142 | 4.836249e-04 | 7.496543e-04 | 0.0005304217 | 5.181572e-04 | 0.0006681761 | ⋯ | 0.0004240370 | 0.0003768601 | 0.0006175346 | 0.0005717759 | 0.0004514062 | 6.755409e-04 | 0.0005513161 | 0.0004452842 | 0.0004802580 | 0.0004625457 |\n| 29277081 | 0.0014698165 | 0.0011524639 | 0.0014777373 | 0.0009778808 | 1.153495e-03 | 1.230763e-03 | 0.0009788923 | 1.164720e-03 | 0.0024683617 | ⋯ | 0.0013800769 | 0.0014376697 | 0.0015317277 | 0.0012500976 | 0.0014106257 | 1.228011e-03 | 0.0011430441 | 0.0016698023 | 0.0016248158 | 0.0015062062 |\n| 29284331 | 0.0014764680 | 0.0011836557 | 0.0018567302 | 0.0011002565 | 1.173883e-03 | 1.366302e-03 | 0.0015687520 | 2.267810e-03 | 0.0014134648 | ⋯ | 0.0008859125 | 0.0016016039 | 0.0015950268 | 0.0011762669 | 0.0014666005 | 1.192434e-03 | 0.0008303726 | 0.0016948765 | 0.0024395256 | 0.0038132720 |\n| 29286091 | 0.0006329217 | 0.0006484593 | 0.0006244570 | 0.0006456969 | 4.175579e-04 | 4.896981e-04 | 0.0004034744 | 7.756901e-04 | 0.0005474750 | ⋯ | 0.0006270510 | 0.0009835343 | 0.0005537966 | 0.0005832751 | 0.0005844167 | 8.389394e-04 | 0.0007735213 | 0.0004725173 | 0.0006878229 | 0.0008575830 |\n| 29288251 | 0.0048005622 | 0.0057005176 | 0.0044268554 | 0.0043466012 | 5.469578e-03 | 5.203750e-03 | 0.0035029707 | 6.202346e-03 | 0.0063725888 | ⋯ | 0.0040638311 | 0.0061456072 | 0.0089839448 | 0.0062760005 | 0.0037390903 | 3.107466e-03 | 0.0033070979 | 0.0037708855 | 0.0030865739 | 0.0034835947 |\n| 29289361 | 0.0006345395 | 0.0006840981 | 0.0005733967 | 0.0006593711 | 5.583721e-04 | 6.706018e-04 | 0.0007011140 | 6.640206e-04 | 0.0005141984 | ⋯ | 0.0004928029 | 0.0009499552 | 0.0006177732 | 0.0007239425 | 0.0004169464 | 5.074095e-04 | 0.0006588405 | 0.0008610108 | 0.0009471752 | 0.0007175445 |\n| 29292171 | 0.0008649728 | 0.0005901086 | 0.0006948243 | 0.0012168084 | 9.539775e-04 | 7.251255e-04 | 0.0011487471 | 1.427818e-03 | 0.0013693023 | ⋯ | 0.0007936845 | 0.0008464335 | 0.0007639707 | 0.0006529678 | 0.0007473065 | 7.435747e-04 | 0.0004877814 | 0.0011175653 | 0.0008542362 | 0.0005943898 |\n| 29297201 | 0.0011489822 | 0.0006777052 | 0.0009184261 | 0.0010737740 | 1.415017e-03 | 1.053139e-03 | 0.0015161444 | 1.140265e-03 | 0.0010990777 | ⋯ | 0.0010974632 | 0.0010523048 | 0.0007541723 | 0.0007465019 | 0.0006781242 | 9.619311e-04 | 0.0007353014 | 0.0009511823 | 0.0006319628 | 0.0009506370 |\n| 29298431 | 0.0012194042 | 0.0010850168 | 0.0012350950 | 0.0011032306 | 1.100467e-03 | 9.984263e-04 | 0.0012761523 | 1.068014e-03 | 0.0011550493 | ⋯ | 0.0007580585 | 0.0009866277 | 0.0009350548 | 0.0014960496 | 0.0009355122 | 1.334372e-03 | 0.0012153713 | 0.0014810652 | 0.0010110240 | 0.0013024375 |\n| 29300881 | 0.0001671996 | 0.0001638271 | 0.0001448594 | 0.0001956986 | 1.931171e-04 | 1.484763e-04 | 0.0001868398 | 1.674288e-04 | 0.0001623510 | ⋯ | 0.0002044083 | 0.0001553741 | 0.0001436947 | 0.0001760451 | 0.0001773570 | 1.345351e-04 | 0.0001825879 | 0.0001384439 | 0.0001977617 | 0.0001609961 |\n| 29300941 | 0.0001133273 | 0.0001159895 | 0.0001234097 | 0.0001277338 | 1.038617e-04 | 9.181859e-05 | 0.0001113114 | 9.600064e-05 | 0.0001214465 | ⋯ | 0.0001323165 | 0.0001339217 | 0.0001123840 | 0.0001045057 | 0.0001327804 | 1.047833e-04 | 0.0001285613 | 0.0001012600 | 0.0001269475 | 0.0001082817 |\n| 29304511 | 0.0007898271 | 0.0005070307 | 0.0006835502 | 0.0003987398 | 7.493025e-04 | 1.314014e-03 | 0.0007020936 | 1.749529e-03 | 0.0006913523 | ⋯ | 0.0004242227 | 0.0005728196 | 0.0010508661 | 0.0006360741 | 0.0006934342 | 1.317664e-03 | 0.0004653093 | 0.0013932307 | 0.0009404034 | 0.0006651207 |\n| 29325391 | 0.0012611759 | 0.0009196955 | 0.0011598708 | 0.0016553313 | 1.024474e-03 | 1.515030e-03 | 0.0016650451 | 1.076459e-03 | 0.0007931677 | ⋯ | 0.0010873461 | 0.0013640284 | 0.0016452444 | 0.0010735934 | 0.0010006973 | 1.505810e-03 | 0.0011362286 | 0.0011130756 | 0.0011009091 | 0.0008205444 |\n| 29344801 | 0.0002505809 | 0.0002201935 | 0.0003111450 | 0.0002217110 | 1.976471e-04 | 2.232004e-04 | 0.0002693657 | 2.424701e-04 | 0.0002319028 | ⋯ | 0.0002305781 | 0.0002310146 | 0.0003035390 | 0.0002248588 | 0.0001980483 | 2.351945e-04 | 0.0002660927 | 0.0002718871 | 0.0002391621 | 0.0002222880 |\n| 29344861 | 0.0007147738 | 0.0006802485 | 0.0008892225 | 0.0008705873 | 8.382339e-04 | 8.480238e-04 | 0.0008085398 | 6.743166e-04 | 0.0007140091 | ⋯ | 0.0007090140 | 0.0005515560 | 0.0007106592 | 0.0004815663 | 0.0006565492 | 8.222226e-04 | 0.0007990983 | 0.0006871057 | 0.0007767886 | 0.0008752225 |\n| 29346321 | 0.0001112780 | 0.0001299146 | 0.0001056812 | 0.0001110900 | 9.610431e-05 | 1.206017e-04 | 0.0001176016 | 1.199753e-04 | 0.0001021463 | ⋯ | 0.0001433819 | 0.0001069071 | 0.0001070476 | 0.0001135589 | 0.0001111397 | 9.821508e-05 | 0.0001191430 | 0.0001045357 | 0.0001266153 | 0.0001036556 |\n| 29347841 | 0.0002068272 | 0.0002077871 | 0.0001406511 | 0.0002107054 | 1.966892e-04 | 1.762751e-04 | 0.0001784802 | 2.042350e-04 | 0.0001933720 | ⋯ | 0.0002050524 | 0.0001639009 | 0.0001493505 | 0.0004695327 | 0.0002354386 | 2.083368e-04 | 0.0001759550 | 0.0001637916 | 0.0001710436 | 0.0002106012 |\n| 29347901 | 0.0002123533 | 0.0001837594 | 0.0002114657 | 0.0001844754 | 1.756873e-04 | 2.080378e-04 | 0.0002618688 | 2.441907e-04 | 0.0002510660 | ⋯ | 0.0002973503 | 0.0002474107 | 0.0003862151 | 0.0002128164 | 0.0001689874 | 2.320895e-04 | 0.0002368773 | 0.0001910220 | 0.0002050832 | 0.0002339584 |\n| ⋮ | ⋮ | ⋮ | ⋮ | ⋮ | ⋮ | ⋮ | ⋮ | ⋮ | ⋮ | ⋱ | ⋮ | ⋮ | ⋮ | ⋮ | ⋮ | ⋮ | ⋮ | ⋮ | ⋮ | ⋮ |\n| 186827251 | 0.0038461234 | 0.0028105220 | 0.0030122478 | 0.0042246871 | 0.0028531538 | 0.0021198632 | 0.0041981284 | 0.0020691411 | 0.0025803414 | ⋯ | 0.0025508700 | 0.0039194390 | 0.0041167306 | 0.0034719296 | 0.0032789018 | 0.0034346413 | 0.0024221243 | 0.0049193926 | 0.0027366260 | 0.0035523091 |\n| 186829241 | 0.0008574881 | 0.0007116853 | 0.0006457517 | 0.0012870399 | 0.0008777099 | 0.0009131755 | 0.0005166438 | 0.0005434754 | 0.0012908175 | ⋯ | 0.0009273012 | 0.0010955457 | 0.0008368382 | 0.0009093232 | 0.0007959269 | 0.0006597822 | 0.0009999646 | 0.0006414021 | 0.0006962356 | 0.0011182995 |\n| 186866381 | 0.0002507865 | 0.0002263028 | 0.0002942502 | 0.0002342809 | 0.0002457840 | 0.0002942890 | 0.0002427061 | 0.0002597819 | 0.0002327472 | ⋯ | 0.0002886922 | 0.0002046250 | 0.0002909414 | 0.0003100474 | 0.0002236087 | 0.0002538432 | 0.0002108844 | 0.0002855585 | 0.0002375118 | 0.0003012418 |\n| 186874801 | 0.0270498500 | 0.0355919050 | 0.0351639450 | 0.0463001459 | 0.0360137253 | 0.0318548368 | 0.0159128851 | 0.0190535256 | 0.0235192445 | ⋯ | 0.0392992936 | 0.0198892820 | 0.0114119900 | 0.0222970571 | 0.0300709927 | 0.0124752099 | 0.0144858058 | 0.0234857091 | 0.0137093036 | 0.0205528051 |\n| 186899651 | 0.0009924362 | 0.0009897250 | 0.0008427512 | 0.0020464041 | 0.0008556373 | 0.0009857225 | 0.0008177812 | 0.0014792576 | 0.0007038947 | ⋯ | 0.0009756917 | 0.0010818785 | 0.0006897730 | 0.0011539289 | 0.0008548610 | 0.0007781267 | 0.0006897970 | 0.0009479628 | 0.0011806494 | 0.0007907212 |\n| 187021641 | 0.0006467805 | 0.0006346978 | 0.0006353299 | 0.0006928283 | 0.0005070651 | 0.0006180181 | 0.0007642558 | 0.0007343887 | 0.0005547734 | ⋯ | 0.0008114097 | 0.0004087446 | 0.0005448853 | 0.0007420816 | 0.0008145168 | 0.0005271112 | 0.0006137219 | 0.0006798183 | 0.0004070412 | 0.0004846439 |\n| 187060301 | 0.0004774319 | 0.0004101301 | 0.0006175785 | 0.0004605842 | 0.0003811808 | 0.0005095504 | 0.0005120417 | 0.0004163930 | 0.0004040324 | ⋯ | 0.0007099084 | 0.0005129157 | 0.0005340187 | 0.0004746243 | 0.0003736103 | 0.0004997409 | 0.0003794243 | 0.0004899943 | 0.0003572899 | 0.0004327615 |\n| 187066091 | 0.0020084745 | 0.0008830060 | 0.0024313873 | 0.0023332671 | 0.0015389817 | 0.0035257940 | 0.0013007960 | 0.0011379686 | 0.0012605893 | ⋯ | 0.0019187132 | 0.0017174389 | 0.0016544729 | 0.0015501246 | 0.0016900927 | 0.0019437865 | 0.0008925399 | 0.0025920854 | 0.0010318501 | 0.0015479809 |\n| 187170651 | 0.0007140738 | 0.0004540009 | 0.0008596038 | 0.0003755086 | 0.0012748297 | 0.0005916978 | 0.0003823504 | 0.0003931707 | 0.0006800708 | ⋯ | 0.0003808738 | 0.0004218309 | 0.0004632100 | 0.0008983795 | 0.0006978658 | 0.0005043154 | 0.0009045388 | 0.0005090942 | 0.0004584102 | 0.0005228627 |\n| 187203931 | 0.0015682738 | 0.0013048488 | 0.0018453829 | 0.0012863034 | 0.0013191178 | 0.0011616459 | 0.0008661982 | 0.0015667506 | 0.0013204794 | ⋯ | 0.0016316653 | 0.0020296156 | 0.0015599939 | 0.0011034797 | 0.0020983790 | 0.0012670903 | 0.0011821412 | 0.0012088042 | 0.0010940133 | 0.0010494494 |\n| 187233931 | 0.0001731955 | 0.0001462487 | 0.0001839386 | 0.0001330617 | 0.0001514433 | 0.0001802153 | 0.0001482280 | 0.0002073355 | 0.0001363025 | ⋯ | 0.0001647454 | 0.0001616527 | 0.0001783341 | 0.0002850476 | 0.0001481134 | 0.0001651635 | 0.0001776325 | 0.0001487855 | 0.0001283398 | 0.0002090278 |\n| 187269951 | 0.0004697381 | 0.0004876151 | 0.0006215020 | 0.0005026520 | 0.0003912901 | 0.0004113743 | 0.0003565950 | 0.0004812980 | 0.0003481721 | ⋯ | 0.0005091429 | 0.0003792333 | 0.0004195434 | 0.0006010084 | 0.0004941912 | 0.0003896447 | 0.0003752588 | 0.0007306300 | 0.0004569484 | 0.0004410125 |\n| 187272641 | 0.0182671389 | 0.0225907143 | 0.0291915588 | 0.0179225021 | 0.0141596807 | 0.0115949963 | 0.0195667731 | 0.0125128854 | 0.0137549946 | ⋯ | 0.0200512883 | 0.0202173700 | 0.0128011375 | 0.0175040402 | 0.0170435217 | 0.0188539063 | 0.0147184727 | 0.0154677592 | 0.0218584698 | 0.0164931438 |\n| 187314281 | 0.0010618735 | 0.0009054850 | 0.0009677873 | 0.0007658428 | 0.0009210719 | 0.0011213901 | 0.0006386875 | 0.0012596696 | 0.0010361906 | ⋯ | 0.0008622549 | 0.0010707734 | 0.0009062815 | 0.0016204772 | 0.0022142102 | 0.0009660552 | 0.0008494473 | 0.0014911601 | 0.0009672004 | 0.0010754366 |\n| 187332121 | 0.0004525660 | 0.0004430496 | 0.0004564329 | 0.0004423237 | 0.0003703242 | 0.0004214340 | 0.0004261001 | 0.0004268958 | 0.0005119215 | ⋯ | 0.0004290279 | 0.0003993490 | 0.0004981800 | 0.0004126234 | 0.0005779486 | 0.0003894508 | 0.0004053767 | 0.0004517185 | 0.0004365848 | 0.0004171422 |\n| 187346211 | 0.0072542650 | 0.0093880280 | 0.0068642850 | 0.0049703170 | 0.0139026771 | 0.0040025146 | 0.0050542700 | 0.0100514651 | 0.0041873935 | ⋯ | 0.0288818115 | 0.0037466164 | 0.0071558560 | 0.0060601987 | 0.0041126094 | 0.0050506929 | 0.0042553329 | 0.0044230274 | 0.0074655961 | 0.0048409822 |\n| 187350011 | 0.0008369746 | 0.0009981035 | 0.0011572562 | 0.0004276480 | 0.0009527333 | 0.0008062921 | 0.0013538054 | 0.0012581702 | 0.0007990717 | ⋯ | 0.0005915320 | 0.0006622534 | 0.0005090241 | 0.0007248921 | 0.0005863010 | 0.0007869281 | 0.0007880221 | 0.0014058506 | 0.0006403191 | 0.0009079449 |\n| 187400951 | 0.0076370106 | 0.0062406915 | 0.0052567562 | 0.0065935514 | 0.0083265100 | 0.0094226414 | 0.0055245294 | 0.0125878031 | 0.0073487006 | ⋯ | 0.0056290780 | 0.0046323598 | 0.0071486262 | 0.0050486950 | 0.0066748860 | 0.0035169935 | 0.0047424665 | 0.0060446079 | 0.0063484803 | 0.0094275745 |\n| 187429081 | 0.0012783701 | 0.0010787276 | 0.0016120560 | 0.0008762436 | 0.0014634926 | 0.0016860267 | 0.0014159619 | 0.0008551013 | 0.0010690532 | ⋯ | 0.0012958942 | 0.0007767742 | 0.0017943868 | 0.0011436225 | 0.0015868348 | 0.0007645764 | 0.0014973380 | 0.0013990997 | 0.0011759258 | 0.0009876092 |\n| 187434871 | 0.0214283316 | 0.0403590937 | 0.0263825957 | 0.0381612396 | 0.0129169055 | 0.0309939598 | 0.0644041997 | 0.0200059146 | 0.0472872925 | ⋯ | 0.0083993256 | 0.0242287856 | 0.0255627085 | 0.0203412493 | 0.0149979446 | 0.0186463427 | 0.0143230746 | 0.0125197546 | 0.0179448398 | 0.0126683013 |\n| 187594641 | 0.0016567266 | 0.0020059597 | 0.0014020510 | 0.0009995436 | 0.0011933555 | 0.0011808061 | 0.0012253933 | 0.0014309211 | 0.0022011743 | ⋯ | 0.0013332943 | 0.0020906962 | 0.0012839759 | 0.0015206545 | 0.0015457149 | 0.0020162940 | 0.0012900517 | 0.0016157312 | 0.0008961052 | 0.0012090477 |\n| 187604521 | 0.0055225498 | 0.0055864613 | 0.0054744331 | 0.0039880788 | 0.0041533971 | 0.0048689403 | 0.0039675258 | 0.0043367005 | 0.0031764426 | ⋯ | 0.0136039386 | 0.0036561699 | 0.0047569711 | 0.0073847139 | 0.0029890867 | 0.0048020203 | 0.0061004365 | 0.0054000318 | 0.0030966457 | 0.0049684240 |\n| 187626041 | 0.0081418301 | 0.0094339761 | 0.0087793024 | 0.0101948267 | 0.0116963552 | 0.0076265927 | 0.0047372040 | 0.0107813821 | 0.0078339896 | ⋯ | 0.0057217691 | 0.0109673659 | 0.0087030977 | 0.0081266601 | 0.0066272803 | 0.0055613689 | 0.0046145988 | 0.0099703152 | 0.0073867143 | 0.0109524286 |\n| 187636041 | 0.0006530872 | 0.0010234642 | 0.0008124167 | 0.0005035250 | 0.0008853511 | 0.0004579040 | 0.0010744696 | 0.0006811924 | 0.0003341440 | ⋯ | 0.0005909512 | 0.0004759509 | 0.0005427220 | 0.0006053513 | 0.0003959552 | 0.0006864187 | 0.0014287991 | 0.0008073399 | 0.0005767460 | 0.0005038732 |\n| 187827511 | 0.0051496440 | 0.0036917874 | 0.0059060672 | 0.0054557615 | 0.0056332477 | 0.0069448680 | 0.0055853049 | 0.0036656041 | 0.0054400833 | ⋯ | 0.0048754918 | 0.0064652528 | 0.0056718332 | 0.0045625136 | 0.0069729635 | 0.0044681342 | 0.0032773668 | 0.0057729859 | 0.0045506310 | 0.0037694006 |\n| 187838971 | 0.0297314801 | 0.0338908637 | 0.0377990737 | 0.0242590062 | 0.0334380524 | 0.0218719047 | 0.0175507118 | 0.0230201310 | 0.0386061535 | ⋯ | 0.0199313884 | 0.0451756382 | 0.0273831326 | 0.0370719094 | 0.0350569866 | 0.0276222721 | 0.0254382560 | 0.0252057117 | 0.0434776854 | 0.0218320159 |\n| 187902361 | 0.0309502627 | 0.0325953254 | 0.0244490541 | 0.0273661023 | 0.0243689764 | 0.0289397723 | 0.0206408176 | 0.0212343459 | 0.0314131216 | ⋯ | 0.0229332327 | 0.0444204356 | 0.0310008244 | 0.0803581994 | 0.0300498209 | 0.0242940270 | 0.0409961234 | 0.0239340376 | 0.0378035066 | 0.0605037265 |\n| 187956461 | 0.0559128357 | 0.0392819415 | 0.0645696190 | 0.0784391219 | 0.0457510203 | 0.0342417685 | 0.0750812860 | 0.0431662786 | 0.0428208857 | ⋯ | 0.0398410535 | 0.0797399933 | 0.0863914503 | 0.0819814614 | 0.0443117294 | 0.0727223662 | 0.0404459094 | 0.0631158169 | 0.0511290928 | 0.0488277447 |\n| 187964701 | 0.0292902222 | 0.0432750790 | 0.0243615941 | 0.0289564781 | 0.0335268542 | 0.0283731595 | 0.0213175749 | 0.0243408573 | 0.0454522626 | ⋯ | 0.0206321799 | 0.0378103898 | 0.0303760383 | 0.0364485404 | 0.0517192897 | 0.0294548924 | 0.0264973097 | 0.0246471021 | 0.0247015250 | 0.0236658880 |\n| 188116871 | 0.0014117952 | 0.0013348400 | 0.0009109901 | 0.0018967213 | 0.0015033949 | 0.0017851003 | 0.0014949522 | 0.0009790528 | 0.0008489187 | ⋯ | 0.0007987803 | 0.0010377618 | 0.0018901904 | 0.0013979126 | 0.0015432270 | 0.0015446368 | 0.0012996728 | 0.0015060386 | 0.0023941686 | 0.0008105255 |\n\n",
            "text/latex": "A data.table: 16551 × 52\n\\begin{tabular}{lllllllllllllllllllll}\n numero\\_de\\_cliente & prob & prob\\_1 & prob\\_2 & prob\\_3 & prob\\_4 & prob\\_5 & prob\\_6 & prob\\_7 & prob\\_8 & ⋯ & prob\\_41 & prob\\_42 & prob\\_43 & prob\\_44 & prob\\_45 & prob\\_46 & prob\\_47 & prob\\_48 & prob\\_49 & prob\\_50\\\\\n <int> & <dbl> & <dbl> & <dbl> & <dbl> & <dbl> & <dbl> & <dbl> & <dbl> & <dbl> & ⋯ & <dbl> & <dbl> & <dbl> & <dbl> & <dbl> & <dbl> & <dbl> & <dbl> & <dbl> & <dbl>\\\\\n\\hline\n\t 29186441 & 0.0005138773 & 0.0004319605 & 0.0005686816 & 0.0004517804 & 5.617916e-04 & 5.461566e-04 & 0.0005830474 & 4.231757e-04 & 0.0006717540 & ⋯ & 0.0008769628 & 0.0004974973 & 0.0007793240 & 0.0005206655 & 0.0005596259 & 3.721484e-04 & 0.0004360431 & 0.0003555122 & 0.0005033984 & 0.0004858121\\\\\n\t 29187961 & 0.0007936838 & 0.0010266699 & 0.0007640490 & 0.0011441499 & 9.816924e-04 & 9.618457e-04 & 0.0003797630 & 1.341818e-03 & 0.0006467255 & ⋯ & 0.0011077601 & 0.0008876656 & 0.0006115217 & 0.0005443717 & 0.0005189626 & 8.436962e-04 & 0.0007779737 & 0.0011416763 & 0.0007879558 & 0.0010399132\\\\\n\t 29193101 & 0.0004371930 & 0.0003796335 & 0.0004917827 & 0.0003876199 & 3.173636e-04 & 5.676184e-04 & 0.0003467465 & 5.861722e-04 & 0.0003542999 & ⋯ & 0.0003361426 & 0.0002849330 & 0.0003937918 & 0.0004119309 & 0.0003756132 & 3.488625e-04 & 0.0003789991 & 0.0004582496 & 0.0003766297 & 0.0005788563\\\\\n\t 29193281 & 0.0003492178 & 0.0004353794 & 0.0003330004 & 0.0003457959 & 3.508315e-04 & 3.533858e-04 & 0.0003009704 & 3.007872e-04 & 0.0002887257 & ⋯ & 0.0003771999 & 0.0002989981 & 0.0004768291 & 0.0002603318 & 0.0002797371 & 3.175258e-04 & 0.0004397135 & 0.0002663566 & 0.0002520017 & 0.0003214293\\\\\n\t 29198891 & 0.0004335470 & 0.0004155354 & 0.0004502287 & 0.0004326422 & 4.416154e-04 & 3.608536e-04 & 0.0003742916 & 4.441525e-04 & 0.0003477035 & ⋯ & 0.0005215381 & 0.0003595774 & 0.0004560716 & 0.0003930842 & 0.0003991746 & 4.209338e-04 & 0.0005373625 & 0.0003650355 & 0.0004299279 & 0.0004170045\\\\\n\t 29200651 & 0.0017398559 & 0.0017044752 & 0.0022018716 & 0.0015281301 & 8.434641e-04 & 1.976325e-03 & 0.0010035484 & 2.226445e-03 & 0.0016741152 & ⋯ & 0.0010045562 & 0.0022315798 & 0.0016046256 & 0.0024424095 & 0.0015322283 & 1.417682e-03 & 0.0010870573 & 0.0029874345 & 0.0018672005 & 0.0023254570\\\\\n\t 29201701 & 0.0002612258 & 0.0002147773 & 0.0002852023 & 0.0002201873 & 3.795719e-04 & 2.386459e-04 & 0.0002156018 & 2.561901e-04 & 0.0002399528 & ⋯ & 0.0002633000 & 0.0003843978 & 0.0002413238 & 0.0002796067 & 0.0003028835 & 2.617116e-04 & 0.0003034301 & 0.0002743067 & 0.0002980399 & 0.0001893705\\\\\n\t 29205441 & 0.0905308479 & 0.3791595850 & 0.0420129915 & 0.0304755667 & 3.542014e-02 & 4.092389e-02 & 0.1179530638 & 9.077073e-02 & 0.0519920633 & ⋯ & 0.1159848376 & 0.1400154409 & 0.0190457177 & 0.0278043641 & 0.1018142835 & 1.044651e-01 & 0.1480655208 & 0.0499271181 & 0.1373855628 & 0.0474812894\\\\\n\t 29207901 & 0.0029996031 & 0.0033491622 & 0.0024042618 & 0.0021478514 & 4.112310e-03 & 3.850658e-03 & 0.0027563199 & 3.370457e-03 & 0.0023853488 & ⋯ & 0.0025578771 & 0.0028053792 & 0.0029219273 & 0.0022763776 & 0.0023114892 & 2.595299e-03 & 0.0023557894 & 0.0026194867 & 0.0029792125 & 0.0025311639\\\\\n\t 29243631 & 0.0001350237 & 0.0001468150 & 0.0001171929 & 0.0001356903 & 1.489114e-04 & 1.625184e-04 & 0.0001316524 & 1.164078e-04 & 0.0001278945 & ⋯ & 0.0001354175 & 0.0001496198 & 0.0001251099 & 0.0001498947 & 0.0001295157 & 1.297083e-04 & 0.0001331576 & 0.0001534656 & 0.0001265449 & 0.0001170028\\\\\n\t 29251231 & 0.0016765058 & 0.0016300124 & 0.0011707329 & 0.0020432889 & 1.388481e-03 & 1.464095e-03 & 0.0010954128 & 1.100189e-03 & 0.0090453296 & ⋯ & 0.0021063750 & 0.0033601550 & 0.0009327994 & 0.0012352890 & 0.0011797683 & 1.309709e-03 & 0.0015247710 & 0.0027230211 & 0.0019633299 & 0.0019901378\\\\\n\t 29257551 & 0.0002215788 & 0.0002413648 & 0.0002003226 & 0.0002056242 & 2.518374e-04 & 1.984803e-04 & 0.0002390944 & 2.041280e-04 & 0.0002272532 & ⋯ & 0.0001969046 & 0.0002354007 & 0.0001694777 & 0.0002153797 & 0.0002230887 & 2.141147e-04 & 0.0002500192 & 0.0002070465 & 0.0002094836 & 0.0001988201\\\\\n\t 29267141 & 0.0005100385 & 0.0006528700 & 0.0004111497 & 0.0005824142 & 4.836249e-04 & 7.496543e-04 & 0.0005304217 & 5.181572e-04 & 0.0006681761 & ⋯ & 0.0004240370 & 0.0003768601 & 0.0006175346 & 0.0005717759 & 0.0004514062 & 6.755409e-04 & 0.0005513161 & 0.0004452842 & 0.0004802580 & 0.0004625457\\\\\n\t 29277081 & 0.0014698165 & 0.0011524639 & 0.0014777373 & 0.0009778808 & 1.153495e-03 & 1.230763e-03 & 0.0009788923 & 1.164720e-03 & 0.0024683617 & ⋯ & 0.0013800769 & 0.0014376697 & 0.0015317277 & 0.0012500976 & 0.0014106257 & 1.228011e-03 & 0.0011430441 & 0.0016698023 & 0.0016248158 & 0.0015062062\\\\\n\t 29284331 & 0.0014764680 & 0.0011836557 & 0.0018567302 & 0.0011002565 & 1.173883e-03 & 1.366302e-03 & 0.0015687520 & 2.267810e-03 & 0.0014134648 & ⋯ & 0.0008859125 & 0.0016016039 & 0.0015950268 & 0.0011762669 & 0.0014666005 & 1.192434e-03 & 0.0008303726 & 0.0016948765 & 0.0024395256 & 0.0038132720\\\\\n\t 29286091 & 0.0006329217 & 0.0006484593 & 0.0006244570 & 0.0006456969 & 4.175579e-04 & 4.896981e-04 & 0.0004034744 & 7.756901e-04 & 0.0005474750 & ⋯ & 0.0006270510 & 0.0009835343 & 0.0005537966 & 0.0005832751 & 0.0005844167 & 8.389394e-04 & 0.0007735213 & 0.0004725173 & 0.0006878229 & 0.0008575830\\\\\n\t 29288251 & 0.0048005622 & 0.0057005176 & 0.0044268554 & 0.0043466012 & 5.469578e-03 & 5.203750e-03 & 0.0035029707 & 6.202346e-03 & 0.0063725888 & ⋯ & 0.0040638311 & 0.0061456072 & 0.0089839448 & 0.0062760005 & 0.0037390903 & 3.107466e-03 & 0.0033070979 & 0.0037708855 & 0.0030865739 & 0.0034835947\\\\\n\t 29289361 & 0.0006345395 & 0.0006840981 & 0.0005733967 & 0.0006593711 & 5.583721e-04 & 6.706018e-04 & 0.0007011140 & 6.640206e-04 & 0.0005141984 & ⋯ & 0.0004928029 & 0.0009499552 & 0.0006177732 & 0.0007239425 & 0.0004169464 & 5.074095e-04 & 0.0006588405 & 0.0008610108 & 0.0009471752 & 0.0007175445\\\\\n\t 29292171 & 0.0008649728 & 0.0005901086 & 0.0006948243 & 0.0012168084 & 9.539775e-04 & 7.251255e-04 & 0.0011487471 & 1.427818e-03 & 0.0013693023 & ⋯ & 0.0007936845 & 0.0008464335 & 0.0007639707 & 0.0006529678 & 0.0007473065 & 7.435747e-04 & 0.0004877814 & 0.0011175653 & 0.0008542362 & 0.0005943898\\\\\n\t 29297201 & 0.0011489822 & 0.0006777052 & 0.0009184261 & 0.0010737740 & 1.415017e-03 & 1.053139e-03 & 0.0015161444 & 1.140265e-03 & 0.0010990777 & ⋯ & 0.0010974632 & 0.0010523048 & 0.0007541723 & 0.0007465019 & 0.0006781242 & 9.619311e-04 & 0.0007353014 & 0.0009511823 & 0.0006319628 & 0.0009506370\\\\\n\t 29298431 & 0.0012194042 & 0.0010850168 & 0.0012350950 & 0.0011032306 & 1.100467e-03 & 9.984263e-04 & 0.0012761523 & 1.068014e-03 & 0.0011550493 & ⋯ & 0.0007580585 & 0.0009866277 & 0.0009350548 & 0.0014960496 & 0.0009355122 & 1.334372e-03 & 0.0012153713 & 0.0014810652 & 0.0010110240 & 0.0013024375\\\\\n\t 29300881 & 0.0001671996 & 0.0001638271 & 0.0001448594 & 0.0001956986 & 1.931171e-04 & 1.484763e-04 & 0.0001868398 & 1.674288e-04 & 0.0001623510 & ⋯ & 0.0002044083 & 0.0001553741 & 0.0001436947 & 0.0001760451 & 0.0001773570 & 1.345351e-04 & 0.0001825879 & 0.0001384439 & 0.0001977617 & 0.0001609961\\\\\n\t 29300941 & 0.0001133273 & 0.0001159895 & 0.0001234097 & 0.0001277338 & 1.038617e-04 & 9.181859e-05 & 0.0001113114 & 9.600064e-05 & 0.0001214465 & ⋯ & 0.0001323165 & 0.0001339217 & 0.0001123840 & 0.0001045057 & 0.0001327804 & 1.047833e-04 & 0.0001285613 & 0.0001012600 & 0.0001269475 & 0.0001082817\\\\\n\t 29304511 & 0.0007898271 & 0.0005070307 & 0.0006835502 & 0.0003987398 & 7.493025e-04 & 1.314014e-03 & 0.0007020936 & 1.749529e-03 & 0.0006913523 & ⋯ & 0.0004242227 & 0.0005728196 & 0.0010508661 & 0.0006360741 & 0.0006934342 & 1.317664e-03 & 0.0004653093 & 0.0013932307 & 0.0009404034 & 0.0006651207\\\\\n\t 29325391 & 0.0012611759 & 0.0009196955 & 0.0011598708 & 0.0016553313 & 1.024474e-03 & 1.515030e-03 & 0.0016650451 & 1.076459e-03 & 0.0007931677 & ⋯ & 0.0010873461 & 0.0013640284 & 0.0016452444 & 0.0010735934 & 0.0010006973 & 1.505810e-03 & 0.0011362286 & 0.0011130756 & 0.0011009091 & 0.0008205444\\\\\n\t 29344801 & 0.0002505809 & 0.0002201935 & 0.0003111450 & 0.0002217110 & 1.976471e-04 & 2.232004e-04 & 0.0002693657 & 2.424701e-04 & 0.0002319028 & ⋯ & 0.0002305781 & 0.0002310146 & 0.0003035390 & 0.0002248588 & 0.0001980483 & 2.351945e-04 & 0.0002660927 & 0.0002718871 & 0.0002391621 & 0.0002222880\\\\\n\t 29344861 & 0.0007147738 & 0.0006802485 & 0.0008892225 & 0.0008705873 & 8.382339e-04 & 8.480238e-04 & 0.0008085398 & 6.743166e-04 & 0.0007140091 & ⋯ & 0.0007090140 & 0.0005515560 & 0.0007106592 & 0.0004815663 & 0.0006565492 & 8.222226e-04 & 0.0007990983 & 0.0006871057 & 0.0007767886 & 0.0008752225\\\\\n\t 29346321 & 0.0001112780 & 0.0001299146 & 0.0001056812 & 0.0001110900 & 9.610431e-05 & 1.206017e-04 & 0.0001176016 & 1.199753e-04 & 0.0001021463 & ⋯ & 0.0001433819 & 0.0001069071 & 0.0001070476 & 0.0001135589 & 0.0001111397 & 9.821508e-05 & 0.0001191430 & 0.0001045357 & 0.0001266153 & 0.0001036556\\\\\n\t 29347841 & 0.0002068272 & 0.0002077871 & 0.0001406511 & 0.0002107054 & 1.966892e-04 & 1.762751e-04 & 0.0001784802 & 2.042350e-04 & 0.0001933720 & ⋯ & 0.0002050524 & 0.0001639009 & 0.0001493505 & 0.0004695327 & 0.0002354386 & 2.083368e-04 & 0.0001759550 & 0.0001637916 & 0.0001710436 & 0.0002106012\\\\\n\t 29347901 & 0.0002123533 & 0.0001837594 & 0.0002114657 & 0.0001844754 & 1.756873e-04 & 2.080378e-04 & 0.0002618688 & 2.441907e-04 & 0.0002510660 & ⋯ & 0.0002973503 & 0.0002474107 & 0.0003862151 & 0.0002128164 & 0.0001689874 & 2.320895e-04 & 0.0002368773 & 0.0001910220 & 0.0002050832 & 0.0002339584\\\\\n\t ⋮ & ⋮ & ⋮ & ⋮ & ⋮ & ⋮ & ⋮ & ⋮ & ⋮ & ⋮ & ⋱ & ⋮ & ⋮ & ⋮ & ⋮ & ⋮ & ⋮ & ⋮ & ⋮ & ⋮ & ⋮\\\\\n\t 186827251 & 0.0038461234 & 0.0028105220 & 0.0030122478 & 0.0042246871 & 0.0028531538 & 0.0021198632 & 0.0041981284 & 0.0020691411 & 0.0025803414 & ⋯ & 0.0025508700 & 0.0039194390 & 0.0041167306 & 0.0034719296 & 0.0032789018 & 0.0034346413 & 0.0024221243 & 0.0049193926 & 0.0027366260 & 0.0035523091\\\\\n\t 186829241 & 0.0008574881 & 0.0007116853 & 0.0006457517 & 0.0012870399 & 0.0008777099 & 0.0009131755 & 0.0005166438 & 0.0005434754 & 0.0012908175 & ⋯ & 0.0009273012 & 0.0010955457 & 0.0008368382 & 0.0009093232 & 0.0007959269 & 0.0006597822 & 0.0009999646 & 0.0006414021 & 0.0006962356 & 0.0011182995\\\\\n\t 186866381 & 0.0002507865 & 0.0002263028 & 0.0002942502 & 0.0002342809 & 0.0002457840 & 0.0002942890 & 0.0002427061 & 0.0002597819 & 0.0002327472 & ⋯ & 0.0002886922 & 0.0002046250 & 0.0002909414 & 0.0003100474 & 0.0002236087 & 0.0002538432 & 0.0002108844 & 0.0002855585 & 0.0002375118 & 0.0003012418\\\\\n\t 186874801 & 0.0270498500 & 0.0355919050 & 0.0351639450 & 0.0463001459 & 0.0360137253 & 0.0318548368 & 0.0159128851 & 0.0190535256 & 0.0235192445 & ⋯ & 0.0392992936 & 0.0198892820 & 0.0114119900 & 0.0222970571 & 0.0300709927 & 0.0124752099 & 0.0144858058 & 0.0234857091 & 0.0137093036 & 0.0205528051\\\\\n\t 186899651 & 0.0009924362 & 0.0009897250 & 0.0008427512 & 0.0020464041 & 0.0008556373 & 0.0009857225 & 0.0008177812 & 0.0014792576 & 0.0007038947 & ⋯ & 0.0009756917 & 0.0010818785 & 0.0006897730 & 0.0011539289 & 0.0008548610 & 0.0007781267 & 0.0006897970 & 0.0009479628 & 0.0011806494 & 0.0007907212\\\\\n\t 187021641 & 0.0006467805 & 0.0006346978 & 0.0006353299 & 0.0006928283 & 0.0005070651 & 0.0006180181 & 0.0007642558 & 0.0007343887 & 0.0005547734 & ⋯ & 0.0008114097 & 0.0004087446 & 0.0005448853 & 0.0007420816 & 0.0008145168 & 0.0005271112 & 0.0006137219 & 0.0006798183 & 0.0004070412 & 0.0004846439\\\\\n\t 187060301 & 0.0004774319 & 0.0004101301 & 0.0006175785 & 0.0004605842 & 0.0003811808 & 0.0005095504 & 0.0005120417 & 0.0004163930 & 0.0004040324 & ⋯ & 0.0007099084 & 0.0005129157 & 0.0005340187 & 0.0004746243 & 0.0003736103 & 0.0004997409 & 0.0003794243 & 0.0004899943 & 0.0003572899 & 0.0004327615\\\\\n\t 187066091 & 0.0020084745 & 0.0008830060 & 0.0024313873 & 0.0023332671 & 0.0015389817 & 0.0035257940 & 0.0013007960 & 0.0011379686 & 0.0012605893 & ⋯ & 0.0019187132 & 0.0017174389 & 0.0016544729 & 0.0015501246 & 0.0016900927 & 0.0019437865 & 0.0008925399 & 0.0025920854 & 0.0010318501 & 0.0015479809\\\\\n\t 187170651 & 0.0007140738 & 0.0004540009 & 0.0008596038 & 0.0003755086 & 0.0012748297 & 0.0005916978 & 0.0003823504 & 0.0003931707 & 0.0006800708 & ⋯ & 0.0003808738 & 0.0004218309 & 0.0004632100 & 0.0008983795 & 0.0006978658 & 0.0005043154 & 0.0009045388 & 0.0005090942 & 0.0004584102 & 0.0005228627\\\\\n\t 187203931 & 0.0015682738 & 0.0013048488 & 0.0018453829 & 0.0012863034 & 0.0013191178 & 0.0011616459 & 0.0008661982 & 0.0015667506 & 0.0013204794 & ⋯ & 0.0016316653 & 0.0020296156 & 0.0015599939 & 0.0011034797 & 0.0020983790 & 0.0012670903 & 0.0011821412 & 0.0012088042 & 0.0010940133 & 0.0010494494\\\\\n\t 187233931 & 0.0001731955 & 0.0001462487 & 0.0001839386 & 0.0001330617 & 0.0001514433 & 0.0001802153 & 0.0001482280 & 0.0002073355 & 0.0001363025 & ⋯ & 0.0001647454 & 0.0001616527 & 0.0001783341 & 0.0002850476 & 0.0001481134 & 0.0001651635 & 0.0001776325 & 0.0001487855 & 0.0001283398 & 0.0002090278\\\\\n\t 187269951 & 0.0004697381 & 0.0004876151 & 0.0006215020 & 0.0005026520 & 0.0003912901 & 0.0004113743 & 0.0003565950 & 0.0004812980 & 0.0003481721 & ⋯ & 0.0005091429 & 0.0003792333 & 0.0004195434 & 0.0006010084 & 0.0004941912 & 0.0003896447 & 0.0003752588 & 0.0007306300 & 0.0004569484 & 0.0004410125\\\\\n\t 187272641 & 0.0182671389 & 0.0225907143 & 0.0291915588 & 0.0179225021 & 0.0141596807 & 0.0115949963 & 0.0195667731 & 0.0125128854 & 0.0137549946 & ⋯ & 0.0200512883 & 0.0202173700 & 0.0128011375 & 0.0175040402 & 0.0170435217 & 0.0188539063 & 0.0147184727 & 0.0154677592 & 0.0218584698 & 0.0164931438\\\\\n\t 187314281 & 0.0010618735 & 0.0009054850 & 0.0009677873 & 0.0007658428 & 0.0009210719 & 0.0011213901 & 0.0006386875 & 0.0012596696 & 0.0010361906 & ⋯ & 0.0008622549 & 0.0010707734 & 0.0009062815 & 0.0016204772 & 0.0022142102 & 0.0009660552 & 0.0008494473 & 0.0014911601 & 0.0009672004 & 0.0010754366\\\\\n\t 187332121 & 0.0004525660 & 0.0004430496 & 0.0004564329 & 0.0004423237 & 0.0003703242 & 0.0004214340 & 0.0004261001 & 0.0004268958 & 0.0005119215 & ⋯ & 0.0004290279 & 0.0003993490 & 0.0004981800 & 0.0004126234 & 0.0005779486 & 0.0003894508 & 0.0004053767 & 0.0004517185 & 0.0004365848 & 0.0004171422\\\\\n\t 187346211 & 0.0072542650 & 0.0093880280 & 0.0068642850 & 0.0049703170 & 0.0139026771 & 0.0040025146 & 0.0050542700 & 0.0100514651 & 0.0041873935 & ⋯ & 0.0288818115 & 0.0037466164 & 0.0071558560 & 0.0060601987 & 0.0041126094 & 0.0050506929 & 0.0042553329 & 0.0044230274 & 0.0074655961 & 0.0048409822\\\\\n\t 187350011 & 0.0008369746 & 0.0009981035 & 0.0011572562 & 0.0004276480 & 0.0009527333 & 0.0008062921 & 0.0013538054 & 0.0012581702 & 0.0007990717 & ⋯ & 0.0005915320 & 0.0006622534 & 0.0005090241 & 0.0007248921 & 0.0005863010 & 0.0007869281 & 0.0007880221 & 0.0014058506 & 0.0006403191 & 0.0009079449\\\\\n\t 187400951 & 0.0076370106 & 0.0062406915 & 0.0052567562 & 0.0065935514 & 0.0083265100 & 0.0094226414 & 0.0055245294 & 0.0125878031 & 0.0073487006 & ⋯ & 0.0056290780 & 0.0046323598 & 0.0071486262 & 0.0050486950 & 0.0066748860 & 0.0035169935 & 0.0047424665 & 0.0060446079 & 0.0063484803 & 0.0094275745\\\\\n\t 187429081 & 0.0012783701 & 0.0010787276 & 0.0016120560 & 0.0008762436 & 0.0014634926 & 0.0016860267 & 0.0014159619 & 0.0008551013 & 0.0010690532 & ⋯ & 0.0012958942 & 0.0007767742 & 0.0017943868 & 0.0011436225 & 0.0015868348 & 0.0007645764 & 0.0014973380 & 0.0013990997 & 0.0011759258 & 0.0009876092\\\\\n\t 187434871 & 0.0214283316 & 0.0403590937 & 0.0263825957 & 0.0381612396 & 0.0129169055 & 0.0309939598 & 0.0644041997 & 0.0200059146 & 0.0472872925 & ⋯ & 0.0083993256 & 0.0242287856 & 0.0255627085 & 0.0203412493 & 0.0149979446 & 0.0186463427 & 0.0143230746 & 0.0125197546 & 0.0179448398 & 0.0126683013\\\\\n\t 187594641 & 0.0016567266 & 0.0020059597 & 0.0014020510 & 0.0009995436 & 0.0011933555 & 0.0011808061 & 0.0012253933 & 0.0014309211 & 0.0022011743 & ⋯ & 0.0013332943 & 0.0020906962 & 0.0012839759 & 0.0015206545 & 0.0015457149 & 0.0020162940 & 0.0012900517 & 0.0016157312 & 0.0008961052 & 0.0012090477\\\\\n\t 187604521 & 0.0055225498 & 0.0055864613 & 0.0054744331 & 0.0039880788 & 0.0041533971 & 0.0048689403 & 0.0039675258 & 0.0043367005 & 0.0031764426 & ⋯ & 0.0136039386 & 0.0036561699 & 0.0047569711 & 0.0073847139 & 0.0029890867 & 0.0048020203 & 0.0061004365 & 0.0054000318 & 0.0030966457 & 0.0049684240\\\\\n\t 187626041 & 0.0081418301 & 0.0094339761 & 0.0087793024 & 0.0101948267 & 0.0116963552 & 0.0076265927 & 0.0047372040 & 0.0107813821 & 0.0078339896 & ⋯ & 0.0057217691 & 0.0109673659 & 0.0087030977 & 0.0081266601 & 0.0066272803 & 0.0055613689 & 0.0046145988 & 0.0099703152 & 0.0073867143 & 0.0109524286\\\\\n\t 187636041 & 0.0006530872 & 0.0010234642 & 0.0008124167 & 0.0005035250 & 0.0008853511 & 0.0004579040 & 0.0010744696 & 0.0006811924 & 0.0003341440 & ⋯ & 0.0005909512 & 0.0004759509 & 0.0005427220 & 0.0006053513 & 0.0003959552 & 0.0006864187 & 0.0014287991 & 0.0008073399 & 0.0005767460 & 0.0005038732\\\\\n\t 187827511 & 0.0051496440 & 0.0036917874 & 0.0059060672 & 0.0054557615 & 0.0056332477 & 0.0069448680 & 0.0055853049 & 0.0036656041 & 0.0054400833 & ⋯ & 0.0048754918 & 0.0064652528 & 0.0056718332 & 0.0045625136 & 0.0069729635 & 0.0044681342 & 0.0032773668 & 0.0057729859 & 0.0045506310 & 0.0037694006\\\\\n\t 187838971 & 0.0297314801 & 0.0338908637 & 0.0377990737 & 0.0242590062 & 0.0334380524 & 0.0218719047 & 0.0175507118 & 0.0230201310 & 0.0386061535 & ⋯ & 0.0199313884 & 0.0451756382 & 0.0273831326 & 0.0370719094 & 0.0350569866 & 0.0276222721 & 0.0254382560 & 0.0252057117 & 0.0434776854 & 0.0218320159\\\\\n\t 187902361 & 0.0309502627 & 0.0325953254 & 0.0244490541 & 0.0273661023 & 0.0243689764 & 0.0289397723 & 0.0206408176 & 0.0212343459 & 0.0314131216 & ⋯ & 0.0229332327 & 0.0444204356 & 0.0310008244 & 0.0803581994 & 0.0300498209 & 0.0242940270 & 0.0409961234 & 0.0239340376 & 0.0378035066 & 0.0605037265\\\\\n\t 187956461 & 0.0559128357 & 0.0392819415 & 0.0645696190 & 0.0784391219 & 0.0457510203 & 0.0342417685 & 0.0750812860 & 0.0431662786 & 0.0428208857 & ⋯ & 0.0398410535 & 0.0797399933 & 0.0863914503 & 0.0819814614 & 0.0443117294 & 0.0727223662 & 0.0404459094 & 0.0631158169 & 0.0511290928 & 0.0488277447\\\\\n\t 187964701 & 0.0292902222 & 0.0432750790 & 0.0243615941 & 0.0289564781 & 0.0335268542 & 0.0283731595 & 0.0213175749 & 0.0243408573 & 0.0454522626 & ⋯ & 0.0206321799 & 0.0378103898 & 0.0303760383 & 0.0364485404 & 0.0517192897 & 0.0294548924 & 0.0264973097 & 0.0246471021 & 0.0247015250 & 0.0236658880\\\\\n\t 188116871 & 0.0014117952 & 0.0013348400 & 0.0009109901 & 0.0018967213 & 0.0015033949 & 0.0017851003 & 0.0014949522 & 0.0009790528 & 0.0008489187 & ⋯ & 0.0007987803 & 0.0010377618 & 0.0018901904 & 0.0013979126 & 0.0015432270 & 0.0015446368 & 0.0012996728 & 0.0015060386 & 0.0023941686 & 0.0008105255\\\\\n\\end{tabular}\n",
            "text/plain": [
              "      numero_de_cliente prob         prob_1       prob_2       prob_3      \n",
              "1     29186441          0.0005138773 0.0004319605 0.0005686816 0.0004517804\n",
              "2     29187961          0.0007936838 0.0010266699 0.0007640490 0.0011441499\n",
              "3     29193101          0.0004371930 0.0003796335 0.0004917827 0.0003876199\n",
              "4     29193281          0.0003492178 0.0004353794 0.0003330004 0.0003457959\n",
              "5     29198891          0.0004335470 0.0004155354 0.0004502287 0.0004326422\n",
              "6     29200651          0.0017398559 0.0017044752 0.0022018716 0.0015281301\n",
              "7     29201701          0.0002612258 0.0002147773 0.0002852023 0.0002201873\n",
              "8     29205441          0.0905308479 0.3791595850 0.0420129915 0.0304755667\n",
              "9     29207901          0.0029996031 0.0033491622 0.0024042618 0.0021478514\n",
              "10    29243631          0.0001350237 0.0001468150 0.0001171929 0.0001356903\n",
              "11    29251231          0.0016765058 0.0016300124 0.0011707329 0.0020432889\n",
              "12    29257551          0.0002215788 0.0002413648 0.0002003226 0.0002056242\n",
              "13    29267141          0.0005100385 0.0006528700 0.0004111497 0.0005824142\n",
              "14    29277081          0.0014698165 0.0011524639 0.0014777373 0.0009778808\n",
              "15    29284331          0.0014764680 0.0011836557 0.0018567302 0.0011002565\n",
              "16    29286091          0.0006329217 0.0006484593 0.0006244570 0.0006456969\n",
              "17    29288251          0.0048005622 0.0057005176 0.0044268554 0.0043466012\n",
              "18    29289361          0.0006345395 0.0006840981 0.0005733967 0.0006593711\n",
              "19    29292171          0.0008649728 0.0005901086 0.0006948243 0.0012168084\n",
              "20    29297201          0.0011489822 0.0006777052 0.0009184261 0.0010737740\n",
              "21    29298431          0.0012194042 0.0010850168 0.0012350950 0.0011032306\n",
              "22    29300881          0.0001671996 0.0001638271 0.0001448594 0.0001956986\n",
              "23    29300941          0.0001133273 0.0001159895 0.0001234097 0.0001277338\n",
              "24    29304511          0.0007898271 0.0005070307 0.0006835502 0.0003987398\n",
              "25    29325391          0.0012611759 0.0009196955 0.0011598708 0.0016553313\n",
              "26    29344801          0.0002505809 0.0002201935 0.0003111450 0.0002217110\n",
              "27    29344861          0.0007147738 0.0006802485 0.0008892225 0.0008705873\n",
              "28    29346321          0.0001112780 0.0001299146 0.0001056812 0.0001110900\n",
              "29    29347841          0.0002068272 0.0002077871 0.0001406511 0.0002107054\n",
              "30    29347901          0.0002123533 0.0001837594 0.0002114657 0.0001844754\n",
              "⋮     ⋮                 ⋮            ⋮            ⋮            ⋮           \n",
              "16522 186827251         0.0038461234 0.0028105220 0.0030122478 0.0042246871\n",
              "16523 186829241         0.0008574881 0.0007116853 0.0006457517 0.0012870399\n",
              "16524 186866381         0.0002507865 0.0002263028 0.0002942502 0.0002342809\n",
              "16525 186874801         0.0270498500 0.0355919050 0.0351639450 0.0463001459\n",
              "16526 186899651         0.0009924362 0.0009897250 0.0008427512 0.0020464041\n",
              "16527 187021641         0.0006467805 0.0006346978 0.0006353299 0.0006928283\n",
              "16528 187060301         0.0004774319 0.0004101301 0.0006175785 0.0004605842\n",
              "16529 187066091         0.0020084745 0.0008830060 0.0024313873 0.0023332671\n",
              "16530 187170651         0.0007140738 0.0004540009 0.0008596038 0.0003755086\n",
              "16531 187203931         0.0015682738 0.0013048488 0.0018453829 0.0012863034\n",
              "16532 187233931         0.0001731955 0.0001462487 0.0001839386 0.0001330617\n",
              "16533 187269951         0.0004697381 0.0004876151 0.0006215020 0.0005026520\n",
              "16534 187272641         0.0182671389 0.0225907143 0.0291915588 0.0179225021\n",
              "16535 187314281         0.0010618735 0.0009054850 0.0009677873 0.0007658428\n",
              "16536 187332121         0.0004525660 0.0004430496 0.0004564329 0.0004423237\n",
              "16537 187346211         0.0072542650 0.0093880280 0.0068642850 0.0049703170\n",
              "16538 187350011         0.0008369746 0.0009981035 0.0011572562 0.0004276480\n",
              "16539 187400951         0.0076370106 0.0062406915 0.0052567562 0.0065935514\n",
              "16540 187429081         0.0012783701 0.0010787276 0.0016120560 0.0008762436\n",
              "16541 187434871         0.0214283316 0.0403590937 0.0263825957 0.0381612396\n",
              "16542 187594641         0.0016567266 0.0020059597 0.0014020510 0.0009995436\n",
              "16543 187604521         0.0055225498 0.0055864613 0.0054744331 0.0039880788\n",
              "16544 187626041         0.0081418301 0.0094339761 0.0087793024 0.0101948267\n",
              "16545 187636041         0.0006530872 0.0010234642 0.0008124167 0.0005035250\n",
              "16546 187827511         0.0051496440 0.0036917874 0.0059060672 0.0054557615\n",
              "16547 187838971         0.0297314801 0.0338908637 0.0377990737 0.0242590062\n",
              "16548 187902361         0.0309502627 0.0325953254 0.0244490541 0.0273661023\n",
              "16549 187956461         0.0559128357 0.0392819415 0.0645696190 0.0784391219\n",
              "16550 187964701         0.0292902222 0.0432750790 0.0243615941 0.0289564781\n",
              "16551 188116871         0.0014117952 0.0013348400 0.0009109901 0.0018967213\n",
              "      prob_4       prob_5       prob_6       prob_7       prob_8       ⋯\n",
              "1     5.617916e-04 5.461566e-04 0.0005830474 4.231757e-04 0.0006717540 ⋯\n",
              "2     9.816924e-04 9.618457e-04 0.0003797630 1.341818e-03 0.0006467255 ⋯\n",
              "3     3.173636e-04 5.676184e-04 0.0003467465 5.861722e-04 0.0003542999 ⋯\n",
              "4     3.508315e-04 3.533858e-04 0.0003009704 3.007872e-04 0.0002887257 ⋯\n",
              "5     4.416154e-04 3.608536e-04 0.0003742916 4.441525e-04 0.0003477035 ⋯\n",
              "6     8.434641e-04 1.976325e-03 0.0010035484 2.226445e-03 0.0016741152 ⋯\n",
              "7     3.795719e-04 2.386459e-04 0.0002156018 2.561901e-04 0.0002399528 ⋯\n",
              "8     3.542014e-02 4.092389e-02 0.1179530638 9.077073e-02 0.0519920633 ⋯\n",
              "9     4.112310e-03 3.850658e-03 0.0027563199 3.370457e-03 0.0023853488 ⋯\n",
              "10    1.489114e-04 1.625184e-04 0.0001316524 1.164078e-04 0.0001278945 ⋯\n",
              "11    1.388481e-03 1.464095e-03 0.0010954128 1.100189e-03 0.0090453296 ⋯\n",
              "12    2.518374e-04 1.984803e-04 0.0002390944 2.041280e-04 0.0002272532 ⋯\n",
              "13    4.836249e-04 7.496543e-04 0.0005304217 5.181572e-04 0.0006681761 ⋯\n",
              "14    1.153495e-03 1.230763e-03 0.0009788923 1.164720e-03 0.0024683617 ⋯\n",
              "15    1.173883e-03 1.366302e-03 0.0015687520 2.267810e-03 0.0014134648 ⋯\n",
              "16    4.175579e-04 4.896981e-04 0.0004034744 7.756901e-04 0.0005474750 ⋯\n",
              "17    5.469578e-03 5.203750e-03 0.0035029707 6.202346e-03 0.0063725888 ⋯\n",
              "18    5.583721e-04 6.706018e-04 0.0007011140 6.640206e-04 0.0005141984 ⋯\n",
              "19    9.539775e-04 7.251255e-04 0.0011487471 1.427818e-03 0.0013693023 ⋯\n",
              "20    1.415017e-03 1.053139e-03 0.0015161444 1.140265e-03 0.0010990777 ⋯\n",
              "21    1.100467e-03 9.984263e-04 0.0012761523 1.068014e-03 0.0011550493 ⋯\n",
              "22    1.931171e-04 1.484763e-04 0.0001868398 1.674288e-04 0.0001623510 ⋯\n",
              "23    1.038617e-04 9.181859e-05 0.0001113114 9.600064e-05 0.0001214465 ⋯\n",
              "24    7.493025e-04 1.314014e-03 0.0007020936 1.749529e-03 0.0006913523 ⋯\n",
              "25    1.024474e-03 1.515030e-03 0.0016650451 1.076459e-03 0.0007931677 ⋯\n",
              "26    1.976471e-04 2.232004e-04 0.0002693657 2.424701e-04 0.0002319028 ⋯\n",
              "27    8.382339e-04 8.480238e-04 0.0008085398 6.743166e-04 0.0007140091 ⋯\n",
              "28    9.610431e-05 1.206017e-04 0.0001176016 1.199753e-04 0.0001021463 ⋯\n",
              "29    1.966892e-04 1.762751e-04 0.0001784802 2.042350e-04 0.0001933720 ⋯\n",
              "30    1.756873e-04 2.080378e-04 0.0002618688 2.441907e-04 0.0002510660 ⋯\n",
              "⋮     ⋮            ⋮            ⋮            ⋮            ⋮            ⋱\n",
              "16522 0.0028531538 0.0021198632 0.0041981284 0.0020691411 0.0025803414 ⋯\n",
              "16523 0.0008777099 0.0009131755 0.0005166438 0.0005434754 0.0012908175 ⋯\n",
              "16524 0.0002457840 0.0002942890 0.0002427061 0.0002597819 0.0002327472 ⋯\n",
              "16525 0.0360137253 0.0318548368 0.0159128851 0.0190535256 0.0235192445 ⋯\n",
              "16526 0.0008556373 0.0009857225 0.0008177812 0.0014792576 0.0007038947 ⋯\n",
              "16527 0.0005070651 0.0006180181 0.0007642558 0.0007343887 0.0005547734 ⋯\n",
              "16528 0.0003811808 0.0005095504 0.0005120417 0.0004163930 0.0004040324 ⋯\n",
              "16529 0.0015389817 0.0035257940 0.0013007960 0.0011379686 0.0012605893 ⋯\n",
              "16530 0.0012748297 0.0005916978 0.0003823504 0.0003931707 0.0006800708 ⋯\n",
              "16531 0.0013191178 0.0011616459 0.0008661982 0.0015667506 0.0013204794 ⋯\n",
              "16532 0.0001514433 0.0001802153 0.0001482280 0.0002073355 0.0001363025 ⋯\n",
              "16533 0.0003912901 0.0004113743 0.0003565950 0.0004812980 0.0003481721 ⋯\n",
              "16534 0.0141596807 0.0115949963 0.0195667731 0.0125128854 0.0137549946 ⋯\n",
              "16535 0.0009210719 0.0011213901 0.0006386875 0.0012596696 0.0010361906 ⋯\n",
              "16536 0.0003703242 0.0004214340 0.0004261001 0.0004268958 0.0005119215 ⋯\n",
              "16537 0.0139026771 0.0040025146 0.0050542700 0.0100514651 0.0041873935 ⋯\n",
              "16538 0.0009527333 0.0008062921 0.0013538054 0.0012581702 0.0007990717 ⋯\n",
              "16539 0.0083265100 0.0094226414 0.0055245294 0.0125878031 0.0073487006 ⋯\n",
              "16540 0.0014634926 0.0016860267 0.0014159619 0.0008551013 0.0010690532 ⋯\n",
              "16541 0.0129169055 0.0309939598 0.0644041997 0.0200059146 0.0472872925 ⋯\n",
              "16542 0.0011933555 0.0011808061 0.0012253933 0.0014309211 0.0022011743 ⋯\n",
              "16543 0.0041533971 0.0048689403 0.0039675258 0.0043367005 0.0031764426 ⋯\n",
              "16544 0.0116963552 0.0076265927 0.0047372040 0.0107813821 0.0078339896 ⋯\n",
              "16545 0.0008853511 0.0004579040 0.0010744696 0.0006811924 0.0003341440 ⋯\n",
              "16546 0.0056332477 0.0069448680 0.0055853049 0.0036656041 0.0054400833 ⋯\n",
              "16547 0.0334380524 0.0218719047 0.0175507118 0.0230201310 0.0386061535 ⋯\n",
              "16548 0.0243689764 0.0289397723 0.0206408176 0.0212343459 0.0314131216 ⋯\n",
              "16549 0.0457510203 0.0342417685 0.0750812860 0.0431662786 0.0428208857 ⋯\n",
              "16550 0.0335268542 0.0283731595 0.0213175749 0.0243408573 0.0454522626 ⋯\n",
              "16551 0.0015033949 0.0017851003 0.0014949522 0.0009790528 0.0008489187 ⋯\n",
              "      prob_41      prob_42      prob_43      prob_44      prob_45     \n",
              "1     0.0008769628 0.0004974973 0.0007793240 0.0005206655 0.0005596259\n",
              "2     0.0011077601 0.0008876656 0.0006115217 0.0005443717 0.0005189626\n",
              "3     0.0003361426 0.0002849330 0.0003937918 0.0004119309 0.0003756132\n",
              "4     0.0003771999 0.0002989981 0.0004768291 0.0002603318 0.0002797371\n",
              "5     0.0005215381 0.0003595774 0.0004560716 0.0003930842 0.0003991746\n",
              "6     0.0010045562 0.0022315798 0.0016046256 0.0024424095 0.0015322283\n",
              "7     0.0002633000 0.0003843978 0.0002413238 0.0002796067 0.0003028835\n",
              "8     0.1159848376 0.1400154409 0.0190457177 0.0278043641 0.1018142835\n",
              "9     0.0025578771 0.0028053792 0.0029219273 0.0022763776 0.0023114892\n",
              "10    0.0001354175 0.0001496198 0.0001251099 0.0001498947 0.0001295157\n",
              "11    0.0021063750 0.0033601550 0.0009327994 0.0012352890 0.0011797683\n",
              "12    0.0001969046 0.0002354007 0.0001694777 0.0002153797 0.0002230887\n",
              "13    0.0004240370 0.0003768601 0.0006175346 0.0005717759 0.0004514062\n",
              "14    0.0013800769 0.0014376697 0.0015317277 0.0012500976 0.0014106257\n",
              "15    0.0008859125 0.0016016039 0.0015950268 0.0011762669 0.0014666005\n",
              "16    0.0006270510 0.0009835343 0.0005537966 0.0005832751 0.0005844167\n",
              "17    0.0040638311 0.0061456072 0.0089839448 0.0062760005 0.0037390903\n",
              "18    0.0004928029 0.0009499552 0.0006177732 0.0007239425 0.0004169464\n",
              "19    0.0007936845 0.0008464335 0.0007639707 0.0006529678 0.0007473065\n",
              "20    0.0010974632 0.0010523048 0.0007541723 0.0007465019 0.0006781242\n",
              "21    0.0007580585 0.0009866277 0.0009350548 0.0014960496 0.0009355122\n",
              "22    0.0002044083 0.0001553741 0.0001436947 0.0001760451 0.0001773570\n",
              "23    0.0001323165 0.0001339217 0.0001123840 0.0001045057 0.0001327804\n",
              "24    0.0004242227 0.0005728196 0.0010508661 0.0006360741 0.0006934342\n",
              "25    0.0010873461 0.0013640284 0.0016452444 0.0010735934 0.0010006973\n",
              "26    0.0002305781 0.0002310146 0.0003035390 0.0002248588 0.0001980483\n",
              "27    0.0007090140 0.0005515560 0.0007106592 0.0004815663 0.0006565492\n",
              "28    0.0001433819 0.0001069071 0.0001070476 0.0001135589 0.0001111397\n",
              "29    0.0002050524 0.0001639009 0.0001493505 0.0004695327 0.0002354386\n",
              "30    0.0002973503 0.0002474107 0.0003862151 0.0002128164 0.0001689874\n",
              "⋮     ⋮            ⋮            ⋮            ⋮            ⋮           \n",
              "16522 0.0025508700 0.0039194390 0.0041167306 0.0034719296 0.0032789018\n",
              "16523 0.0009273012 0.0010955457 0.0008368382 0.0009093232 0.0007959269\n",
              "16524 0.0002886922 0.0002046250 0.0002909414 0.0003100474 0.0002236087\n",
              "16525 0.0392992936 0.0198892820 0.0114119900 0.0222970571 0.0300709927\n",
              "16526 0.0009756917 0.0010818785 0.0006897730 0.0011539289 0.0008548610\n",
              "16527 0.0008114097 0.0004087446 0.0005448853 0.0007420816 0.0008145168\n",
              "16528 0.0007099084 0.0005129157 0.0005340187 0.0004746243 0.0003736103\n",
              "16529 0.0019187132 0.0017174389 0.0016544729 0.0015501246 0.0016900927\n",
              "16530 0.0003808738 0.0004218309 0.0004632100 0.0008983795 0.0006978658\n",
              "16531 0.0016316653 0.0020296156 0.0015599939 0.0011034797 0.0020983790\n",
              "16532 0.0001647454 0.0001616527 0.0001783341 0.0002850476 0.0001481134\n",
              "16533 0.0005091429 0.0003792333 0.0004195434 0.0006010084 0.0004941912\n",
              "16534 0.0200512883 0.0202173700 0.0128011375 0.0175040402 0.0170435217\n",
              "16535 0.0008622549 0.0010707734 0.0009062815 0.0016204772 0.0022142102\n",
              "16536 0.0004290279 0.0003993490 0.0004981800 0.0004126234 0.0005779486\n",
              "16537 0.0288818115 0.0037466164 0.0071558560 0.0060601987 0.0041126094\n",
              "16538 0.0005915320 0.0006622534 0.0005090241 0.0007248921 0.0005863010\n",
              "16539 0.0056290780 0.0046323598 0.0071486262 0.0050486950 0.0066748860\n",
              "16540 0.0012958942 0.0007767742 0.0017943868 0.0011436225 0.0015868348\n",
              "16541 0.0083993256 0.0242287856 0.0255627085 0.0203412493 0.0149979446\n",
              "16542 0.0013332943 0.0020906962 0.0012839759 0.0015206545 0.0015457149\n",
              "16543 0.0136039386 0.0036561699 0.0047569711 0.0073847139 0.0029890867\n",
              "16544 0.0057217691 0.0109673659 0.0087030977 0.0081266601 0.0066272803\n",
              "16545 0.0005909512 0.0004759509 0.0005427220 0.0006053513 0.0003959552\n",
              "16546 0.0048754918 0.0064652528 0.0056718332 0.0045625136 0.0069729635\n",
              "16547 0.0199313884 0.0451756382 0.0273831326 0.0370719094 0.0350569866\n",
              "16548 0.0229332327 0.0444204356 0.0310008244 0.0803581994 0.0300498209\n",
              "16549 0.0398410535 0.0797399933 0.0863914503 0.0819814614 0.0443117294\n",
              "16550 0.0206321799 0.0378103898 0.0303760383 0.0364485404 0.0517192897\n",
              "16551 0.0007987803 0.0010377618 0.0018901904 0.0013979126 0.0015432270\n",
              "      prob_46      prob_47      prob_48      prob_49      prob_50     \n",
              "1     3.721484e-04 0.0004360431 0.0003555122 0.0005033984 0.0004858121\n",
              "2     8.436962e-04 0.0007779737 0.0011416763 0.0007879558 0.0010399132\n",
              "3     3.488625e-04 0.0003789991 0.0004582496 0.0003766297 0.0005788563\n",
              "4     3.175258e-04 0.0004397135 0.0002663566 0.0002520017 0.0003214293\n",
              "5     4.209338e-04 0.0005373625 0.0003650355 0.0004299279 0.0004170045\n",
              "6     1.417682e-03 0.0010870573 0.0029874345 0.0018672005 0.0023254570\n",
              "7     2.617116e-04 0.0003034301 0.0002743067 0.0002980399 0.0001893705\n",
              "8     1.044651e-01 0.1480655208 0.0499271181 0.1373855628 0.0474812894\n",
              "9     2.595299e-03 0.0023557894 0.0026194867 0.0029792125 0.0025311639\n",
              "10    1.297083e-04 0.0001331576 0.0001534656 0.0001265449 0.0001170028\n",
              "11    1.309709e-03 0.0015247710 0.0027230211 0.0019633299 0.0019901378\n",
              "12    2.141147e-04 0.0002500192 0.0002070465 0.0002094836 0.0001988201\n",
              "13    6.755409e-04 0.0005513161 0.0004452842 0.0004802580 0.0004625457\n",
              "14    1.228011e-03 0.0011430441 0.0016698023 0.0016248158 0.0015062062\n",
              "15    1.192434e-03 0.0008303726 0.0016948765 0.0024395256 0.0038132720\n",
              "16    8.389394e-04 0.0007735213 0.0004725173 0.0006878229 0.0008575830\n",
              "17    3.107466e-03 0.0033070979 0.0037708855 0.0030865739 0.0034835947\n",
              "18    5.074095e-04 0.0006588405 0.0008610108 0.0009471752 0.0007175445\n",
              "19    7.435747e-04 0.0004877814 0.0011175653 0.0008542362 0.0005943898\n",
              "20    9.619311e-04 0.0007353014 0.0009511823 0.0006319628 0.0009506370\n",
              "21    1.334372e-03 0.0012153713 0.0014810652 0.0010110240 0.0013024375\n",
              "22    1.345351e-04 0.0001825879 0.0001384439 0.0001977617 0.0001609961\n",
              "23    1.047833e-04 0.0001285613 0.0001012600 0.0001269475 0.0001082817\n",
              "24    1.317664e-03 0.0004653093 0.0013932307 0.0009404034 0.0006651207\n",
              "25    1.505810e-03 0.0011362286 0.0011130756 0.0011009091 0.0008205444\n",
              "26    2.351945e-04 0.0002660927 0.0002718871 0.0002391621 0.0002222880\n",
              "27    8.222226e-04 0.0007990983 0.0006871057 0.0007767886 0.0008752225\n",
              "28    9.821508e-05 0.0001191430 0.0001045357 0.0001266153 0.0001036556\n",
              "29    2.083368e-04 0.0001759550 0.0001637916 0.0001710436 0.0002106012\n",
              "30    2.320895e-04 0.0002368773 0.0001910220 0.0002050832 0.0002339584\n",
              "⋮     ⋮            ⋮            ⋮            ⋮            ⋮           \n",
              "16522 0.0034346413 0.0024221243 0.0049193926 0.0027366260 0.0035523091\n",
              "16523 0.0006597822 0.0009999646 0.0006414021 0.0006962356 0.0011182995\n",
              "16524 0.0002538432 0.0002108844 0.0002855585 0.0002375118 0.0003012418\n",
              "16525 0.0124752099 0.0144858058 0.0234857091 0.0137093036 0.0205528051\n",
              "16526 0.0007781267 0.0006897970 0.0009479628 0.0011806494 0.0007907212\n",
              "16527 0.0005271112 0.0006137219 0.0006798183 0.0004070412 0.0004846439\n",
              "16528 0.0004997409 0.0003794243 0.0004899943 0.0003572899 0.0004327615\n",
              "16529 0.0019437865 0.0008925399 0.0025920854 0.0010318501 0.0015479809\n",
              "16530 0.0005043154 0.0009045388 0.0005090942 0.0004584102 0.0005228627\n",
              "16531 0.0012670903 0.0011821412 0.0012088042 0.0010940133 0.0010494494\n",
              "16532 0.0001651635 0.0001776325 0.0001487855 0.0001283398 0.0002090278\n",
              "16533 0.0003896447 0.0003752588 0.0007306300 0.0004569484 0.0004410125\n",
              "16534 0.0188539063 0.0147184727 0.0154677592 0.0218584698 0.0164931438\n",
              "16535 0.0009660552 0.0008494473 0.0014911601 0.0009672004 0.0010754366\n",
              "16536 0.0003894508 0.0004053767 0.0004517185 0.0004365848 0.0004171422\n",
              "16537 0.0050506929 0.0042553329 0.0044230274 0.0074655961 0.0048409822\n",
              "16538 0.0007869281 0.0007880221 0.0014058506 0.0006403191 0.0009079449\n",
              "16539 0.0035169935 0.0047424665 0.0060446079 0.0063484803 0.0094275745\n",
              "16540 0.0007645764 0.0014973380 0.0013990997 0.0011759258 0.0009876092\n",
              "16541 0.0186463427 0.0143230746 0.0125197546 0.0179448398 0.0126683013\n",
              "16542 0.0020162940 0.0012900517 0.0016157312 0.0008961052 0.0012090477\n",
              "16543 0.0048020203 0.0061004365 0.0054000318 0.0030966457 0.0049684240\n",
              "16544 0.0055613689 0.0046145988 0.0099703152 0.0073867143 0.0109524286\n",
              "16545 0.0006864187 0.0014287991 0.0008073399 0.0005767460 0.0005038732\n",
              "16546 0.0044681342 0.0032773668 0.0057729859 0.0045506310 0.0037694006\n",
              "16547 0.0276222721 0.0254382560 0.0252057117 0.0434776854 0.0218320159\n",
              "16548 0.0242940270 0.0409961234 0.0239340376 0.0378035066 0.0605037265\n",
              "16549 0.0727223662 0.0404459094 0.0631158169 0.0511290928 0.0488277447\n",
              "16550 0.0294548924 0.0264973097 0.0246471021 0.0247015250 0.0236658880\n",
              "16551 0.0015446368 0.0012996728 0.0015060386 0.0023941686 0.0008105255"
            ]
          },
          "metadata": {}
        }
      ],
      "source": [
        "tb_prediccion"
      ]
    },
    {
      "cell_type": "code",
      "execution_count": null,
      "id": "c_cIUSwDkbLh",
      "metadata": {
        "id": "c_cIUSwDkbLh"
      },
      "outputs": [],
      "source": [
        "# grabo las probabilidad del modelo\n",
        "#  me va a ser util para hacer Ensembles de modelos\n",
        "\n",
        "fwrite(tb_prediccion,\n",
        "  file= \"prediccion.txt\",\n",
        "  sep= \"\\t\"\n",
        ")"
      ]
    },
    {
      "cell_type": "markdown",
      "id": "8412d838-5bd5-454e-b3a9-5eaa18d80a50",
      "metadata": {
        "id": "8412d838-5bd5-454e-b3a9-5eaa18d80a50"
      },
      "source": [
        "Kaggle Competition Submit"
      ]
    },
    {
      "cell_type": "markdown",
      "id": "55970cb6-856a-46e3-a893-7f36b8352b8e",
      "metadata": {
        "id": "55970cb6-856a-46e3-a893-7f36b8352b8e"
      },
      "source": [
        "Genero las salidas y hago los submits a Kaggle\n",
        "<br>El notebook esta preparado para la Modalidad Gerencial, los analistas deben hacer cambios.\n",
        "<br> Los analistas deben cambiar **competencia** a SU competencia  \"labo-i-2025-rosario-analista-jr\"   o  la original \"labo-i-2025-rosario\"  para los Senior\n",
        "<br> Los cortes  dependen de la cantidad de registros, multiplicar por 2 para los Analistas Jr y por 10 para los Analista Sr\n",
        "\n",
        "Los Analista Sr luego de meditar cuidadosamente reducirán la cantidad de cortes"
      ]
    },
    {
      "cell_type": "code",
      "execution_count": null,
      "id": "e5fa2439-b0e9-49e0-a861-71d7315d6e1c",
      "metadata": {
        "id": "e5fa2439-b0e9-49e0-a861-71d7315d6e1c",
        "colab": {
          "base_uri": "https://localhost:8080/"
        },
        "outputId": "82fcc665-1430-4123-8c45-a281b963cc15"
      },
      "outputs": [
        {
          "output_type": "stream",
          "name": "stdout",
          "text": [
            "Successfully submitted to LaboI 2025 Rosario Gerencial \n",
            "Successfully submitted to LaboI 2025 Rosario Gerencial \n",
            "Successfully submitted to LaboI 2025 Rosario Gerencial \n",
            "Successfully submitted to LaboI 2025 Rosario Gerencial \n",
            "Successfully submitted to LaboI 2025 Rosario Gerencial \n",
            "Successfully submitted to LaboI 2025 Rosario Gerencial \n",
            "Successfully submitted to LaboI 2025 Rosario Gerencial \n",
            "Successfully submitted to LaboI 2025 Rosario Gerencial \n",
            "Successfully submitted to LaboI 2025 Rosario Gerencial \n",
            "Successfully submitted to LaboI 2025 Rosario Gerencial \n",
            "Successfully submitted to LaboI 2025 Rosario Gerencial \n",
            "Successfully submitted to LaboI 2025 Rosario Gerencial \n",
            "Successfully submitted to LaboI 2025 Rosario Gerencial \n",
            "Successfully submitted to LaboI 2025 Rosario Gerencial \n"
          ]
        },
        {
          "output_type": "stream",
          "name": "stderr",
          "text": [
            "Warning message in system(linea, intern = TRUE):\n",
            "“running command 'kaggle competitions submit -c labo-i-2025-rosario-gerencial -f ./kaggle/KASfinala_s50_1190.csv -m 'envios=1190  semilla=888877'' had status 1”\n"
          ]
        },
        {
          "output_type": "stream",
          "name": "stdout",
          "text": [
            "429 Client Error: Too Many Requests for url: https://www.kaggle.com/api/v1/competitions/submissions/submit/labo-i-2025-rosario-gerencial \n"
          ]
        },
        {
          "output_type": "stream",
          "name": "stderr",
          "text": [
            "Warning message in system(linea, intern = TRUE):\n",
            "“running command 'kaggle competitions submit -c labo-i-2025-rosario-gerencial -f ./kaggle/KASfinala_s50_1200.csv -m 'envios=1200  semilla=888877'' had status 1”\n"
          ]
        },
        {
          "output_type": "stream",
          "name": "stdout",
          "text": [
            "429 Client Error: Too Many Requests for url: https://www.kaggle.com/api/v1/competitions/submissions/submit/labo-i-2025-rosario-gerencial \n"
          ]
        }
      ],
      "source": [
        "# genero archivos con los  \"envios\" mejores\n",
        "# suba TODOS los archivos a Kaggle\n",
        "\n",
        "PARAM$kaggle$competencia <- \"labo-i-2025-rosario-gerencial\"\n",
        "PARAM$kaggle$cortes <- seq(1050, 1200, by = 10)\n",
        "\n",
        "# ordeno por probabilidad descendente\n",
        "setorder(tb_prediccion, -prob)\n",
        "\n",
        "dir.create(\"kaggle\")\n",
        "\n",
        "for (envios in PARAM$kaggle$cortes) {\n",
        "\n",
        "  tb_prediccion[, Predicted := 0L] # seteo inicial a 0\n",
        "  tb_prediccion[1:envios, Predicted := 1L] # marclo los primeros\n",
        "\n",
        "  archivo_kaggle <- paste0(\n",
        "    \"./kaggle/KAS\",\n",
        "    PARAM$experimento, \"_\",\n",
        "    \"s\", length(PARAM$FT$semillas), \"_\",\n",
        "    envios, \".csv\"\n",
        "  )\n",
        "\n",
        "  # grabo el archivo\n",
        "  fwrite(tb_prediccion[, list(numero_de_cliente, Predicted)],\n",
        "    file= archivo_kaggle,\n",
        "    sep= \",\"\n",
        "  )\n",
        "\n",
        "  # subida a Kaggle, armo la linea de comando\n",
        "  comando <- \"kaggle competitions submit\"\n",
        "  competencia <- paste(\"-c\", PARAM$kaggle$competencia)\n",
        "  arch <- paste( \"-f\", archivo_kaggle)\n",
        "\n",
        "  mensaje <- paste0(\"-m 'envios=\", envios,\n",
        "  \"  semilla=\", PARAM$semilla_primigenia,\n",
        "  \"'\" )\n",
        "\n",
        "  linea <- paste( comando, competencia, arch, mensaje)\n",
        "\n",
        "  salida <- system(linea, intern=TRUE) # el submit a Kaggle\n",
        "  cat(salida, \"\\n\")\n",
        "}"
      ]
    },
    {
      "cell_type": "code",
      "execution_count": null,
      "id": "C94tK-xid6p2",
      "metadata": {
        "id": "C94tK-xid6p2"
      },
      "outputs": [],
      "source": [
        "# grabo los parametros\n",
        "if( !require(\"yaml\")) install.packages(\"yaml\")\n",
        "require(\"yaml\")\n",
        "\n",
        "write_yaml( PARAM, file=\"PARAM.yml\")"
      ]
    },
    {
      "cell_type": "code",
      "execution_count": null,
      "id": "1b615a62-20cc-4e95-9af2-6b6db38d5efb",
      "metadata": {
        "id": "1b615a62-20cc-4e95-9af2-6b6db38d5efb",
        "colab": {
          "base_uri": "https://localhost:8080/",
          "height": 34
        },
        "outputId": "ad31d291-f67f-47d8-b096-a42bfb24b493"
      },
      "outputs": [
        {
          "output_type": "display_data",
          "data": {
            "text/html": [
              "'Mon Jul 21 12:15:24 AM 2025'"
            ],
            "text/markdown": "'Mon Jul 21 12:15:24 AM 2025'",
            "text/latex": "'Mon Jul 21 12:15:24 AM 2025'",
            "text/plain": [
              "[1] \"Mon Jul 21 12:15:24 AM 2025\""
            ]
          },
          "metadata": {}
        }
      ],
      "source": [
        "format(Sys.time(), \"%a %b %d %X %Y\")"
      ]
    }
  ],
  "metadata": {
    "colab": {
      "provenance": []
    },
    "kernelspec": {
      "display_name": "R",
      "name": "ir"
    },
    "language_info": {
      "name": "R"
    }
  },
  "nbformat": 4,
  "nbformat_minor": 5
}